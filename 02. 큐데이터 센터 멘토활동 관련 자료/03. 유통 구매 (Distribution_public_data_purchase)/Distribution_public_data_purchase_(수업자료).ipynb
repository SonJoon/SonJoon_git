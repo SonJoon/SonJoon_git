{
  "cells": [
    {
      "cell_type": "markdown",
      "id": "379958ec",
      "metadata": {
        "id": "379958ec"
      },
      "source": [
        "## '유통데이터 서비스 플랫폼'에서 제공하는 데이터를 분석하여 인사이트 찾기\n",
        "\n",
        "## 우선 제공되는 데이터는 '구매 데이터' 입니다.\n",
        "\n",
        "이번 유통데이터 활용 경진대회는 데이터분석에 관심있는 누구나 참가하여 자유주제로 유통데이터를 분석해보시면 됩니다.\n",
        "\n",
        "## 컬럼설명\n",
        "\n",
        "* **ID** - 구매 건 별 Identifier\n",
        "* **Order_ID** - 주문번호\n",
        "* **User_ID** - 사용자 Identifier\n",
        "* **Purchase_Data** - 구매 날짜\n",
        "* **Period** - 구매한 주 차 표시\n",
        "* **Retailer** - 리테일러 (?) **ex) A, B, C**\n",
        "* **ProductCode** - 마트에서 부여한 상품코드(바코드, 또는 마트 자체에서 부여한 번호)\n",
        "* **Item_Description** - 상품명\n",
        "* **Option** - 상품 옵션\n",
        "* **Sales_Unit** - 상품을 구매한 개수\n",
        "* **Price** - 상품의 개당 가격\n",
        "* **Agegroup** - 연령대 **10,20,30,40**\n",
        "* **Gender** - 성별\n",
        "* **MasterProductNo** - 매칭된 마스터 상품번호\n",
        "* **MasterProductName** - 매칭된 마스터 상품명\n",
        "* **MasterCategoryFullNo** - 마스터 카테고리 코드\n",
        "* **MasterCategoryFullName** -마스터 카테고리 이름"
      ]
    },
    {
      "cell_type": "code",
      "execution_count": null,
      "id": "b12cbbbc",
      "metadata": {
        "id": "b12cbbbc"
      },
      "outputs": [],
      "source": [
        "# 파이썬의 데이터 분석 패키지\n",
        "#Pandas(pandas.pydata.org) 를 읽어옵니다.\n",
        "# Pandas는 쉽게 말해 파이썬으로 엑셀을 다룰 수 있는 툴이라고 보시면 됩니다.\n",
        "# 이 패키지를 앞으로는 pd라는 축약어로 사용하겠습니다.\n",
        "import pandas as pd"
      ]
    },
    {
      "cell_type": "markdown",
      "id": "ca6d2fff",
      "metadata": {
        "id": "ca6d2fff"
      },
      "source": [
        " ## Load Dataset\n",
        "\n",
        "언제나처럼 모든 데이터 분석의 시작은 주어진 데이터를 읽어오는 것입니다. [판다스(Pandas)](https://pandas.pydata.org/)의 [read_csv](https://pandas.pydata.org/pandas-docs/stable/generated/pandas.read_csv.html)를 활용하여 유통데이터의 '카드결제 제공데이터를 불러옵니다.\n",
        "\n",
        "앞서 [Titanic: Machine Learning from Disaster](https://www.kaggle.com/c/titanic/) 경진대회와 마찬가지로, 여기에서도 파일의 경로를 지정하는 방법에 주의하셔야 합니다. 만일 read_csv를 실행할 때 (**FileNotFoundError**)라는 이름의 에러가 난다면 경로가 제대로 지정이 되지 않은 것입니다. **파일의 경로를 지정하는 법이 생각나지 않는다면 [다음의 링크](http://88240.tistory.com/122)를 통해 경로를 지정하는 법을 복습한 뒤 다시 시도해주세요.**\n",
        "\n",
        " ## 데이터 전처리\n",
        "\n",
        " 제공받은 데이터를 보니 지난시간에 배웠던 날짜데이터에 전처리 할 필요성을 느꼈습니다. 일단 해당 데이터는 구매 정보를 분석하는데 목표가 있음으로 년도 그리고 달, 요일 정도까지만 데이터를 나누어 두는 것이 좋을듯 합니다."
      ]
    },
    {
      "cell_type": "code",
      "execution_count": null,
      "id": "d1511298",
      "metadata": {
        "scrolled": false,
        "id": "d1511298",
        "outputId": "5a9baa67-b292-4c5b-bc1e-8846db078524"
      },
      "outputs": [
        {
          "name": "stdout",
          "output_type": "stream",
          "text": [
            "(39620, 16)\n"
          ]
        },
        {
          "name": "stderr",
          "output_type": "stream",
          "text": [
            "/var/folders/gd/qjvc9t0x0xx1kb9b1zy47vk00000gn/T/ipykernel_1199/2922991914.py:1: DtypeWarning: Columns (6) have mixed types. Specify dtype option on import or set low_memory=False.\n",
            "  purchase = pd.read_csv(\"data/Purchase_Transaction.csv\",encoding='cp949')\n"
          ]
        },
        {
          "data": {
            "text/html": [
              "<div>\n",
              "<style scoped>\n",
              "    .dataframe tbody tr th:only-of-type {\n",
              "        vertical-align: middle;\n",
              "    }\n",
              "\n",
              "    .dataframe tbody tr th {\n",
              "        vertical-align: top;\n",
              "    }\n",
              "\n",
              "    .dataframe thead th {\n",
              "        text-align: right;\n",
              "    }\n",
              "</style>\n",
              "<table border=\"1\" class=\"dataframe\">\n",
              "  <thead>\n",
              "    <tr style=\"text-align: right;\">\n",
              "      <th></th>\n",
              "      <th>id</th>\n",
              "      <th>Order_Id</th>\n",
              "      <th>User_Id</th>\n",
              "      <th>Purchase_Date</th>\n",
              "      <th>Period</th>\n",
              "      <th>Retailer</th>\n",
              "      <th>ProductCode</th>\n",
              "      <th>Item_Description</th>\n",
              "      <th>Sales_Unit</th>\n",
              "      <th>Price</th>\n",
              "      <th>Agegroup</th>\n",
              "      <th>Gender</th>\n",
              "      <th>MasterProdcutNo</th>\n",
              "      <th>MasterProdcutName</th>\n",
              "      <th>MasterCategoryFullNo</th>\n",
              "      <th>MasterCategoryFullName</th>\n",
              "      <th>Purchase_Date-year</th>\n",
              "      <th>Purchase_Date-month</th>\n",
              "      <th>datetime_dayofweek</th>\n",
              "      <th>datetime-dayofweek(int)</th>\n",
              "    </tr>\n",
              "  </thead>\n",
              "  <tbody>\n",
              "    <tr>\n",
              "      <th>0</th>\n",
              "      <td>95717</td>\n",
              "      <td>3475eb780c3eeac686a75a00b6b46257</td>\n",
              "      <td>d41d8cd98f00b204e9800998ecf8427e</td>\n",
              "      <td>2019-01-18</td>\n",
              "      <td>20190103</td>\n",
              "      <td>A</td>\n",
              "      <td>2019011861178490</td>\n",
              "      <td>우리가 보낸 가장 긴 밤</td>\n",
              "      <td>1</td>\n",
              "      <td>12400</td>\n",
              "      <td>60</td>\n",
              "      <td>M</td>\n",
              "      <td>2019011861178490</td>\n",
              "      <td>우리가 보낸 가장 긴 밤</td>\n",
              "      <td>C001002700080009</td>\n",
              "      <td>문구 · 취미 · 자동차용품-&gt;도서 · 퍼즐-&gt;시 · 에세이</td>\n",
              "      <td>2019</td>\n",
              "      <td>1</td>\n",
              "      <td>Friday</td>\n",
              "      <td>4</td>\n",
              "    </tr>\n",
              "    <tr>\n",
              "      <th>1</th>\n",
              "      <td>95718</td>\n",
              "      <td>3475eb780c3eeac686a75a00b6b46257</td>\n",
              "      <td>981ac26310e4d1ab74ae250b71fb1bbe</td>\n",
              "      <td>2019-01-18</td>\n",
              "      <td>20190103</td>\n",
              "      <td>A</td>\n",
              "      <td>2019011861178490</td>\n",
              "      <td>우리가 보낸 가장 긴 밤</td>\n",
              "      <td>1</td>\n",
              "      <td>12400</td>\n",
              "      <td>30</td>\n",
              "      <td>M</td>\n",
              "      <td>2019011861178490</td>\n",
              "      <td>우리가 보낸 가장 긴 밤</td>\n",
              "      <td>C001002700080009</td>\n",
              "      <td>문구 · 취미 · 자동차용품-&gt;도서 · 퍼즐-&gt;시 · 에세이</td>\n",
              "      <td>2019</td>\n",
              "      <td>1</td>\n",
              "      <td>Friday</td>\n",
              "      <td>4</td>\n",
              "    </tr>\n",
              "    <tr>\n",
              "      <th>3</th>\n",
              "      <td>95723</td>\n",
              "      <td>129cb9a1a99323fac25a823772be46bf</td>\n",
              "      <td>981ac26310e4d1ab74ae250b71fb1bbe</td>\n",
              "      <td>2019-09-02</td>\n",
              "      <td>20190136</td>\n",
              "      <td>C</td>\n",
              "      <td>8801114131466</td>\n",
              "      <td>풀무원 옛두부 300g*2</td>\n",
              "      <td>1</td>\n",
              "      <td>4300</td>\n",
              "      <td>30</td>\n",
              "      <td>M</td>\n",
              "      <td>8801114131466</td>\n",
              "      <td>풀무원 옛두부(300G*2입)</td>\n",
              "      <td>C001001200110002</td>\n",
              "      <td>채소-&gt;두부 · 콩나물 · 나또-&gt;부침용 두부</td>\n",
              "      <td>2019</td>\n",
              "      <td>9</td>\n",
              "      <td>Monday</td>\n",
              "      <td>0</td>\n",
              "    </tr>\n",
              "    <tr>\n",
              "      <th>4</th>\n",
              "      <td>95724</td>\n",
              "      <td>64453d5c2038f67ee4b87ed1c1213304</td>\n",
              "      <td>981ac26310e4d1ab74ae250b71fb1bbe</td>\n",
              "      <td>2019-09-02</td>\n",
              "      <td>20190136</td>\n",
              "      <td>C</td>\n",
              "      <td>1208550099803</td>\n",
              "      <td>프리미엄생연어초밥</td>\n",
              "      <td>2</td>\n",
              "      <td>10000</td>\n",
              "      <td>30</td>\n",
              "      <td>M</td>\n",
              "      <td>1208550099803</td>\n",
              "      <td>프리미엄생연어초밥</td>\n",
              "      <td>C001004000080002</td>\n",
              "      <td>치킨 · 초밥 · 베이커리-&gt;김밥 · 초밥 · 샐러드-&gt;김밥 · 초밥 · 도시락</td>\n",
              "      <td>2019</td>\n",
              "      <td>9</td>\n",
              "      <td>Monday</td>\n",
              "      <td>0</td>\n",
              "    </tr>\n",
              "    <tr>\n",
              "      <th>5</th>\n",
              "      <td>95725</td>\n",
              "      <td>1501590f2e9f4c521f1d6f0337276621</td>\n",
              "      <td>981ac26310e4d1ab74ae250b71fb1bbe</td>\n",
              "      <td>2019-09-02</td>\n",
              "      <td>20190136</td>\n",
              "      <td>C</td>\n",
              "      <td>2500000119125</td>\n",
              "      <td>완숙토마토6~8입/팩</td>\n",
              "      <td>1</td>\n",
              "      <td>5000</td>\n",
              "      <td>30</td>\n",
              "      <td>M</td>\n",
              "      <td>2500000119125</td>\n",
              "      <td>완숙토마토6~8입/팩</td>\n",
              "      <td>C001001300050001</td>\n",
              "      <td>과일-&gt;토마토 · 수박 · 참외 · 메론-&gt;토마토</td>\n",
              "      <td>2019</td>\n",
              "      <td>9</td>\n",
              "      <td>Monday</td>\n",
              "      <td>0</td>\n",
              "    </tr>\n",
              "  </tbody>\n",
              "</table>\n",
              "</div>"
            ],
            "text/plain": [
              "      id                          Order_Id                           User_Id  \\\n",
              "0  95717  3475eb780c3eeac686a75a00b6b46257  d41d8cd98f00b204e9800998ecf8427e   \n",
              "1  95718  3475eb780c3eeac686a75a00b6b46257  981ac26310e4d1ab74ae250b71fb1bbe   \n",
              "3  95723  129cb9a1a99323fac25a823772be46bf  981ac26310e4d1ab74ae250b71fb1bbe   \n",
              "4  95724  64453d5c2038f67ee4b87ed1c1213304  981ac26310e4d1ab74ae250b71fb1bbe   \n",
              "5  95725  1501590f2e9f4c521f1d6f0337276621  981ac26310e4d1ab74ae250b71fb1bbe   \n",
              "\n",
              "  Purchase_Date    Period Retailer       ProductCode Item_Description  \\\n",
              "0    2019-01-18  20190103        A  2019011861178490    우리가 보낸 가장 긴 밤   \n",
              "1    2019-01-18  20190103        A  2019011861178490    우리가 보낸 가장 긴 밤   \n",
              "3    2019-09-02  20190136        C     8801114131466   풀무원 옛두부 300g*2   \n",
              "4    2019-09-02  20190136        C     1208550099803        프리미엄생연어초밥   \n",
              "5    2019-09-02  20190136        C     2500000119125      완숙토마토6~8입/팩   \n",
              "\n",
              "   Sales_Unit  Price  Agegroup Gender   MasterProdcutNo MasterProdcutName  \\\n",
              "0           1  12400        60      M  2019011861178490     우리가 보낸 가장 긴 밤   \n",
              "1           1  12400        30      M  2019011861178490     우리가 보낸 가장 긴 밤   \n",
              "3           1   4300        30      M     8801114131466  풀무원 옛두부(300G*2입)   \n",
              "4           2  10000        30      M     1208550099803         프리미엄생연어초밥   \n",
              "5           1   5000        30      M     2500000119125       완숙토마토6~8입/팩   \n",
              "\n",
              "  MasterCategoryFullNo                        MasterCategoryFullName  \\\n",
              "0     C001002700080009             문구 · 취미 · 자동차용품->도서 · 퍼즐->시 · 에세이   \n",
              "1     C001002700080009             문구 · 취미 · 자동차용품->도서 · 퍼즐->시 · 에세이   \n",
              "3     C001001200110002                     채소->두부 · 콩나물 · 나또->부침용 두부   \n",
              "4     C001004000080002  치킨 · 초밥 · 베이커리->김밥 · 초밥 · 샐러드->김밥 · 초밥 · 도시락   \n",
              "5     C001001300050001                   과일->토마토 · 수박 · 참외 · 메론->토마토   \n",
              "\n",
              "   Purchase_Date-year  Purchase_Date-month datetime_dayofweek  \\\n",
              "0                2019                    1             Friday   \n",
              "1                2019                    1             Friday   \n",
              "3                2019                    9             Monday   \n",
              "4                2019                    9             Monday   \n",
              "5                2019                    9             Monday   \n",
              "\n",
              "   datetime-dayofweek(int)  \n",
              "0                        4  \n",
              "1                        4  \n",
              "3                        0  \n",
              "4                        0  \n",
              "5                        0  "
            ]
          },
          "execution_count": 24,
          "metadata": {},
          "output_type": "execute_result"
        }
      ],
      "source": [
        "purchase = pd.read_csv(\"data/Purchase_Transaction.csv\",encoding='cp949')\n",
        "print(purchase. shape)\n",
        "purchase[[\"id\", \"Order_Id\",\"Purchase_Date\",\"Period\"]]\n",
        "purchase['Purchase_Date'] = pd.to_datetime(purchase['Purchase_Date'])\n",
        "purchase['Purchase_Date-year'] = purchase['Purchase_Date'].dt.year\n",
        "purchase['Purchase_Date-month'] = purchase['Purchase_Date'].dt.month\n",
        "purchase['datetime_dayofweek'] = purchase['Purchase_Date'].dt.day_name()\n",
        "purchase[\"datetime-dayofweek(int)\"] = purchase['Purchase_Date'].dt.dayofweek\n",
        "purchase.drop(2,inplace=True)\n",
        "purchase.head()\n"
      ]
    },
    {
      "cell_type": "code",
      "execution_count": null,
      "id": "79e248e4",
      "metadata": {
        "id": "79e248e4"
      },
      "outputs": [],
      "source": [
        "# matplotlib로 실행하는 모든 시각화를 자동으로 쥬피터 노트북에 띄웁니다.\n",
        "# seaborn 도 결국에는 matplotlib를 기반으로 동작하기 때문에, seaborn으로 실행하는 모든 시각화도 마찬가지로 쥬피터 노트북에 자동적으로 띄워집니다.\n",
        "%matplotlib inline\n",
        "\n",
        "# 데이터 시각화 패키지 seaborn을 로딩합니다. 앞으로는 줄여서 sns라고 사용할 것입니다.\n",
        "import seaborn as sns\n",
        "\n",
        "# 데이터 시각화 패키지 matplotlib를 로딩합니다. 앞으로는 줄여서 plt라고 사용할 것입니다.\n",
        "import matplotlib.pyplot as plt"
      ]
    },
    {
      "cell_type": "code",
      "execution_count": null,
      "id": "46b4d2a9",
      "metadata": {
        "id": "46b4d2a9",
        "outputId": "8325b997-b7a8-49cb-aa53-2f4b3fecc6cb"
      },
      "outputs": [
        {
          "data": {
            "text/html": [
              "<div>\n",
              "<style scoped>\n",
              "    .dataframe tbody tr th:only-of-type {\n",
              "        vertical-align: middle;\n",
              "    }\n",
              "\n",
              "    .dataframe tbody tr th {\n",
              "        vertical-align: top;\n",
              "    }\n",
              "\n",
              "    .dataframe thead th {\n",
              "        text-align: right;\n",
              "    }\n",
              "</style>\n",
              "<table border=\"1\" class=\"dataframe\">\n",
              "  <thead>\n",
              "    <tr style=\"text-align: right;\">\n",
              "      <th></th>\n",
              "      <th>id</th>\n",
              "      <th>Order_Id</th>\n",
              "      <th>User_Id</th>\n",
              "      <th>Purchase_Date</th>\n",
              "      <th>Period</th>\n",
              "      <th>Retailer</th>\n",
              "      <th>ProductCode</th>\n",
              "      <th>Item_Description</th>\n",
              "      <th>Sales_Unit</th>\n",
              "      <th>Price</th>\n",
              "      <th>Agegroup</th>\n",
              "      <th>Gender</th>\n",
              "      <th>MasterProdcutNo</th>\n",
              "      <th>MasterProdcutName</th>\n",
              "      <th>MasterCategoryFullNo</th>\n",
              "      <th>MasterCategoryFullName</th>\n",
              "      <th>Purchase_Date-year</th>\n",
              "      <th>Purchase_Date-month</th>\n",
              "      <th>datetime_dayofweek</th>\n",
              "      <th>datetime-dayofweek(int)</th>\n",
              "    </tr>\n",
              "  </thead>\n",
              "  <tbody>\n",
              "    <tr>\n",
              "      <th>0</th>\n",
              "      <td>95717</td>\n",
              "      <td>3475eb780c3eeac686a75a00b6b46257</td>\n",
              "      <td>d41d8cd98f00b204e9800998ecf8427e</td>\n",
              "      <td>2019-01-18</td>\n",
              "      <td>20190103</td>\n",
              "      <td>A</td>\n",
              "      <td>2019011861178490</td>\n",
              "      <td>우리가 보낸 가장 긴 밤</td>\n",
              "      <td>1</td>\n",
              "      <td>12400</td>\n",
              "      <td>60</td>\n",
              "      <td>M</td>\n",
              "      <td>2019011861178490</td>\n",
              "      <td>우리가 보낸 가장 긴 밤</td>\n",
              "      <td>C001002700080009</td>\n",
              "      <td>문구 · 취미 · 자동차용품-&gt;도서 · 퍼즐-&gt;시 · 에세이</td>\n",
              "      <td>2019</td>\n",
              "      <td>1</td>\n",
              "      <td>Friday</td>\n",
              "      <td>4</td>\n",
              "    </tr>\n",
              "    <tr>\n",
              "      <th>1</th>\n",
              "      <td>95718</td>\n",
              "      <td>3475eb780c3eeac686a75a00b6b46257</td>\n",
              "      <td>981ac26310e4d1ab74ae250b71fb1bbe</td>\n",
              "      <td>2019-01-18</td>\n",
              "      <td>20190103</td>\n",
              "      <td>A</td>\n",
              "      <td>2019011861178490</td>\n",
              "      <td>우리가 보낸 가장 긴 밤</td>\n",
              "      <td>1</td>\n",
              "      <td>12400</td>\n",
              "      <td>30</td>\n",
              "      <td>M</td>\n",
              "      <td>2019011861178490</td>\n",
              "      <td>우리가 보낸 가장 긴 밤</td>\n",
              "      <td>C001002700080009</td>\n",
              "      <td>문구 · 취미 · 자동차용품-&gt;도서 · 퍼즐-&gt;시 · 에세이</td>\n",
              "      <td>2019</td>\n",
              "      <td>1</td>\n",
              "      <td>Friday</td>\n",
              "      <td>4</td>\n",
              "    </tr>\n",
              "    <tr>\n",
              "      <th>3</th>\n",
              "      <td>95723</td>\n",
              "      <td>129cb9a1a99323fac25a823772be46bf</td>\n",
              "      <td>981ac26310e4d1ab74ae250b71fb1bbe</td>\n",
              "      <td>2019-09-02</td>\n",
              "      <td>20190136</td>\n",
              "      <td>C</td>\n",
              "      <td>8801114131466</td>\n",
              "      <td>풀무원 옛두부 300g*2</td>\n",
              "      <td>1</td>\n",
              "      <td>4300</td>\n",
              "      <td>30</td>\n",
              "      <td>M</td>\n",
              "      <td>8801114131466</td>\n",
              "      <td>풀무원 옛두부(300G*2입)</td>\n",
              "      <td>C001001200110002</td>\n",
              "      <td>채소-&gt;두부 · 콩나물 · 나또-&gt;부침용 두부</td>\n",
              "      <td>2019</td>\n",
              "      <td>9</td>\n",
              "      <td>Monday</td>\n",
              "      <td>0</td>\n",
              "    </tr>\n",
              "    <tr>\n",
              "      <th>4</th>\n",
              "      <td>95724</td>\n",
              "      <td>64453d5c2038f67ee4b87ed1c1213304</td>\n",
              "      <td>981ac26310e4d1ab74ae250b71fb1bbe</td>\n",
              "      <td>2019-09-02</td>\n",
              "      <td>20190136</td>\n",
              "      <td>C</td>\n",
              "      <td>1208550099803</td>\n",
              "      <td>프리미엄생연어초밥</td>\n",
              "      <td>2</td>\n",
              "      <td>10000</td>\n",
              "      <td>30</td>\n",
              "      <td>M</td>\n",
              "      <td>1208550099803</td>\n",
              "      <td>프리미엄생연어초밥</td>\n",
              "      <td>C001004000080002</td>\n",
              "      <td>치킨 · 초밥 · 베이커리-&gt;김밥 · 초밥 · 샐러드-&gt;김밥 · 초밥 · 도시락</td>\n",
              "      <td>2019</td>\n",
              "      <td>9</td>\n",
              "      <td>Monday</td>\n",
              "      <td>0</td>\n",
              "    </tr>\n",
              "    <tr>\n",
              "      <th>5</th>\n",
              "      <td>95725</td>\n",
              "      <td>1501590f2e9f4c521f1d6f0337276621</td>\n",
              "      <td>981ac26310e4d1ab74ae250b71fb1bbe</td>\n",
              "      <td>2019-09-02</td>\n",
              "      <td>20190136</td>\n",
              "      <td>C</td>\n",
              "      <td>2500000119125</td>\n",
              "      <td>완숙토마토6~8입/팩</td>\n",
              "      <td>1</td>\n",
              "      <td>5000</td>\n",
              "      <td>30</td>\n",
              "      <td>M</td>\n",
              "      <td>2500000119125</td>\n",
              "      <td>완숙토마토6~8입/팩</td>\n",
              "      <td>C001001300050001</td>\n",
              "      <td>과일-&gt;토마토 · 수박 · 참외 · 메론-&gt;토마토</td>\n",
              "      <td>2019</td>\n",
              "      <td>9</td>\n",
              "      <td>Monday</td>\n",
              "      <td>0</td>\n",
              "    </tr>\n",
              "  </tbody>\n",
              "</table>\n",
              "</div>"
            ],
            "text/plain": [
              "      id                          Order_Id                           User_Id  \\\n",
              "0  95717  3475eb780c3eeac686a75a00b6b46257  d41d8cd98f00b204e9800998ecf8427e   \n",
              "1  95718  3475eb780c3eeac686a75a00b6b46257  981ac26310e4d1ab74ae250b71fb1bbe   \n",
              "3  95723  129cb9a1a99323fac25a823772be46bf  981ac26310e4d1ab74ae250b71fb1bbe   \n",
              "4  95724  64453d5c2038f67ee4b87ed1c1213304  981ac26310e4d1ab74ae250b71fb1bbe   \n",
              "5  95725  1501590f2e9f4c521f1d6f0337276621  981ac26310e4d1ab74ae250b71fb1bbe   \n",
              "\n",
              "  Purchase_Date    Period Retailer       ProductCode Item_Description  \\\n",
              "0    2019-01-18  20190103        A  2019011861178490    우리가 보낸 가장 긴 밤   \n",
              "1    2019-01-18  20190103        A  2019011861178490    우리가 보낸 가장 긴 밤   \n",
              "3    2019-09-02  20190136        C     8801114131466   풀무원 옛두부 300g*2   \n",
              "4    2019-09-02  20190136        C     1208550099803        프리미엄생연어초밥   \n",
              "5    2019-09-02  20190136        C     2500000119125      완숙토마토6~8입/팩   \n",
              "\n",
              "   Sales_Unit  Price  Agegroup Gender   MasterProdcutNo MasterProdcutName  \\\n",
              "0           1  12400        60      M  2019011861178490     우리가 보낸 가장 긴 밤   \n",
              "1           1  12400        30      M  2019011861178490     우리가 보낸 가장 긴 밤   \n",
              "3           1   4300        30      M     8801114131466  풀무원 옛두부(300G*2입)   \n",
              "4           2  10000        30      M     1208550099803         프리미엄생연어초밥   \n",
              "5           1   5000        30      M     2500000119125       완숙토마토6~8입/팩   \n",
              "\n",
              "  MasterCategoryFullNo                        MasterCategoryFullName  \\\n",
              "0     C001002700080009             문구 · 취미 · 자동차용품->도서 · 퍼즐->시 · 에세이   \n",
              "1     C001002700080009             문구 · 취미 · 자동차용품->도서 · 퍼즐->시 · 에세이   \n",
              "3     C001001200110002                     채소->두부 · 콩나물 · 나또->부침용 두부   \n",
              "4     C001004000080002  치킨 · 초밥 · 베이커리->김밥 · 초밥 · 샐러드->김밥 · 초밥 · 도시락   \n",
              "5     C001001300050001                   과일->토마토 · 수박 · 참외 · 메론->토마토   \n",
              "\n",
              "   Purchase_Date-year  Purchase_Date-month datetime_dayofweek  \\\n",
              "0                2019                    1             Friday   \n",
              "1                2019                    1             Friday   \n",
              "3                2019                    9             Monday   \n",
              "4                2019                    9             Monday   \n",
              "5                2019                    9             Monday   \n",
              "\n",
              "   datetime-dayofweek(int)  \n",
              "0                        4  \n",
              "1                        4  \n",
              "3                        0  \n",
              "4                        0  \n",
              "5                        0  "
            ]
          },
          "execution_count": 27,
          "metadata": {},
          "output_type": "execute_result"
        }
      ],
      "source": [
        "#두번째 열에 있었던 Nan 값을 날렸더니 훨씬 깨끗한 데이터가 된것 같습니다. Agegroup 에 2020으로 표기되었던 내용도 함께 날라 간것을 알 수 있습니다.\n",
        "#purchase.drop(2,inplace=True)\n",
        "purchase.head()"
      ]
    },
    {
      "cell_type": "code",
      "execution_count": null,
      "id": "53ab9cbd",
      "metadata": {
        "id": "53ab9cbd",
        "outputId": "ac088b0f-9b95-4130-f32a-037fcbcef556"
      },
      "outputs": [
        {
          "data": {
            "text/plain": [
              "(39619, 20)"
            ]
          },
          "execution_count": 48,
          "metadata": {},
          "output_type": "execute_result"
        }
      ],
      "source": [
        "purchase.shape"
      ]
    },
    {
      "cell_type": "code",
      "execution_count": null,
      "id": "203d6305",
      "metadata": {
        "id": "203d6305",
        "outputId": "dae19840-81a6-41f5-f761-f0a75c36d19a"
      },
      "outputs": [
        {
          "name": "stdout",
          "output_type": "stream",
          "text": [
            "<class 'pandas.core.frame.DataFrame'>\n",
            "Int64Index: 39619 entries, 0 to 39619\n",
            "Data columns (total 20 columns):\n",
            " #   Column                   Non-Null Count  Dtype         \n",
            "---  ------                   --------------  -----         \n",
            " 0   id                       39619 non-null  int64         \n",
            " 1   Order_Id                 39619 non-null  object        \n",
            " 2   User_Id                  39619 non-null  object        \n",
            " 3   Purchase_Date            39619 non-null  datetime64[ns]\n",
            " 4   Period                   39619 non-null  int64         \n",
            " 5   Retailer                 39619 non-null  object        \n",
            " 6   ProductCode              39619 non-null  object        \n",
            " 7   Item_Description         39619 non-null  object        \n",
            " 8   Sales_Unit               39619 non-null  int64         \n",
            " 9   Price                    39619 non-null  int64         \n",
            " 10  Agegroup                 39619 non-null  int64         \n",
            " 11  Gender                   39619 non-null  object        \n",
            " 12  MasterProdcutNo          39619 non-null  object        \n",
            " 13  MasterProdcutName        39619 non-null  object        \n",
            " 14  MasterCategoryFullNo     39619 non-null  object        \n",
            " 15  MasterCategoryFullName   39619 non-null  object        \n",
            " 16  Purchase_Date-year       39619 non-null  int64         \n",
            " 17  Purchase_Date-month      39619 non-null  int64         \n",
            " 18  datetime_dayofweek       39619 non-null  object        \n",
            " 19  datetime-dayofweek(int)  39619 non-null  int64         \n",
            "dtypes: datetime64[ns](1), int64(8), object(11)\n",
            "memory usage: 6.3+ MB\n"
          ]
        }
      ],
      "source": [
        "#데이터 전처리를 위해서 NaN값의 내용을 확인 합니다. 대체적으로 데이터에 빈 값은 없으나 Gender 컬럼에 NaN 값이 있음을 발견했습니다.\n",
        "#위의 내용을 적용하니 NaN 값이 없음을 확인했습니다.\n",
        "purchase.info()\n"
      ]
    },
    {
      "cell_type": "code",
      "execution_count": null,
      "id": "901e3ada",
      "metadata": {
        "id": "901e3ada",
        "outputId": "20b13f31-c60e-4674-f0f8-3536139bf985"
      },
      "outputs": [
        {
          "data": {
            "text/html": [
              "<div>\n",
              "<style scoped>\n",
              "    .dataframe tbody tr th:only-of-type {\n",
              "        vertical-align: middle;\n",
              "    }\n",
              "\n",
              "    .dataframe tbody tr th {\n",
              "        vertical-align: top;\n",
              "    }\n",
              "\n",
              "    .dataframe thead th {\n",
              "        text-align: right;\n",
              "    }\n",
              "</style>\n",
              "<table border=\"1\" class=\"dataframe\">\n",
              "  <thead>\n",
              "    <tr style=\"text-align: right;\">\n",
              "      <th></th>\n",
              "      <th>User_Id</th>\n",
              "      <th>Agegroup</th>\n",
              "      <th>Gender</th>\n",
              "    </tr>\n",
              "  </thead>\n",
              "  <tbody>\n",
              "    <tr>\n",
              "      <th>0</th>\n",
              "      <td>d41d8cd98f00b204e9800998ecf8427e</td>\n",
              "      <td>60</td>\n",
              "      <td>M</td>\n",
              "    </tr>\n",
              "    <tr>\n",
              "      <th>1</th>\n",
              "      <td>981ac26310e4d1ab74ae250b71fb1bbe</td>\n",
              "      <td>30</td>\n",
              "      <td>M</td>\n",
              "    </tr>\n",
              "    <tr>\n",
              "      <th>3</th>\n",
              "      <td>981ac26310e4d1ab74ae250b71fb1bbe</td>\n",
              "      <td>30</td>\n",
              "      <td>M</td>\n",
              "    </tr>\n",
              "    <tr>\n",
              "      <th>4</th>\n",
              "      <td>981ac26310e4d1ab74ae250b71fb1bbe</td>\n",
              "      <td>30</td>\n",
              "      <td>M</td>\n",
              "    </tr>\n",
              "    <tr>\n",
              "      <th>5</th>\n",
              "      <td>981ac26310e4d1ab74ae250b71fb1bbe</td>\n",
              "      <td>30</td>\n",
              "      <td>M</td>\n",
              "    </tr>\n",
              "    <tr>\n",
              "      <th>...</th>\n",
              "      <td>...</td>\n",
              "      <td>...</td>\n",
              "      <td>...</td>\n",
              "    </tr>\n",
              "    <tr>\n",
              "      <th>39615</th>\n",
              "      <td>4f5fe9d41adabc2e193088c8ac032b2b</td>\n",
              "      <td>30</td>\n",
              "      <td>F</td>\n",
              "    </tr>\n",
              "    <tr>\n",
              "      <th>39616</th>\n",
              "      <td>4f5fe9d41adabc2e193088c8ac032b2b</td>\n",
              "      <td>30</td>\n",
              "      <td>F</td>\n",
              "    </tr>\n",
              "    <tr>\n",
              "      <th>39617</th>\n",
              "      <td>d15d1e2a1a19a48c63809b2b0384110c</td>\n",
              "      <td>30</td>\n",
              "      <td>F</td>\n",
              "    </tr>\n",
              "    <tr>\n",
              "      <th>39618</th>\n",
              "      <td>d15d1e2a1a19a48c63809b2b0384110c</td>\n",
              "      <td>30</td>\n",
              "      <td>F</td>\n",
              "    </tr>\n",
              "    <tr>\n",
              "      <th>39619</th>\n",
              "      <td>d15d1e2a1a19a48c63809b2b0384110c</td>\n",
              "      <td>30</td>\n",
              "      <td>F</td>\n",
              "    </tr>\n",
              "  </tbody>\n",
              "</table>\n",
              "<p>39619 rows × 3 columns</p>\n",
              "</div>"
            ],
            "text/plain": [
              "                                User_Id  Agegroup Gender\n",
              "0      d41d8cd98f00b204e9800998ecf8427e        60      M\n",
              "1      981ac26310e4d1ab74ae250b71fb1bbe        30      M\n",
              "3      981ac26310e4d1ab74ae250b71fb1bbe        30      M\n",
              "4      981ac26310e4d1ab74ae250b71fb1bbe        30      M\n",
              "5      981ac26310e4d1ab74ae250b71fb1bbe        30      M\n",
              "...                                 ...       ...    ...\n",
              "39615  4f5fe9d41adabc2e193088c8ac032b2b        30      F\n",
              "39616  4f5fe9d41adabc2e193088c8ac032b2b        30      F\n",
              "39617  d15d1e2a1a19a48c63809b2b0384110c        30      F\n",
              "39618  d15d1e2a1a19a48c63809b2b0384110c        30      F\n",
              "39619  d15d1e2a1a19a48c63809b2b0384110c        30      F\n",
              "\n",
              "[39619 rows x 3 columns]"
            ]
          },
          "execution_count": 31,
          "metadata": {},
          "output_type": "execute_result"
        }
      ],
      "source": [
        "purchase[[\"User_Id\", \"Agegroup\",\"Gender\"]]\n",
        "#User ID에 중복된 값이 있습니다. 이를 통해 중복된 값은 같은 유저로 이해할 수 있을듯 합니다.\n",
        "#중복값을 대체할 내용이 있으면 좋겠습니다. 같은 User는 1,2,3 등으로 표기해도 좋을 듯 합니다."
      ]
    },
    {
      "cell_type": "code",
      "execution_count": null,
      "id": "4e20387c",
      "metadata": {
        "id": "4e20387c",
        "outputId": "4c44534c-ab68-446e-ae35-27264ed89193"
      },
      "outputs": [
        {
          "data": {
            "text/plain": [
              "<AxesSubplot:xlabel='Agegroup', ylabel='count'>"
            ]
          },
          "execution_count": 13,
          "metadata": {},
          "output_type": "execute_result"
        },
        {
          "data": {
            "image/png": "[encoded data removed]",
            "text/plain": [
              "<Figure size 432x288 with 1 Axes>"
            ]
          },
          "metadata": {
            "needs_background": "light"
          },
          "output_type": "display_data"
        }
      ],
      "source": [
        "sns.countplot(data = purchase, x = 'Agegroup', hue = 'Gender')\n",
        "#여성의 구매력이 강함\n",
        "#주 구매층은 30~40대임\n",
        "\n",
        "#그럼 30~40대는 무엇을 주로 구매했을까? #추가 분석 필요 (남.여)"
      ]
    },
    {
      "cell_type": "code",
      "execution_count": null,
      "id": "e6c44329",
      "metadata": {
        "id": "e6c44329",
        "outputId": "a208eca4-5323-4464-8dfa-f8f042eaf984"
      },
      "outputs": [
        {
          "data": {
            "text/html": [
              "<div>\n",
              "<style scoped>\n",
              "    .dataframe tbody tr th:only-of-type {\n",
              "        vertical-align: middle;\n",
              "    }\n",
              "\n",
              "    .dataframe tbody tr th {\n",
              "        vertical-align: top;\n",
              "    }\n",
              "\n",
              "    .dataframe thead th {\n",
              "        text-align: right;\n",
              "    }\n",
              "</style>\n",
              "<table border=\"1\" class=\"dataframe\">\n",
              "  <thead>\n",
              "    <tr style=\"text-align: right;\">\n",
              "      <th></th>\n",
              "      <th>id</th>\n",
              "      <th>Order_Id</th>\n",
              "      <th>Purchase_Date</th>\n",
              "      <th>Period</th>\n",
              "      <th>Purchase_Date-month</th>\n",
              "    </tr>\n",
              "  </thead>\n",
              "  <tbody>\n",
              "    <tr>\n",
              "      <th>0</th>\n",
              "      <td>95717</td>\n",
              "      <td>3475eb780c3eeac686a75a00b6b46257</td>\n",
              "      <td>2019-01-18</td>\n",
              "      <td>20190103</td>\n",
              "      <td>1</td>\n",
              "    </tr>\n",
              "    <tr>\n",
              "      <th>1</th>\n",
              "      <td>95718</td>\n",
              "      <td>3475eb780c3eeac686a75a00b6b46257</td>\n",
              "      <td>2019-01-18</td>\n",
              "      <td>20190103</td>\n",
              "      <td>1</td>\n",
              "    </tr>\n",
              "    <tr>\n",
              "      <th>3</th>\n",
              "      <td>95723</td>\n",
              "      <td>129cb9a1a99323fac25a823772be46bf</td>\n",
              "      <td>2019-09-02</td>\n",
              "      <td>20190136</td>\n",
              "      <td>9</td>\n",
              "    </tr>\n",
              "    <tr>\n",
              "      <th>4</th>\n",
              "      <td>95724</td>\n",
              "      <td>64453d5c2038f67ee4b87ed1c1213304</td>\n",
              "      <td>2019-09-02</td>\n",
              "      <td>20190136</td>\n",
              "      <td>9</td>\n",
              "    </tr>\n",
              "    <tr>\n",
              "      <th>5</th>\n",
              "      <td>95725</td>\n",
              "      <td>1501590f2e9f4c521f1d6f0337276621</td>\n",
              "      <td>2019-09-02</td>\n",
              "      <td>20190136</td>\n",
              "      <td>9</td>\n",
              "    </tr>\n",
              "    <tr>\n",
              "      <th>...</th>\n",
              "      <td>...</td>\n",
              "      <td>...</td>\n",
              "      <td>...</td>\n",
              "      <td>...</td>\n",
              "      <td>...</td>\n",
              "    </tr>\n",
              "    <tr>\n",
              "      <th>39615</th>\n",
              "      <td>319285</td>\n",
              "      <td>b367761ed7e08ae7579a8abd995a207c</td>\n",
              "      <td>2020-10-04</td>\n",
              "      <td>20200140</td>\n",
              "      <td>10</td>\n",
              "    </tr>\n",
              "    <tr>\n",
              "      <th>39616</th>\n",
              "      <td>319286</td>\n",
              "      <td>b8a663e27de34b1b2781b4675a0fb5df</td>\n",
              "      <td>2020-10-04</td>\n",
              "      <td>20200140</td>\n",
              "      <td>10</td>\n",
              "    </tr>\n",
              "    <tr>\n",
              "      <th>39617</th>\n",
              "      <td>319328</td>\n",
              "      <td>a7eb4ce2e0baf052303a62d8774eccb2</td>\n",
              "      <td>2020-10-04</td>\n",
              "      <td>20200140</td>\n",
              "      <td>10</td>\n",
              "    </tr>\n",
              "    <tr>\n",
              "      <th>39618</th>\n",
              "      <td>319329</td>\n",
              "      <td>d8895233006e6e8f1ee5ebbb3b5d7728</td>\n",
              "      <td>2020-10-04</td>\n",
              "      <td>20200140</td>\n",
              "      <td>10</td>\n",
              "    </tr>\n",
              "    <tr>\n",
              "      <th>39619</th>\n",
              "      <td>319330</td>\n",
              "      <td>2ed3674e46f500ec13e08b0b3a890127</td>\n",
              "      <td>2020-10-04</td>\n",
              "      <td>20200140</td>\n",
              "      <td>10</td>\n",
              "    </tr>\n",
              "  </tbody>\n",
              "</table>\n",
              "<p>39619 rows × 5 columns</p>\n",
              "</div>"
            ],
            "text/plain": [
              "           id                          Order_Id Purchase_Date    Period  \\\n",
              "0       95717  3475eb780c3eeac686a75a00b6b46257    2019-01-18  20190103   \n",
              "1       95718  3475eb780c3eeac686a75a00b6b46257    2019-01-18  20190103   \n",
              "3       95723  129cb9a1a99323fac25a823772be46bf    2019-09-02  20190136   \n",
              "4       95724  64453d5c2038f67ee4b87ed1c1213304    2019-09-02  20190136   \n",
              "5       95725  1501590f2e9f4c521f1d6f0337276621    2019-09-02  20190136   \n",
              "...       ...                               ...           ...       ...   \n",
              "39615  319285  b367761ed7e08ae7579a8abd995a207c    2020-10-04  20200140   \n",
              "39616  319286  b8a663e27de34b1b2781b4675a0fb5df    2020-10-04  20200140   \n",
              "39617  319328  a7eb4ce2e0baf052303a62d8774eccb2    2020-10-04  20200140   \n",
              "39618  319329  d8895233006e6e8f1ee5ebbb3b5d7728    2020-10-04  20200140   \n",
              "39619  319330  2ed3674e46f500ec13e08b0b3a890127    2020-10-04  20200140   \n",
              "\n",
              "       Purchase_Date-month  \n",
              "0                        1  \n",
              "1                        1  \n",
              "3                        9  \n",
              "4                        9  \n",
              "5                        9  \n",
              "...                    ...  \n",
              "39615                   10  \n",
              "39616                   10  \n",
              "39617                   10  \n",
              "39618                   10  \n",
              "39619                   10  \n",
              "\n",
              "[39619 rows x 5 columns]"
            ]
          },
          "execution_count": 46,
          "metadata": {},
          "output_type": "execute_result"
        }
      ],
      "source": [
        "purchase[[\"id\", \"Order_Id\",\"Purchase_Date\",\"Period\",\"Purchase_Date-month\" ]]\n",
        "#ID 와 Order_ID 사이의 상관성이 있어 보입니다. Order ID가 중복되면 ID가 카운트가 되는 듯 합니다."
      ]
    },
    {
      "cell_type": "code",
      "execution_count": null,
      "id": "56d1ec34",
      "metadata": {
        "id": "56d1ec34",
        "outputId": "4ffb1197-1698-46c2-8323-57d712a56706"
      },
      "outputs": [
        {
          "data": {
            "text/plain": [
              "<AxesSubplot:xlabel='Purchase_Date-month', ylabel='count'>"
            ]
          },
          "execution_count": 28,
          "metadata": {},
          "output_type": "execute_result"
        },
        {
          "data": {
            "image/png": "[encoded data removed]",
            "text/plain": [
              "<Figure size 432x288 with 1 Axes>"
            ]
          },
          "metadata": {
            "needs_background": "light"
          },
          "output_type": "display_data"
        }
      ],
      "source": [
        "sns.countplot(data = purchase, x = 'Purchase_Date-month')\n",
        "#7~9월에 가장 많은 판매건수를 기록\n",
        "#어떤 물건이 제일 잘 팔렸을까?"
      ]
    },
    {
      "cell_type": "markdown",
      "id": "e4c2cec8",
      "metadata": {
        "id": "e4c2cec8"
      },
      "source": [
        "## Preprocessing\n",
        "\n",
        "데이터를 읽어왔으면, 이 데이터를 편하게 분석하고 머신러닝 알고리즘에 집어넣기 위해 간단한 전처리(Preprocessing) 작업을 진행하겠습니다."
      ]
    },
    {
      "cell_type": "code",
      "execution_count": null,
      "id": "5ce1d4dc",
      "metadata": {
        "id": "5ce1d4dc",
        "outputId": "59a11345-0771-46a7-960d-6c45344971d9"
      },
      "outputs": [
        {
          "data": {
            "text/html": [
              "<div>\n",
              "<style scoped>\n",
              "    .dataframe tbody tr th:only-of-type {\n",
              "        vertical-align: middle;\n",
              "    }\n",
              "\n",
              "    .dataframe tbody tr th {\n",
              "        vertical-align: top;\n",
              "    }\n",
              "\n",
              "    .dataframe thead th {\n",
              "        text-align: right;\n",
              "    }\n",
              "</style>\n",
              "<table border=\"1\" class=\"dataframe\">\n",
              "  <thead>\n",
              "    <tr style=\"text-align: right;\">\n",
              "      <th></th>\n",
              "      <th>id</th>\n",
              "      <th>Order_Id</th>\n",
              "      <th>User_Id</th>\n",
              "      <th>Purchase_Date</th>\n",
              "      <th>Period</th>\n",
              "      <th>Retailer</th>\n",
              "      <th>ProductCode</th>\n",
              "      <th>Item_Description</th>\n",
              "      <th>Sales_Unit</th>\n",
              "      <th>Price</th>\n",
              "      <th>...</th>\n",
              "      <th>Gender</th>\n",
              "      <th>MasterProdcutNo</th>\n",
              "      <th>MasterProdcutName</th>\n",
              "      <th>MasterCategoryFullNo</th>\n",
              "      <th>MasterCategoryFullName</th>\n",
              "      <th>Purchase_Date_year</th>\n",
              "      <th>Purchase_Date_month</th>\n",
              "      <th>Purchase_Date_day</th>\n",
              "      <th>Purchase_Date_hour</th>\n",
              "      <th>gmv</th>\n",
              "    </tr>\n",
              "  </thead>\n",
              "  <tbody>\n",
              "    <tr>\n",
              "      <th>0</th>\n",
              "      <td>95717</td>\n",
              "      <td>3475eb780c3eeac686a75a00b6b46257</td>\n",
              "      <td>d41d8cd98f00b204e9800998ecf8427e</td>\n",
              "      <td>2019-01-18</td>\n",
              "      <td>20190103</td>\n",
              "      <td>A</td>\n",
              "      <td>2019011861178490</td>\n",
              "      <td>우리가 보낸 가장 긴 밤</td>\n",
              "      <td>1</td>\n",
              "      <td>12400</td>\n",
              "      <td>...</td>\n",
              "      <td>M</td>\n",
              "      <td>2019011861178490</td>\n",
              "      <td>우리가 보낸 가장 긴 밤</td>\n",
              "      <td>C001002700080009</td>\n",
              "      <td>문구 · 취미 · 자동차용품-&gt;도서 · 퍼즐-&gt;시 · 에세이</td>\n",
              "      <td>2019</td>\n",
              "      <td>1</td>\n",
              "      <td>18</td>\n",
              "      <td>0</td>\n",
              "      <td>12400</td>\n",
              "    </tr>\n",
              "    <tr>\n",
              "      <th>1</th>\n",
              "      <td>95718</td>\n",
              "      <td>3475eb780c3eeac686a75a00b6b46257</td>\n",
              "      <td>981ac26310e4d1ab74ae250b71fb1bbe</td>\n",
              "      <td>2019-01-18</td>\n",
              "      <td>20190103</td>\n",
              "      <td>A</td>\n",
              "      <td>2019011861178490</td>\n",
              "      <td>우리가 보낸 가장 긴 밤</td>\n",
              "      <td>1</td>\n",
              "      <td>12400</td>\n",
              "      <td>...</td>\n",
              "      <td>M</td>\n",
              "      <td>2019011861178490</td>\n",
              "      <td>우리가 보낸 가장 긴 밤</td>\n",
              "      <td>C001002700080009</td>\n",
              "      <td>문구 · 취미 · 자동차용품-&gt;도서 · 퍼즐-&gt;시 · 에세이</td>\n",
              "      <td>2019</td>\n",
              "      <td>1</td>\n",
              "      <td>18</td>\n",
              "      <td>0</td>\n",
              "      <td>12400</td>\n",
              "    </tr>\n",
              "    <tr>\n",
              "      <th>2</th>\n",
              "      <td>162804</td>\n",
              "      <td>b8b60589fc2a00008f6c746e746cfb04</td>\n",
              "      <td>031ed90cf080a7c468879e1715f5e2a9</td>\n",
              "      <td>2019-01-18</td>\n",
              "      <td>20190103</td>\n",
              "      <td>B</td>\n",
              "      <td>2019011861178490</td>\n",
              "      <td>우리가 보낸 가장 긴 밤</td>\n",
              "      <td>1</td>\n",
              "      <td>12400</td>\n",
              "      <td>...</td>\n",
              "      <td>NaN</td>\n",
              "      <td>2019011861178490</td>\n",
              "      <td>우리가 보낸 가장 긴 밤</td>\n",
              "      <td>C001002700080009</td>\n",
              "      <td>문구 · 취미 · 자동차용품-&gt;도서 · 퍼즐-&gt;시 · 에세이</td>\n",
              "      <td>2019</td>\n",
              "      <td>1</td>\n",
              "      <td>18</td>\n",
              "      <td>0</td>\n",
              "      <td>12400</td>\n",
              "    </tr>\n",
              "    <tr>\n",
              "      <th>3</th>\n",
              "      <td>95723</td>\n",
              "      <td>129cb9a1a99323fac25a823772be46bf</td>\n",
              "      <td>981ac26310e4d1ab74ae250b71fb1bbe</td>\n",
              "      <td>2019-09-02</td>\n",
              "      <td>20190136</td>\n",
              "      <td>C</td>\n",
              "      <td>8801114131466</td>\n",
              "      <td>풀무원 옛두부 300g*2</td>\n",
              "      <td>1</td>\n",
              "      <td>4300</td>\n",
              "      <td>...</td>\n",
              "      <td>M</td>\n",
              "      <td>8801114131466</td>\n",
              "      <td>풀무원 옛두부(300G*2입)</td>\n",
              "      <td>C001001200110002</td>\n",
              "      <td>채소-&gt;두부 · 콩나물 · 나또-&gt;부침용 두부</td>\n",
              "      <td>2019</td>\n",
              "      <td>9</td>\n",
              "      <td>2</td>\n",
              "      <td>0</td>\n",
              "      <td>4300</td>\n",
              "    </tr>\n",
              "    <tr>\n",
              "      <th>4</th>\n",
              "      <td>95724</td>\n",
              "      <td>64453d5c2038f67ee4b87ed1c1213304</td>\n",
              "      <td>981ac26310e4d1ab74ae250b71fb1bbe</td>\n",
              "      <td>2019-09-02</td>\n",
              "      <td>20190136</td>\n",
              "      <td>C</td>\n",
              "      <td>1208550099803</td>\n",
              "      <td>프리미엄생연어초밥</td>\n",
              "      <td>2</td>\n",
              "      <td>10000</td>\n",
              "      <td>...</td>\n",
              "      <td>M</td>\n",
              "      <td>1208550099803</td>\n",
              "      <td>프리미엄생연어초밥</td>\n",
              "      <td>C001004000080002</td>\n",
              "      <td>치킨 · 초밥 · 베이커리-&gt;김밥 · 초밥 · 샐러드-&gt;김밥 · 초밥 · 도시락</td>\n",
              "      <td>2019</td>\n",
              "      <td>9</td>\n",
              "      <td>2</td>\n",
              "      <td>0</td>\n",
              "      <td>20000</td>\n",
              "    </tr>\n",
              "  </tbody>\n",
              "</table>\n",
              "<p>5 rows × 21 columns</p>\n",
              "</div>"
            ],
            "text/plain": [
              "       id                          Order_Id                           User_Id  \\\n",
              "0   95717  3475eb780c3eeac686a75a00b6b46257  d41d8cd98f00b204e9800998ecf8427e   \n",
              "1   95718  3475eb780c3eeac686a75a00b6b46257  981ac26310e4d1ab74ae250b71fb1bbe   \n",
              "2  162804  b8b60589fc2a00008f6c746e746cfb04  031ed90cf080a7c468879e1715f5e2a9   \n",
              "3   95723  129cb9a1a99323fac25a823772be46bf  981ac26310e4d1ab74ae250b71fb1bbe   \n",
              "4   95724  64453d5c2038f67ee4b87ed1c1213304  981ac26310e4d1ab74ae250b71fb1bbe   \n",
              "\n",
              "  Purchase_Date    Period Retailer       ProductCode Item_Description  \\\n",
              "0    2019-01-18  20190103        A  2019011861178490    우리가 보낸 가장 긴 밤   \n",
              "1    2019-01-18  20190103        A  2019011861178490    우리가 보낸 가장 긴 밤   \n",
              "2    2019-01-18  20190103        B  2019011861178490    우리가 보낸 가장 긴 밤   \n",
              "3    2019-09-02  20190136        C     8801114131466   풀무원 옛두부 300g*2   \n",
              "4    2019-09-02  20190136        C     1208550099803        프리미엄생연어초밥   \n",
              "\n",
              "   Sales_Unit  Price  ...  Gender   MasterProdcutNo MasterProdcutName  \\\n",
              "0           1  12400  ...       M  2019011861178490     우리가 보낸 가장 긴 밤   \n",
              "1           1  12400  ...       M  2019011861178490     우리가 보낸 가장 긴 밤   \n",
              "2           1  12400  ...     NaN  2019011861178490     우리가 보낸 가장 긴 밤   \n",
              "3           1   4300  ...       M     8801114131466  풀무원 옛두부(300G*2입)   \n",
              "4           2  10000  ...       M     1208550099803         프리미엄생연어초밥   \n",
              "\n",
              "  MasterCategoryFullNo                        MasterCategoryFullName  \\\n",
              "0     C001002700080009             문구 · 취미 · 자동차용품->도서 · 퍼즐->시 · 에세이   \n",
              "1     C001002700080009             문구 · 취미 · 자동차용품->도서 · 퍼즐->시 · 에세이   \n",
              "2     C001002700080009             문구 · 취미 · 자동차용품->도서 · 퍼즐->시 · 에세이   \n",
              "3     C001001200110002                     채소->두부 · 콩나물 · 나또->부침용 두부   \n",
              "4     C001004000080002  치킨 · 초밥 · 베이커리->김밥 · 초밥 · 샐러드->김밥 · 초밥 · 도시락   \n",
              "\n",
              "  Purchase_Date_year  Purchase_Date_month  Purchase_Date_day  \\\n",
              "0               2019                    1                 18   \n",
              "1               2019                    1                 18   \n",
              "2               2019                    1                 18   \n",
              "3               2019                    9                  2   \n",
              "4               2019                    9                  2   \n",
              "\n",
              "   Purchase_Date_hour    gmv  \n",
              "0                   0  12400  \n",
              "1                   0  12400  \n",
              "2                   0  12400  \n",
              "3                   0   4300  \n",
              "4                   0  20000  \n",
              "\n",
              "[5 rows x 21 columns]"
            ]
          },
          "execution_count": 76,
          "metadata": {},
          "output_type": "execute_result"
        }
      ],
      "source": [
        "purchase[\"gmv\"] = purchase[\"Sales_Unit\"] * purchase[\"Price\"]\n",
        "purchase.head()"
      ]
    },
    {
      "cell_type": "markdown",
      "id": "e049e935",
      "metadata": {
        "id": "e049e935"
      },
      "source": [
        "## Explore\n",
        "\n",
        "전처리(Preprocesing)를 끝냈으면 그 다음에는 데이터를 분석해보겠습니다.\n",
        "\n",
        "주어진 데이터를 시각화나 분석 툴을 통해 다양한 관점에서 이해하는 과정을 탐험적 데이터 분석([Exploratory Data Analysis](https://en.wikipedia.org/wiki/Exploratory_data_analysis))이라고 합니다. 저번 타이타닉 문제와 마찬가지로, 이번에도 파이썬의 데이터 시각화 패키지인 ([matplotlib](https://matplotlib.org))와 [seaborn](https://seaborn.pydata.org/) 을 활용해서 분석해보겠습니다."
      ]
    },
    {
      "cell_type": "code",
      "execution_count": null,
      "id": "f86ea77a",
      "metadata": {
        "id": "f86ea77a"
      },
      "outputs": [],
      "source": [
        "# matplotlib로 실행하는 모든 시각화를 자동으로 쥬피터 노트북에 띄웁니다.\n",
        "# seaborn 도 결국에는 matplotlib를 기반으로 동작하기 때문에, seaborn으로 실행하는 모든 시각화도 마찬가지로 쥬피터 노트북에 자동적으로 띄워집니다.\n",
        "%matplotlib inline\n",
        "\n",
        "# 데이터 시각화 패키지 seaborn을 로딩합니다. 앞으로는 줄여서 sns라고 사용할 것입니다.\n",
        "import seaborn as sns\n",
        "\n",
        "# 데이터 시각화 패키지 matplotlib를 로딩합니다. 앞으로는 줄여서 plt라고 사용할 것입니다.\n",
        "import matplotlib.pyplot as plt"
      ]
    },
    {
      "cell_type": "markdown",
      "id": "1067e2f7",
      "metadata": {
        "id": "1067e2f7"
      },
      "source": [
        "### ID, Order_Id, User_Id\n",
        "\n",
        "먼저 분석할 컬럼은 **ID, Order_Id, User_Id** 컬럼입니다."
      ]
    },
    {
      "cell_type": "markdown",
      "id": "c00c3ab4",
      "metadata": {
        "id": "c00c3ab4"
      },
      "source": [
        "### Q1-1) 시각화를 하기 전에 어떤 그림이 나올 것으로 예상하시나요? 최소 3가지 아이디어를 생각해보세요.\n",
        "\n",
        "**주의**: 이 내용은 반드시 **시각화를 하기 전에 작성하셔야 합니다.** 그래야 시각화 결과와 본인의 아이디어를 비교해서 차이를 발견할 수 있습니다.\n",
        "\n",
        "1.\n",
        "\n",
        "2.\n",
        "\n",
        "3."
      ]
    },
    {
      "cell_type": "markdown",
      "id": "895d07d2",
      "metadata": {
        "id": "895d07d2"
      },
      "source": [
        "자, 그럼 위 예상과 실제 데이터가 일치하는지 데이터 시각화를 통해 살펴보도록 하겠습니다."
      ]
    },
    {
      "cell_type": "code",
      "execution_count": null,
      "id": "3f3a6a59",
      "metadata": {
        "id": "3f3a6a59",
        "outputId": "f89c7323-da10-42ab-c29d-d33f6fa0c666"
      },
      "outputs": [
        {
          "data": {
            "text/plain": [
              "0"
            ]
          },
          "execution_count": 64,
          "metadata": {},
          "output_type": "execute_result"
        }
      ],
      "source": [
        "purchase[\"id\"].isnull().sum()"
      ]
    },
    {
      "cell_type": "code",
      "execution_count": null,
      "id": "0aeadc3d",
      "metadata": {
        "id": "0aeadc3d",
        "outputId": "9b636897-f576-46cc-942d-80aa6a7f1202"
      },
      "outputs": [
        {
          "data": {
            "text/plain": [
              "0"
            ]
          },
          "execution_count": 65,
          "metadata": {},
          "output_type": "execute_result"
        }
      ],
      "source": [
        "purchase[\"Order_Id\"].isnull().sum()"
      ]
    },
    {
      "cell_type": "code",
      "execution_count": null,
      "id": "b7fefd65",
      "metadata": {
        "id": "b7fefd65",
        "outputId": "f65a247e-1bbf-4492-96c1-38457750da76"
      },
      "outputs": [
        {
          "data": {
            "text/plain": [
              "0"
            ]
          },
          "execution_count": 63,
          "metadata": {},
          "output_type": "execute_result"
        }
      ],
      "source": [
        "purchase[\"User_Id\"].isnull().sum()"
      ]
    },
    {
      "cell_type": "markdown",
      "id": "58e349f7",
      "metadata": {
        "id": "58e349f7"
      },
      "source": [
        "### Q1-2) 이 시각화로 발견할 수 있는 사실은 어떤 게 있을까요? 그리고 앞서 우리의 예상과 어떤 차이가 있나요?\n",
        "\n",
        "1.\n",
        "\n",
        "2.\n",
        "\n",
        "3."
      ]
    },
    {
      "cell_type": "markdown",
      "id": "b8cc0e20",
      "metadata": {
        "id": "b8cc0e20"
      },
      "source": [
        "자, 이제 더 중요한 사실에 대해서 고민해 보도록 하겠습니다.\n",
        "\n",
        "우리에게 중요한건 데이터에 어떤 특징이 있는지 발견하는 것도 있지만, **이 특징을 활용해 앞으로 사용할 머신러닝 알고리즘을 개선시킬 수 있는가?**가 더 중요합니다. 또한 개선을 한다면 구체적으로 어떤 방식으로 개선하는지도 중요하겠죠."
      ]
    },
    {
      "cell_type": "markdown",
      "id": "97c586c5",
      "metadata": {
        "id": "97c586c5"
      },
      "source": [
        "### Purchase_Date\n",
        "\n",
        "분석할 컬럼은 **Purchase_Date** 컬럼입니다. 구매 날짜 컬럼은 유통업에 있어서 중요하게 작용할 것 같습니다. 기존 BIKE_SHARING_DEMAND 에서 했던 것 처럼 다양하고 깊은 분석이 다른 인사이트들을 만들 수 있습니다."
      ]
    },
    {
      "cell_type": "markdown",
      "id": "e5c0e81c",
      "metadata": {
        "id": "e5c0e81c"
      },
      "source": [
        "### Q2-1) 시각화를 하기 전에 어떤 그림이 나올 것으로 예상하시나요? 최소 3가지 아이디어를 생각해보세요.\n",
        "\n",
        "**주의**: 이 내용은 반드시 **시각화를 하기 전에 작성하셔야 합니다.** 그래야 시각화 결과와 본인의 아이디어를 비교해서 차이를 발견할 수 있습니다.\n",
        "\n",
        "1.\n",
        "\n",
        "2.\n",
        "\n",
        "3."
      ]
    },
    {
      "cell_type": "markdown",
      "id": "51785d77",
      "metadata": {
        "id": "51785d77"
      },
      "source": [
        "자, 그럼 위 예상과 실제 데이터가 일치하는지 데이터 시각화를 통해 살펴보도록 하겠습니다."
      ]
    },
    {
      "cell_type": "code",
      "execution_count": null,
      "id": "54e9e477",
      "metadata": {
        "id": "54e9e477",
        "outputId": "20cfef95-785e-450c-c247-b18587ff7707"
      },
      "outputs": [
        {
          "data": {
            "text/plain": [
              "0"
            ]
          },
          "execution_count": 62,
          "metadata": {},
          "output_type": "execute_result"
        }
      ],
      "source": [
        "purchase[\"Purchase_Date\"].isnull().sum()"
      ]
    },
    {
      "cell_type": "code",
      "execution_count": null,
      "id": "01209221",
      "metadata": {
        "id": "01209221"
      },
      "outputs": [],
      "source": [
        "purchase[\"Purchase_Date\"] = pd.to_datetime(purchase[\"Purchase_Date\"])"
      ]
    },
    {
      "cell_type": "code",
      "execution_count": null,
      "id": "42279066",
      "metadata": {
        "id": "42279066"
      },
      "outputs": [],
      "source": [
        "purchase[\"Purchase_Date_year\"] = purchase[\"Purchase_Date\"].dt.year\n",
        "purchase[\"Purchase_Date_month\"] = purchase[\"Purchase_Date\"].dt.month\n",
        "purchase[\"Purchase_Date_day\"] = purchase[\"Purchase_Date\"].dt.day\n",
        "purchase[\"Purchase_Date_hour\"] = purchase[\"Purchase_Date\"].dt.hour"
      ]
    },
    {
      "cell_type": "code",
      "execution_count": null,
      "id": "f3c4bba5",
      "metadata": {
        "scrolled": true,
        "id": "f3c4bba5",
        "outputId": "1b22c1f9-adb8-41ad-9908-141414f94340"
      },
      "outputs": [
        {
          "data": {
            "text/html": [
              "<div>\n",
              "<style scoped>\n",
              "    .dataframe tbody tr th:only-of-type {\n",
              "        vertical-align: middle;\n",
              "    }\n",
              "\n",
              "    .dataframe tbody tr th {\n",
              "        vertical-align: top;\n",
              "    }\n",
              "\n",
              "    .dataframe thead th {\n",
              "        text-align: right;\n",
              "    }\n",
              "</style>\n",
              "<table border=\"1\" class=\"dataframe\">\n",
              "  <thead>\n",
              "    <tr style=\"text-align: right;\">\n",
              "      <th></th>\n",
              "      <th>Purchase_Date</th>\n",
              "      <th>Purchase_Date_year</th>\n",
              "      <th>Purchase_Date_month</th>\n",
              "      <th>Purchase_Date_day</th>\n",
              "      <th>Purchase_Date_hour</th>\n",
              "    </tr>\n",
              "  </thead>\n",
              "  <tbody>\n",
              "    <tr>\n",
              "      <th>0</th>\n",
              "      <td>2019-01-18</td>\n",
              "      <td>2019</td>\n",
              "      <td>1</td>\n",
              "      <td>18</td>\n",
              "      <td>0</td>\n",
              "    </tr>\n",
              "    <tr>\n",
              "      <th>1</th>\n",
              "      <td>2019-01-18</td>\n",
              "      <td>2019</td>\n",
              "      <td>1</td>\n",
              "      <td>18</td>\n",
              "      <td>0</td>\n",
              "    </tr>\n",
              "    <tr>\n",
              "      <th>2</th>\n",
              "      <td>2019-01-18</td>\n",
              "      <td>2019</td>\n",
              "      <td>1</td>\n",
              "      <td>18</td>\n",
              "      <td>0</td>\n",
              "    </tr>\n",
              "    <tr>\n",
              "      <th>3</th>\n",
              "      <td>2019-09-02</td>\n",
              "      <td>2019</td>\n",
              "      <td>9</td>\n",
              "      <td>2</td>\n",
              "      <td>0</td>\n",
              "    </tr>\n",
              "    <tr>\n",
              "      <th>4</th>\n",
              "      <td>2019-09-02</td>\n",
              "      <td>2019</td>\n",
              "      <td>9</td>\n",
              "      <td>2</td>\n",
              "      <td>0</td>\n",
              "    </tr>\n",
              "  </tbody>\n",
              "</table>\n",
              "</div>"
            ],
            "text/plain": [
              "  Purchase_Date  Purchase_Date_year  Purchase_Date_month  Purchase_Date_day  \\\n",
              "0    2019-01-18                2019                    1                 18   \n",
              "1    2019-01-18                2019                    1                 18   \n",
              "2    2019-01-18                2019                    1                 18   \n",
              "3    2019-09-02                2019                    9                  2   \n",
              "4    2019-09-02                2019                    9                  2   \n",
              "\n",
              "   Purchase_Date_hour  \n",
              "0                   0  \n",
              "1                   0  \n",
              "2                   0  \n",
              "3                   0  \n",
              "4                   0  "
            ]
          },
          "execution_count": 26,
          "metadata": {},
          "output_type": "execute_result"
        }
      ],
      "source": [
        "purchase[[\"Purchase_Date\", \"Purchase_Date_year\", \"Purchase_Date_month\", \"Purchase_Date_day\", \"Purchase_Date_hour\"]].head()"
      ]
    },
    {
      "cell_type": "code",
      "execution_count": null,
      "id": "2db62ac8",
      "metadata": {
        "id": "2db62ac8",
        "outputId": "84127aa5-83d7-4de1-dba2-fd0e1262ec55"
      },
      "outputs": [
        {
          "data": {
            "text/plain": [
              "<AxesSubplot:xlabel='Purchase_Date_hour', ylabel='count'>"
            ]
          },
          "execution_count": 28,
          "metadata": {},
          "output_type": "execute_result"
        },
        {
          "data": {
            "image/png": "[encoded data removed]",
            "text/plain": [
              "<Figure size 1296x576 with 4 Axes>"
            ]
          },
          "metadata": {
            "needs_background": "light"
          },
          "output_type": "display_data"
        }
      ],
      "source": [
        "# matplotlib의 subplots를 사용합니다. 이 함수는 여러 개의 시각화를 한 화면에 띄울 수 있도록 합니다.\n",
        "# 이번에는 2x3으로 총 6개의 시각화를 한 화면에 띄웁니다.\n",
        "figure, ((ax1, ax2), (ax3, ax4)) = plt.subplots(nrows=2, ncols=2)\n",
        "\n",
        "# 시각화의 전체 사이즈는 18x8로 설정합니다.\n",
        "figure.set_size_inches(18, 8)\n",
        "\n",
        "# seaborn의 barplot으로 subplots의 각 구역에\n",
        "sns.countplot(data=purchase, x=\"Purchase_Date_year\", ax=ax1)\n",
        "sns.countplot(data=purchase, x=\"Purchase_Date_month\", ax=ax2)\n",
        "sns.countplot(data=purchase, x=\"Purchase_Date_day\", ax=ax3)\n",
        "sns.countplot(data=purchase, x=\"Purchase_Date_hour\", ax=ax4)"
      ]
    },
    {
      "cell_type": "code",
      "execution_count": null,
      "id": "6e7d8086",
      "metadata": {
        "id": "6e7d8086",
        "outputId": "a3074bb3-7c86-473f-eae9-2e21c5eae407"
      },
      "outputs": [
        {
          "name": "stdout",
          "output_type": "stream",
          "text": [
            "(39620, 22)\n"
          ]
        },
        {
          "data": {
            "text/html": [
              "<div>\n",
              "<style scoped>\n",
              "    .dataframe tbody tr th:only-of-type {\n",
              "        vertical-align: middle;\n",
              "    }\n",
              "\n",
              "    .dataframe tbody tr th {\n",
              "        vertical-align: top;\n",
              "    }\n",
              "\n",
              "    .dataframe thead th {\n",
              "        text-align: right;\n",
              "    }\n",
              "</style>\n",
              "<table border=\"1\" class=\"dataframe\">\n",
              "  <thead>\n",
              "    <tr style=\"text-align: right;\">\n",
              "      <th></th>\n",
              "      <th>Purchase_Date</th>\n",
              "      <th>Purchase_Date_year_month</th>\n",
              "    </tr>\n",
              "  </thead>\n",
              "  <tbody>\n",
              "    <tr>\n",
              "      <th>0</th>\n",
              "      <td>2019-01-18</td>\n",
              "      <td>2019-1</td>\n",
              "    </tr>\n",
              "    <tr>\n",
              "      <th>1</th>\n",
              "      <td>2019-01-18</td>\n",
              "      <td>2019-1</td>\n",
              "    </tr>\n",
              "    <tr>\n",
              "      <th>2</th>\n",
              "      <td>2019-01-18</td>\n",
              "      <td>2019-1</td>\n",
              "    </tr>\n",
              "    <tr>\n",
              "      <th>3</th>\n",
              "      <td>2019-09-02</td>\n",
              "      <td>2019-9</td>\n",
              "    </tr>\n",
              "    <tr>\n",
              "      <th>4</th>\n",
              "      <td>2019-09-02</td>\n",
              "      <td>2019-9</td>\n",
              "    </tr>\n",
              "  </tbody>\n",
              "</table>\n",
              "</div>"
            ],
            "text/plain": [
              "  Purchase_Date Purchase_Date_year_month\n",
              "0    2019-01-18                   2019-1\n",
              "1    2019-01-18                   2019-1\n",
              "2    2019-01-18                   2019-1\n",
              "3    2019-09-02                   2019-9\n",
              "4    2019-09-02                   2019-9"
            ]
          },
          "execution_count": 121,
          "metadata": {},
          "output_type": "execute_result"
        }
      ],
      "source": [
        "# 연도(datetime-year)와 월(datetime-month)를 앞뒤로 붙인 datetime-year_month라는 이름의 컬럼을 추가합니다.\n",
        "# 이 컬럼에는 2011년 1월부터 2012년 12월까지 총 24개의 값이 들어가있습니다.\n",
        "purchase[\"Purchase_Date_year_month\"] = purchase[\"Purchase_Date_year\"].astype('str') + '-' + purchase[\"Purchase_Date_month\"].astype('str')\n",
        "\n",
        "# train 변수에 할당된 데이터의 행렬 사이즈를 출력합니다.\n",
        "# 출력은 (row, column) 으로 표시됩니다.\n",
        "print(purchase.shape)\n",
        "\n",
        "# head()로 train 데이터의 datetime과 datetime-year_month컬럼의 상위 5개를 띄웁니다.\n",
        "purchase[[\"Purchase_Date\", \"Purchase_Date_year_month\"]].head()"
      ]
    },
    {
      "cell_type": "code",
      "execution_count": null,
      "id": "2d44bcf5",
      "metadata": {
        "id": "2d44bcf5",
        "outputId": "c7ebc0a5-79d8-4575-ffa0-e71cb3bacf66"
      },
      "outputs": [
        {
          "data": {
            "text/plain": [
              "<AxesSubplot:xlabel='Purchase_Date_year_month', ylabel='count'>"
            ]
          },
          "execution_count": 123,
          "metadata": {},
          "output_type": "execute_result"
        },
        {
          "data": {
            "image/png": "[encoded data removed]",
            "text/plain": [
              "<Figure size 1296x288 with 1 Axes>"
            ]
          },
          "metadata": {
            "needs_background": "light"
          },
          "output_type": "display_data"
        }
      ],
      "source": [
        "# matplotlib를 활용해 그래프의 사이즈를 가로로 길게(18) 늘리고, 세로로 짧게(4) 줄입니다.\n",
        "plt.figure(figsize = (18, 4))\n",
        "\n",
        "# seaborn의 barplot으로 2011년 1월부터 2012년 12월까지의 자젼거 대여량의 변화량을 시각화합니다.\n",
        "sns.countplot(data=purchase, x=\"Purchase_Date_year_month\")"
      ]
    },
    {
      "cell_type": "markdown",
      "id": "22e2eebd",
      "metadata": {
        "id": "22e2eebd"
      },
      "source": [
        "### Q2-2) 이 시각화로 발견할 수 있는 사실은 어떤 게 있을까요? 그리고 앞서 우리의 예상과 어떤 차이가 있나요?\n",
        "\n",
        "1. 년도 별 데이터를 보았을 때, 2019년에 비해 다음해인 2020년에 7배 가량 증가함을 볼 수 있습니다.\n",
        "\n",
        "2. 월별로 데이터를 시각화 해본 결과, 여름(7,8,9월)에 집중되고 있음을 알 수 있으며, 겨울에는 상대적으로 구매 횟수가 적습니다. 계절에 따른 결과가 다름에 따라 상품들의 품목과 연관지어 확인해볼 필요가 있고, 5월달의 결과를 조금더 깊게 분석해볼 필요가 있다고 생각합니다.\n",
        "\n",
        "3. 일자별 분석결과 특정 7일, 9일, 10일, 13일, 23일, 31일 이 낮은 현상을 보이는데 이는 추가적인 분석이 필요해 보임."
      ]
    },
    {
      "cell_type": "markdown",
      "id": "61cead5a",
      "metadata": {
        "id": "61cead5a"
      },
      "source": [
        "자, 이제 더 중요한 사실에 대해서 고민해 보도록 하겠습니다.\n",
        "\n",
        "우리에게 중요한건 데이터에 어떤 특징이 있는지 발견하는 것도 있지만, **이 특징을 활용해 앞으로 사용할 머신러닝 알고리즘을 개선시킬 수 있는가?**가 더 중요합니다. 또한 개선을 한다면 구체적으로 어떤 방식으로 개선하는지도 중요하겠죠."
      ]
    },
    {
      "cell_type": "markdown",
      "id": "38d34305",
      "metadata": {
        "id": "38d34305"
      },
      "source": [
        "### Retailer\n",
        "\n",
        "분석할 컬럼은 **Retailer** 컬럼입니다."
      ]
    },
    {
      "cell_type": "markdown",
      "id": "5deb2c9c",
      "metadata": {
        "id": "5deb2c9c"
      },
      "source": [
        "### Q3-1) 시각화를 하기 전에 어떤 그림이 나올 것으로 예상하시나요? 최소 3가지 아이디어를 생각해보세요.\n",
        "\n",
        "**주내용은 반드시** 시각화를 하기 전에 작성하셔야 합니다. 그래야 시각화 결과와 본인의 아이디어를 비교해서 차이를 발견할 수 있습니다.\n",
        "\n",
        "1.\n",
        "\n",
        "2.\n",
        "\n",
        "3."
      ]
    },
    {
      "cell_type": "markdown",
      "id": "c793e472",
      "metadata": {
        "id": "c793e472"
      },
      "source": [
        "자, 그럼 위 예상과 실제 데이터가 일치하는지 데이터 시각화를 통해 살펴보도록 하겠습니다."
      ]
    },
    {
      "cell_type": "code",
      "execution_count": null,
      "id": "97670d0d",
      "metadata": {
        "id": "97670d0d",
        "outputId": "6db42359-0a88-4c71-a611-9bab869a3cb6"
      },
      "outputs": [
        {
          "data": {
            "text/plain": [
              "0"
            ]
          },
          "execution_count": 61,
          "metadata": {},
          "output_type": "execute_result"
        }
      ],
      "source": [
        "purchase[\"Retailer\"].isnull().sum()"
      ]
    },
    {
      "cell_type": "code",
      "execution_count": null,
      "id": "a2a04133",
      "metadata": {
        "id": "a2a04133",
        "outputId": "e53795cb-63d8-4765-b303-df9e42c3e772"
      },
      "outputs": [
        {
          "data": {
            "text/plain": [
              "<AxesSubplot:xlabel='Retailer', ylabel='count'>"
            ]
          },
          "execution_count": 30,
          "metadata": {},
          "output_type": "execute_result"
        },
        {
          "data": {
            "image/png": "[encoded data removed]",
            "text/plain": [
              "<Figure size 432x288 with 1 Axes>"
            ]
          },
          "metadata": {
            "needs_background": "light"
          },
          "output_type": "display_data"
        }
      ],
      "source": [
        "sns.countplot(data=purchase, x = \"Retailer\")"
      ]
    },
    {
      "cell_type": "markdown",
      "id": "2e196cca",
      "metadata": {
        "id": "2e196cca"
      },
      "source": [
        "### Q3-2) 이 시각화로 발견할 수 있는 사실은 어떤 게 있을까요? 그리고 앞서 우리의 예상과 어떤 차이가 있나요?\n",
        "\n",
        "1.\n",
        "\n",
        "2.\n",
        "\n",
        "3."
      ]
    },
    {
      "cell_type": "markdown",
      "id": "2af8c5f7",
      "metadata": {
        "id": "2af8c5f7"
      },
      "source": [
        "자, 이제 더 중요한 사실에 대해서 고민해 보도록 하겠습니다.\n",
        "\n",
        "우리에게 중요한건 데이터에 어떤 특징이 있는지 발견하는 것도 있지만, **이 특징을 활용해 앞으로 사용할 머신러닝 알고리즘을 개선시킬 수 있는가?**가 더 중요합니다. 또한 개선을 한다면 구체적으로 어떤 방식으로 개선하는지도 중요하겠죠."
      ]
    },
    {
      "cell_type": "markdown",
      "id": "3a8ee3ba",
      "metadata": {
        "id": "3a8ee3ba"
      },
      "source": [
        "### ProductCode\t, Item_Description\n",
        "\n",
        "분석할 컬럼은 **ProductCode, Item_Description** 컬럼입니다."
      ]
    },
    {
      "cell_type": "markdown",
      "id": "20aa15b7",
      "metadata": {
        "id": "20aa15b7"
      },
      "source": [
        "### Q4-1) 시각화를 하기 전에 어떤 그림이 나올 것으로 예상하시나요? 최소 3가지 아이디어를 생각해보세요.\n",
        "\n",
        "**주내용은 반드시** 시각화를 하기 전에 작성하셔야 합니다.** 그래야 시각화 결과와 본인의 아이디어를 비교해서 차이를 발견할 수 있습니다.\n",
        "\n",
        "1.\n",
        "\n",
        "2.\n",
        "\n",
        "3."
      ]
    },
    {
      "cell_type": "markdown",
      "id": "66814b83",
      "metadata": {
        "id": "66814b83"
      },
      "source": [
        "자, 그럼 위 예상과 실제 데이터가 일치하는지 데이터 시각화를 통해 살펴보도록 하겠습니다."
      ]
    },
    {
      "cell_type": "code",
      "execution_count": null,
      "id": "6ddf47bb",
      "metadata": {
        "id": "6ddf47bb"
      },
      "outputs": [],
      "source": [
        "import matplotlib as mpl"
      ]
    },
    {
      "cell_type": "code",
      "execution_count": null,
      "id": "279097c1",
      "metadata": {
        "id": "279097c1",
        "outputId": "ec3f19cb-a1de-4f97-e1e8-0c3bac401655"
      },
      "outputs": [
        {
          "data": {
            "text/plain": [
              "0"
            ]
          },
          "execution_count": 59,
          "metadata": {},
          "output_type": "execute_result"
        }
      ],
      "source": [
        "purchase[\"ProductCode\"].isnull().sum()"
      ]
    },
    {
      "cell_type": "code",
      "execution_count": null,
      "id": "a280048d",
      "metadata": {
        "id": "a280048d",
        "outputId": "7c2e46a5-22d7-4102-b8b8-0530c372eafb"
      },
      "outputs": [
        {
          "data": {
            "text/plain": [
              "8801043015264    50\n",
              "2000114666185    42\n",
              "8808739000108    41\n",
              "2000000374529    38\n",
              "2000120108964    37\n",
              "                 ..\n",
              "8801051400021     1\n",
              "8809295813706     1\n",
              "8809577475202     1\n",
              "8806185741026     1\n",
              "8809319273547     1\n",
              "Name: ProductCode, Length: 24050, dtype: int64"
            ]
          },
          "execution_count": 57,
          "metadata": {},
          "output_type": "execute_result"
        }
      ],
      "source": [
        "purchase[\"ProductCode\"].value_counts()"
      ]
    },
    {
      "cell_type": "code",
      "execution_count": null,
      "id": "215b8806",
      "metadata": {
        "scrolled": true,
        "id": "215b8806"
      },
      "outputs": [],
      "source": [
        "#높은 순서대로 정렬하고 상위 몇 개만 시각화!\n",
        "codelist= purchase[\"ProductCode\"].value_counts().index.tolist()"
      ]
    },
    {
      "cell_type": "code",
      "execution_count": null,
      "id": "9d311758",
      "metadata": {
        "scrolled": false,
        "id": "9d311758",
        "outputId": "ade72084-04b4-498e-cc65-5cfb11163e18"
      },
      "outputs": [
        {
          "data": {
            "text/plain": [
              "<AxesSubplot:xlabel='count', ylabel='ProductCode'>"
            ]
          },
          "execution_count": 45,
          "metadata": {},
          "output_type": "execute_result"
        },
        {
          "data": {
            "image/png": "[encoded data removed]",
            "text/plain": [
              "<Figure size 1440x720 with 1 Axes>"
            ]
          },
          "metadata": {
            "needs_background": "light"
          },
          "output_type": "display_data"
        }
      ],
      "source": [
        "plt.figure(figsize = (20,10))\n",
        "sns.countplot(data=purchase, y = \"ProductCode\", order=codelist[:30])"
      ]
    },
    {
      "cell_type": "code",
      "execution_count": null,
      "id": "e29544b6",
      "metadata": {
        "scrolled": true,
        "id": "e29544b6",
        "outputId": "60ebf581-2c84-4950-9f03-675faa0f9a73"
      },
      "outputs": [
        {
          "data": {
            "text/plain": [
              "0"
            ]
          },
          "execution_count": 60,
          "metadata": {},
          "output_type": "execute_result"
        }
      ],
      "source": [
        "purchase[\"Item_Description\"].isnull().sum()"
      ]
    },
    {
      "cell_type": "code",
      "execution_count": null,
      "id": "0d093af1",
      "metadata": {
        "scrolled": true,
        "id": "0d093af1",
        "outputId": "5042ebf4-7ec0-42f5-aab0-0cbde1a67ac8"
      },
      "outputs": [
        {
          "data": {
            "text/plain": [
              "애호박(개)               66\n",
              "\"다이소 균일가 (1,000)\"    48\n",
              "재사용봉투20L             44\n",
              "올리브짜파게티5입            43\n",
              "파프리카                 42\n",
              "                     ..\n",
              "돌얼음2.5kg              1\n",
              "베지밀 오트밀두유             1\n",
              "트레비 워터 500ml*20       1\n",
              "골든그래놀라크런치             1\n",
              "코리아보드 개구리 사탕먹기        1\n",
              "Name: Item_Description, Length: 21686, dtype: int64"
            ]
          },
          "execution_count": 55,
          "metadata": {},
          "output_type": "execute_result"
        }
      ],
      "source": [
        "purchase[\"Item_Description\"].value_counts()"
      ]
    },
    {
      "cell_type": "code",
      "execution_count": null,
      "id": "a1d8e4c8",
      "metadata": {
        "id": "a1d8e4c8"
      },
      "outputs": [],
      "source": [
        "#높은 순서대로 정렬하고 상위 몇 개만 시각화!\n",
        "productlist= purchase[\"Item_Description\"].value_counts().index.tolist()"
      ]
    },
    {
      "cell_type": "code",
      "execution_count": null,
      "id": "e8d06eac",
      "metadata": {
        "id": "e8d06eac",
        "outputId": "5f6b83d4-ba75-4835-e484-945855795ea9"
      },
      "outputs": [
        {
          "data": {
            "text/plain": [
              "<AxesSubplot:xlabel='count', ylabel='Item_Description'>"
            ]
          },
          "execution_count": 56,
          "metadata": {},
          "output_type": "execute_result"
        },
        {
          "data": {
            "image/png": "[encoded data removed]",
            "text/plain": [
              "<Figure size 1440x1080 with 1 Axes>"
            ]
          },
          "metadata": {
            "needs_background": "light"
          },
          "output_type": "display_data"
        }
      ],
      "source": [
        "plt.figure(figsize = (20,15))\n",
        "mpl.rc(\"font\", family = \"Malgun Gothic\")\n",
        "sns.countplot(data=purchase, y = \"Item_Description\", order=productlist[:30])"
      ]
    },
    {
      "cell_type": "markdown",
      "id": "77ae725d",
      "metadata": {
        "id": "77ae725d"
      },
      "source": [
        "### Q4-2) 이 시각화로 발견할 수 있는 사실은 어떤 게 있을까요? 그리고 앞서 우리의 예상과 어떤 차이가 있나요?\n",
        "\n",
        "1.\n",
        "\n",
        "2.\n",
        "\n",
        "3."
      ]
    },
    {
      "cell_type": "markdown",
      "id": "ab0bdec9",
      "metadata": {
        "id": "ab0bdec9"
      },
      "source": [
        "자, 이제 더 중요한 사실에 대해서 고민해 보도록 하겠습니다.\n",
        "\n",
        "우리에게 중요한건 데이터에 어떤 특징이 있는지 발견하는 것도 있지만, **이 특징을 활용해 앞으로 사용할 머신러닝 알고리즘을 개선시킬 수 있는가?**가 더 중요합니다. 또한 개선을 한다면 구체적으로 어떤 방식으로 개선하는지도 중요하겠죠."
      ]
    },
    {
      "cell_type": "markdown",
      "id": "72e98880",
      "metadata": {
        "id": "72e98880"
      },
      "source": [
        "### Sales_Unit\n",
        "\n",
        "분석할 컬럼은 **Sales_Unit** 컬럼입니다."
      ]
    },
    {
      "cell_type": "markdown",
      "id": "4e175af8",
      "metadata": {
        "id": "4e175af8"
      },
      "source": [
        "### Q5-1) 시각화를 하기 전에 어떤 그림이 나올 것으로 예상하시나요? 최소 3가지 아이디어를 생각해보세요.\n",
        "\n",
        "**주내용은 반드시** 시각화를 하기 전에 작성하셔야 합니다.** 그래야 시각화 결과와 본인의 아이디어를 비교해서 차이를 발견할 수 있습니다.\n",
        "\n",
        "1.\n",
        "\n",
        "2.\n",
        "\n",
        "3."
      ]
    },
    {
      "cell_type": "markdown",
      "id": "666d5c50",
      "metadata": {
        "id": "666d5c50"
      },
      "source": [
        "자, 그럼 위 예상과 실제 데이터가 일치하는지 데이터 시각화를 통해 살펴보도록 하겠습니다."
      ]
    },
    {
      "cell_type": "code",
      "execution_count": null,
      "id": "4ad9b202",
      "metadata": {
        "collapsed": true,
        "id": "4ad9b202",
        "outputId": "7844de3a-05a0-4278-a14f-8a228c2227dd"
      },
      "outputs": [
        {
          "data": {
            "text/plain": [
              "1      34778\n",
              "2       3507\n",
              "3        558\n",
              "4        292\n",
              "5        136\n",
              "6        111\n",
              "10        67\n",
              "8         35\n",
              "9         24\n",
              "12        22\n",
              "7         16\n",
              "20        12\n",
              "30         9\n",
              "15         5\n",
              "11         4\n",
              "21         3\n",
              "13         3\n",
              "399        2\n",
              "14         2\n",
              "28         2\n",
              "33         2\n",
              "29         2\n",
              "23         2\n",
              "41         2\n",
              "25         1\n",
              "19         1\n",
              "78         1\n",
              "52         1\n",
              "120        1\n",
              "199        1\n",
              "50         1\n",
              "85         1\n",
              "16         1\n",
              "685        1\n",
              "72         1\n",
              "215        1\n",
              "79         1\n",
              "45         1\n",
              "69         1\n",
              "198        1\n",
              "40         1\n",
              "188        1\n",
              "531        1\n",
              "693        1\n",
              "239        1\n",
              "49         1\n",
              "65         1\n",
              "71         1\n",
              "Name: Sales_Unit, dtype: int64"
            ]
          },
          "execution_count": 67,
          "metadata": {},
          "output_type": "execute_result"
        }
      ],
      "source": [
        "purchase[\"Sales_Unit\"].value_counts()"
      ]
    },
    {
      "cell_type": "code",
      "execution_count": null,
      "id": "8d8762cd",
      "metadata": {
        "id": "8d8762cd"
      },
      "outputs": [],
      "source": [
        "salesunitlist= purchase[\"Sales_Unit\"].value_counts().index.tolist()"
      ]
    },
    {
      "cell_type": "code",
      "execution_count": null,
      "id": "b67be8c5",
      "metadata": {
        "scrolled": true,
        "id": "b67be8c5",
        "outputId": "dce5b847-d883-4fc7-d82b-df50d97b1e0a"
      },
      "outputs": [
        {
          "data": {
            "text/plain": [
              "<AxesSubplot:xlabel='Sales_Unit', ylabel='count'>"
            ]
          },
          "execution_count": 73,
          "metadata": {},
          "output_type": "execute_result"
        },
        {
          "data": {
            "image/png": "[encoded data removed]",
            "text/plain": [
              "<Figure size 432x288 with 1 Axes>"
            ]
          },
          "metadata": {
            "needs_background": "light"
          },
          "output_type": "display_data"
        }
      ],
      "source": [
        "sns.countplot(data=purchase, x = \"Sales_Unit\", order=salesunitlist[:30])"
      ]
    },
    {
      "cell_type": "markdown",
      "id": "6e75cdae",
      "metadata": {
        "id": "6e75cdae"
      },
      "source": [
        "### Q5-2) 이 시각화로 발견할 수 있는 사실은 어떤 게 있을까요? 그리고 앞서 우리의 예상과 어떤 차이가 있나요?\n",
        "\n",
        "1.\n",
        "\n",
        "2.\n",
        "\n",
        "3."
      ]
    },
    {
      "cell_type": "markdown",
      "id": "47e23f40",
      "metadata": {
        "id": "47e23f40"
      },
      "source": [
        "자, 이제 더 중요한 사실에 대해서 고민해 보도록 하겠습니다.\n",
        "\n",
        "우리에게 중요한건 데이터에 어떤 특징이 있는지 발견하는 것도 있지만, **이 특징을 활용해 앞으로 사용할 머신러닝 알고리즘을 개선시킬 수 있는가?**가 더 중요합니다. 또한 개선을 한다면 구체적으로 어떤 방식으로 개선하는지도 중요하겠죠."
      ]
    },
    {
      "cell_type": "markdown",
      "id": "585bdf11",
      "metadata": {
        "id": "585bdf11"
      },
      "source": [
        "### Price\n",
        "\n",
        "분석할 컬럼은 **Price** 컬럼입니다."
      ]
    },
    {
      "cell_type": "markdown",
      "id": "7f715458",
      "metadata": {
        "id": "7f715458"
      },
      "source": [
        "### Q6-1) 시각화를 하기 전에 어떤 그림이 나올 것으로 예상하시나요? 최소 3가지 아이디어를 생각해보세요.\n",
        "\n",
        "**주내용은 반드시** 시각화를 하기 전에 작성하셔야 합니다. 그래야 시각화 결과와 본인의 아이디어를 비교해서 차이를 발견할 수 있습니다.\n",
        "\n",
        "1.\n",
        "\n",
        "2.\n",
        "\n",
        "3."
      ]
    },
    {
      "cell_type": "markdown",
      "id": "85ca3473",
      "metadata": {
        "id": "85ca3473"
      },
      "source": [
        "자, 그럼 위 예상과 실제 데이터가 일치하는지 데이터 시각화를 통해 살펴보도록 하겠습니다."
      ]
    },
    {
      "cell_type": "code",
      "execution_count": null,
      "id": "722fa05a",
      "metadata": {
        "scrolled": false,
        "id": "722fa05a",
        "outputId": "df54c0db-fd09-4294-c815-486b930177d6"
      },
      "outputs": [
        {
          "data": {
            "text/plain": [
              "1000     2665\n",
              "3000     2125\n",
              "2000     1989\n",
              "4000     1772\n",
              "5000     1270\n",
              "2500     1135\n",
              "6000     1084\n",
              "10000     950\n",
              "8000      890\n",
              "3500      834\n",
              "7000      833\n",
              "1500      682\n",
              "1200      581\n",
              "9900      552\n",
              "2400      550\n",
              "2800      505\n",
              "2900      495\n",
              "3900      495\n",
              "9000      471\n",
              "4500      464\n",
              "Name: Price, dtype: int64"
            ]
          },
          "execution_count": 94,
          "metadata": {},
          "output_type": "execute_result"
        }
      ],
      "source": [
        "purchase[\"Price\"].value_counts().head(20)"
      ]
    },
    {
      "cell_type": "code",
      "execution_count": null,
      "id": "4f91fb92",
      "metadata": {
        "id": "4f91fb92",
        "outputId": "7926da4f-f8dd-490b-f454-b0177020cd2e"
      },
      "outputs": [
        {
          "data": {
            "text/plain": [
              "100001400"
            ]
          },
          "execution_count": 83,
          "metadata": {},
          "output_type": "execute_result"
        }
      ],
      "source": [
        "#이상한 데이터가 존재합니다. 개당 가격이 1억?\n",
        "purchase[\"Price\"].max()"
      ]
    },
    {
      "cell_type": "code",
      "execution_count": null,
      "id": "f6c81e9b",
      "metadata": {
        "scrolled": true,
        "id": "f6c81e9b",
        "outputId": "44500ae8-7fa5-408c-b57e-c21737af559f"
      },
      "outputs": [
        {
          "data": {
            "text/html": [
              "<div>\n",
              "<style scoped>\n",
              "    .dataframe tbody tr th:only-of-type {\n",
              "        vertical-align: middle;\n",
              "    }\n",
              "\n",
              "    .dataframe tbody tr th {\n",
              "        vertical-align: top;\n",
              "    }\n",
              "\n",
              "    .dataframe thead th {\n",
              "        text-align: right;\n",
              "    }\n",
              "</style>\n",
              "<table border=\"1\" class=\"dataframe\">\n",
              "  <thead>\n",
              "    <tr style=\"text-align: right;\">\n",
              "      <th></th>\n",
              "      <th>id</th>\n",
              "      <th>Order_Id</th>\n",
              "      <th>User_Id</th>\n",
              "      <th>Purchase_Date</th>\n",
              "      <th>Period</th>\n",
              "      <th>Retailer</th>\n",
              "      <th>ProductCode</th>\n",
              "      <th>Item_Description</th>\n",
              "      <th>Sales_Unit</th>\n",
              "      <th>Price</th>\n",
              "      <th>...</th>\n",
              "      <th>Gender</th>\n",
              "      <th>MasterProdcutNo</th>\n",
              "      <th>MasterProdcutName</th>\n",
              "      <th>MasterCategoryFullNo</th>\n",
              "      <th>MasterCategoryFullName</th>\n",
              "      <th>Purchase_Date_year</th>\n",
              "      <th>Purchase_Date_month</th>\n",
              "      <th>Purchase_Date_day</th>\n",
              "      <th>Purchase_Date_hour</th>\n",
              "      <th>gmv</th>\n",
              "    </tr>\n",
              "  </thead>\n",
              "  <tbody>\n",
              "    <tr>\n",
              "      <th>39316</th>\n",
              "      <td>317421</td>\n",
              "      <td>daa362c1281c6a13f7691018d8928a07</td>\n",
              "      <td>ebafa77abbc29be90a2c7e2b20cedf1d</td>\n",
              "      <td>2020-10-03</td>\n",
              "      <td>20200140</td>\n",
              "      <td>A</td>\n",
              "      <td>2700000010884</td>\n",
              "      <td>새우맛을알아?한판초밥(16입)</td>\n",
              "      <td>1</td>\n",
              "      <td>100001400</td>\n",
              "      <td>...</td>\n",
              "      <td>M</td>\n",
              "      <td>2700000010884</td>\n",
              "      <td>새우맛을알아?한판초밥(16입)</td>\n",
              "      <td>C001004000080002</td>\n",
              "      <td>치킨 · 초밥 · 베이커리-&gt;김밥 · 초밥 · 샐러드-&gt;김밥 · 초밥 · 도시락</td>\n",
              "      <td>2020</td>\n",
              "      <td>10</td>\n",
              "      <td>3</td>\n",
              "      <td>0</td>\n",
              "      <td>100001400</td>\n",
              "    </tr>\n",
              "  </tbody>\n",
              "</table>\n",
              "<p>1 rows × 21 columns</p>\n",
              "</div>"
            ],
            "text/plain": [
              "           id                          Order_Id  \\\n",
              "39316  317421  daa362c1281c6a13f7691018d8928a07   \n",
              "\n",
              "                                User_Id Purchase_Date    Period Retailer  \\\n",
              "39316  ebafa77abbc29be90a2c7e2b20cedf1d    2020-10-03  20200140        A   \n",
              "\n",
              "         ProductCode  Item_Description  Sales_Unit      Price  ...  Gender  \\\n",
              "39316  2700000010884  새우맛을알아?한판초밥(16입)           1  100001400  ...       M   \n",
              "\n",
              "      MasterProdcutNo MasterProdcutName MasterCategoryFullNo  \\\n",
              "39316   2700000010884  새우맛을알아?한판초밥(16입)     C001004000080002   \n",
              "\n",
              "                             MasterCategoryFullName Purchase_Date_year  \\\n",
              "39316  치킨 · 초밥 · 베이커리->김밥 · 초밥 · 샐러드->김밥 · 초밥 · 도시락               2020   \n",
              "\n",
              "       Purchase_Date_month  Purchase_Date_day  Purchase_Date_hour        gmv  \n",
              "39316                   10                  3                   0  100001400  \n",
              "\n",
              "[1 rows x 21 columns]"
            ]
          },
          "execution_count": 85,
          "metadata": {},
          "output_type": "execute_result"
        }
      ],
      "source": [
        "purchase.loc[purchase['Price'] == 100001400]"
      ]
    },
    {
      "cell_type": "code",
      "execution_count": null,
      "id": "cf7c25d1",
      "metadata": {
        "scrolled": true,
        "id": "cf7c25d1",
        "outputId": "7d559a47-2953-4200-b91b-17fbc3f3b7b4"
      },
      "outputs": [
        {
          "data": {
            "text/html": [
              "<div>\n",
              "<style scoped>\n",
              "    .dataframe tbody tr th:only-of-type {\n",
              "        vertical-align: middle;\n",
              "    }\n",
              "\n",
              "    .dataframe tbody tr th {\n",
              "        vertical-align: top;\n",
              "    }\n",
              "\n",
              "    .dataframe thead th {\n",
              "        text-align: right;\n",
              "    }\n",
              "</style>\n",
              "<table border=\"1\" class=\"dataframe\">\n",
              "  <thead>\n",
              "    <tr style=\"text-align: right;\">\n",
              "      <th></th>\n",
              "      <th>id</th>\n",
              "      <th>Order_Id</th>\n",
              "      <th>User_Id</th>\n",
              "      <th>Purchase_Date</th>\n",
              "      <th>Period</th>\n",
              "      <th>Retailer</th>\n",
              "      <th>ProductCode</th>\n",
              "      <th>Item_Description</th>\n",
              "      <th>Sales_Unit</th>\n",
              "      <th>Price</th>\n",
              "      <th>...</th>\n",
              "      <th>Gender</th>\n",
              "      <th>MasterProdcutNo</th>\n",
              "      <th>MasterProdcutName</th>\n",
              "      <th>MasterCategoryFullNo</th>\n",
              "      <th>MasterCategoryFullName</th>\n",
              "      <th>Purchase_Date_year</th>\n",
              "      <th>Purchase_Date_month</th>\n",
              "      <th>Purchase_Date_day</th>\n",
              "      <th>Purchase_Date_hour</th>\n",
              "      <th>gmv</th>\n",
              "    </tr>\n",
              "  </thead>\n",
              "  <tbody>\n",
              "    <tr>\n",
              "      <th>2395</th>\n",
              "      <td>142230</td>\n",
              "      <td>daa362c1281c6a13f7691018d8928a07</td>\n",
              "      <td>db271f725386ab9100660cfa5f7d182f</td>\n",
              "      <td>2019-12-13</td>\n",
              "      <td>20190150</td>\n",
              "      <td>A</td>\n",
              "      <td>2700000010884</td>\n",
              "      <td>새우맛을알아?한판초밥(16입)</td>\n",
              "      <td>1</td>\n",
              "      <td>100001300</td>\n",
              "      <td>...</td>\n",
              "      <td>F</td>\n",
              "      <td>2700000010884</td>\n",
              "      <td>새우맛을알아?한판초밥(16입)</td>\n",
              "      <td>C001004000080002</td>\n",
              "      <td>치킨 · 초밥 · 베이커리-&gt;김밥 · 초밥 · 샐러드-&gt;김밥 · 초밥 · 도시락</td>\n",
              "      <td>2019</td>\n",
              "      <td>12</td>\n",
              "      <td>13</td>\n",
              "      <td>0</td>\n",
              "      <td>100001300</td>\n",
              "    </tr>\n",
              "    <tr>\n",
              "      <th>4016</th>\n",
              "      <td>146860</td>\n",
              "      <td>daa362c1281c6a13f7691018d8928a07</td>\n",
              "      <td>b2289a6d8446384840cadc5b412f032f</td>\n",
              "      <td>2020-01-08</td>\n",
              "      <td>20200102</td>\n",
              "      <td>A</td>\n",
              "      <td>2700000010884</td>\n",
              "      <td>새우맛을알아?한판초밥(16입)</td>\n",
              "      <td>1</td>\n",
              "      <td>100001300</td>\n",
              "      <td>...</td>\n",
              "      <td>F</td>\n",
              "      <td>2700000010884</td>\n",
              "      <td>새우맛을알아?한판초밥(16입)</td>\n",
              "      <td>C001004000080002</td>\n",
              "      <td>치킨 · 초밥 · 베이커리-&gt;김밥 · 초밥 · 샐러드-&gt;김밥 · 초밥 · 도시락</td>\n",
              "      <td>2020</td>\n",
              "      <td>1</td>\n",
              "      <td>8</td>\n",
              "      <td>0</td>\n",
              "      <td>100001300</td>\n",
              "    </tr>\n",
              "    <tr>\n",
              "      <th>39316</th>\n",
              "      <td>317421</td>\n",
              "      <td>daa362c1281c6a13f7691018d8928a07</td>\n",
              "      <td>ebafa77abbc29be90a2c7e2b20cedf1d</td>\n",
              "      <td>2020-10-03</td>\n",
              "      <td>20200140</td>\n",
              "      <td>A</td>\n",
              "      <td>2700000010884</td>\n",
              "      <td>새우맛을알아?한판초밥(16입)</td>\n",
              "      <td>1</td>\n",
              "      <td>100001400</td>\n",
              "      <td>...</td>\n",
              "      <td>M</td>\n",
              "      <td>2700000010884</td>\n",
              "      <td>새우맛을알아?한판초밥(16입)</td>\n",
              "      <td>C001004000080002</td>\n",
              "      <td>치킨 · 초밥 · 베이커리-&gt;김밥 · 초밥 · 샐러드-&gt;김밥 · 초밥 · 도시락</td>\n",
              "      <td>2020</td>\n",
              "      <td>10</td>\n",
              "      <td>3</td>\n",
              "      <td>0</td>\n",
              "      <td>100001400</td>\n",
              "    </tr>\n",
              "  </tbody>\n",
              "</table>\n",
              "<p>3 rows × 21 columns</p>\n",
              "</div>"
            ],
            "text/plain": [
              "           id                          Order_Id  \\\n",
              "2395   142230  daa362c1281c6a13f7691018d8928a07   \n",
              "4016   146860  daa362c1281c6a13f7691018d8928a07   \n",
              "39316  317421  daa362c1281c6a13f7691018d8928a07   \n",
              "\n",
              "                                User_Id Purchase_Date    Period Retailer  \\\n",
              "2395   db271f725386ab9100660cfa5f7d182f    2019-12-13  20190150        A   \n",
              "4016   b2289a6d8446384840cadc5b412f032f    2020-01-08  20200102        A   \n",
              "39316  ebafa77abbc29be90a2c7e2b20cedf1d    2020-10-03  20200140        A   \n",
              "\n",
              "         ProductCode  Item_Description  Sales_Unit      Price  ...  Gender  \\\n",
              "2395   2700000010884  새우맛을알아?한판초밥(16입)           1  100001300  ...       F   \n",
              "4016   2700000010884  새우맛을알아?한판초밥(16입)           1  100001300  ...       F   \n",
              "39316  2700000010884  새우맛을알아?한판초밥(16입)           1  100001400  ...       M   \n",
              "\n",
              "      MasterProdcutNo MasterProdcutName MasterCategoryFullNo  \\\n",
              "2395    2700000010884  새우맛을알아?한판초밥(16입)     C001004000080002   \n",
              "4016    2700000010884  새우맛을알아?한판초밥(16입)     C001004000080002   \n",
              "39316   2700000010884  새우맛을알아?한판초밥(16입)     C001004000080002   \n",
              "\n",
              "                             MasterCategoryFullName Purchase_Date_year  \\\n",
              "2395   치킨 · 초밥 · 베이커리->김밥 · 초밥 · 샐러드->김밥 · 초밥 · 도시락               2019   \n",
              "4016   치킨 · 초밥 · 베이커리->김밥 · 초밥 · 샐러드->김밥 · 초밥 · 도시락               2020   \n",
              "39316  치킨 · 초밥 · 베이커리->김밥 · 초밥 · 샐러드->김밥 · 초밥 · 도시락               2020   \n",
              "\n",
              "       Purchase_Date_month  Purchase_Date_day  Purchase_Date_hour        gmv  \n",
              "2395                    12                 13                   0  100001300  \n",
              "4016                     1                  8                   0  100001300  \n",
              "39316                   10                  3                   0  100001400  \n",
              "\n",
              "[3 rows x 21 columns]"
            ]
          },
          "execution_count": 87,
          "metadata": {},
          "output_type": "execute_result"
        }
      ],
      "source": [
        "purchase.loc[purchase['Item_Description'] == \"새우맛을알아?한판초밥(16입)\"]"
      ]
    },
    {
      "cell_type": "markdown",
      "id": "c67e8338",
      "metadata": {
        "id": "c67e8338"
      },
      "source": [
        "### Q6-2) 이 시각화로 발견할 수 있는 사실은 어떤 게 있을까요? 그리고 앞서 우리의 예상과 어떤 차이가 있나요?\n",
        "\n",
        "1.\n",
        "\n",
        "2.\n",
        "\n",
        "3."
      ]
    },
    {
      "cell_type": "markdown",
      "id": "b3a6d3e2",
      "metadata": {
        "id": "b3a6d3e2"
      },
      "source": [
        "자, 이제 더 중요한 사실에 대해서 고민해 보도록 하겠습니다.\n",
        "\n",
        "우리에게 중요한건 데이터에 어떤 특징이 있는지 발견하는 것도 있지만, **이 특징을 활용해 앞으로 사용할 머신러닝 알고리즘을 개선시킬 수 있는가?**가 더 중요합니다. 또한 개선을 한다면 구체적으로 어떤 방식으로 개선하는지도 중요하겠죠."
      ]
    },
    {
      "cell_type": "markdown",
      "id": "7e74dd21",
      "metadata": {
        "id": "7e74dd21"
      },
      "source": [
        "## Agegroup\n",
        "\n",
        "분석할 컬럼은 **Agegroup** 컬럼입니다. 10, 20, 30, 40"
      ]
    },
    {
      "cell_type": "markdown",
      "id": "14270f85",
      "metadata": {
        "id": "14270f85"
      },
      "source": [
        "### Q7-1) 시각화를 하기 전에 어떤 그림이 나올 것으로 예상하시나요? 최소 3가지 아이디어를 생각해보세요.\n",
        "\n",
        "**주내용은 반드시** 시각화를 하기 전에 작성하셔야 합니다.** 그래야 시각화 결과와 본인의 아이디어를 비교해서 차이를 발견할 수 있습니다.\n",
        "\n",
        "1.\n",
        "\n",
        "2.\n",
        "\n",
        "3."
      ]
    },
    {
      "cell_type": "markdown",
      "id": "b845d6fe",
      "metadata": {
        "id": "b845d6fe"
      },
      "source": [
        "자, 그럼 위 예상과 실제 데이터가 일치하는지 데이터 시각화를 통해 살펴보도록 하겠습니다."
      ]
    },
    {
      "cell_type": "code",
      "execution_count": null,
      "id": "bd58329f",
      "metadata": {
        "id": "bd58329f",
        "outputId": "903c312d-b3c3-4dca-f872-dd63deaa86ad"
      },
      "outputs": [
        {
          "data": {
            "text/plain": [
              "<AxesSubplot:xlabel='Agegroup', ylabel='count'>"
            ]
          },
          "execution_count": 114,
          "metadata": {},
          "output_type": "execute_result"
        },
        {
          "data": {
            "image/png": "[encoded data removed]",
            "text/plain": [
              "<Figure size 576x288 with 1 Axes>"
            ]
          },
          "metadata": {
            "needs_background": "light"
          },
          "output_type": "display_data"
        }
      ],
      "source": [
        "plt.figure(figsize = (8,4))\n",
        "sns.countplot(data=purchase, x = \"Agegroup\")"
      ]
    },
    {
      "cell_type": "code",
      "execution_count": null,
      "id": "bb673759",
      "metadata": {
        "scrolled": true,
        "id": "bb673759",
        "outputId": "ebb04143-11a7-4cec-bf78-bb82fe8eccec"
      },
      "outputs": [
        {
          "data": {
            "text/plain": [
              "<matplotlib.legend.Legend at 0x1bacc64d160>"
            ]
          },
          "execution_count": 110,
          "metadata": {},
          "output_type": "execute_result"
        },
        {
          "data": {
            "image/png": "[encoded data removed]",
            "text/plain": [
              "<Figure size 1296x360 with 1 Axes>"
            ]
          },
          "metadata": {
            "needs_background": "light"
          },
          "output_type": "display_data"
        }
      ],
      "source": [
        "plt.figure(figsize = (18,5))\n",
        "sns.countplot(data=purchase, x = \"Agegroup\", hue=\"Retailer\")\n",
        "plt.legend(loc = 'right')"
      ]
    },
    {
      "cell_type": "markdown",
      "id": "bba82d65",
      "metadata": {
        "id": "bba82d65"
      },
      "source": [
        "### Q7-2) 이 시각화로 발견할 수 있는 사실은 어떤 게 있을까요? 그리고 앞서 우리의 예상과 어떤 차이가 있나요?\n",
        "\n",
        "1.\n",
        "\n",
        "2.\n",
        "\n",
        "3."
      ]
    },
    {
      "cell_type": "markdown",
      "id": "1f425469",
      "metadata": {
        "id": "1f425469"
      },
      "source": [
        "자, 이제 더 중요한 사실에 대해서 고민해 보도록 하겠습니다.\n",
        "\n",
        "우리에게 중요한건 데이터에 어떤 특징이 있는지 발견하는 것도 있지만, **이 특징을 활용해 앞으로 사용할 머신러닝 알고리즘을 개선시킬 수 있는가?**가 더 중요합니다. 또한 개선을 한다면 구체적으로 어떤 방식으로 개선하는지도 중요하겠죠."
      ]
    },
    {
      "cell_type": "markdown",
      "id": "a864966c",
      "metadata": {
        "id": "a864966c"
      },
      "source": [
        "## Gender\n",
        "\n",
        "분석할 컬럼은 **Gender** 컬럼입니다."
      ]
    },
    {
      "cell_type": "markdown",
      "id": "cff6d8bd",
      "metadata": {
        "id": "cff6d8bd"
      },
      "source": [
        "### Q8-1) 시각화를 하기 전에 어떤 그림이 나올 것으로 예상하시나요? 최소 3가지 아이디어를 생각해보세요.\n",
        "\n",
        "**주내용은 반드시** 시각화를 하기 전에 작성하셔야 합니다.** 그래야 시각화 결과와 본인의 아이디어를 비교해서 차이를 발견할 수 있습니다.\n",
        "\n",
        "1.\n",
        "\n",
        "2.\n",
        "\n",
        "3."
      ]
    },
    {
      "cell_type": "markdown",
      "id": "32fc69eb",
      "metadata": {
        "id": "32fc69eb"
      },
      "source": [
        "자, 그럼 위 예상과 실제 데이터가 일치하는지 데이터 시각화를 통해 살펴보도록 하겠습니다."
      ]
    },
    {
      "cell_type": "code",
      "execution_count": null,
      "id": "5684e4bf",
      "metadata": {
        "id": "5684e4bf",
        "outputId": "969aa704-a444-4080-c04d-bac1a9be1f2f"
      },
      "outputs": [
        {
          "data": {
            "text/plain": [
              "1"
            ]
          },
          "execution_count": 116,
          "metadata": {},
          "output_type": "execute_result"
        }
      ],
      "source": [
        "#빈값이 하나 있으므로 없애 주는것이 좋을 것 같습니다.\n",
        "purchase[\"Gender\"].isnull().sum()"
      ]
    },
    {
      "cell_type": "code",
      "execution_count": null,
      "id": "eeb9c758",
      "metadata": {
        "id": "eeb9c758",
        "outputId": "b4e0f3a8-a8cb-4bbc-e096-4d46d8c90141"
      },
      "outputs": [
        {
          "data": {
            "text/plain": [
              "<AxesSubplot:xlabel='Gender', ylabel='count'>"
            ]
          },
          "execution_count": 119,
          "metadata": {},
          "output_type": "execute_result"
        },
        {
          "data": {
            "image/png": "[encoded data removed]",
            "text/plain": [
              "<Figure size 432x288 with 1 Axes>"
            ]
          },
          "metadata": {
            "needs_background": "light"
          },
          "output_type": "display_data"
        }
      ],
      "source": [
        "sns.countplot(data=purchase, x = \"Gender\")"
      ]
    },
    {
      "cell_type": "code",
      "execution_count": null,
      "id": "87e72494",
      "metadata": {
        "id": "87e72494",
        "outputId": "87cc1713-b2ad-452e-e54d-d2691e3fd9da"
      },
      "outputs": [
        {
          "data": {
            "text/plain": [
              "<AxesSubplot:xlabel='Gender', ylabel='count'>"
            ]
          },
          "execution_count": 118,
          "metadata": {},
          "output_type": "execute_result"
        },
        {
          "data": {
            "image/png": "[encoded data removed]",
            "text/plain": [
              "<Figure size 432x288 with 1 Axes>"
            ]
          },
          "metadata": {
            "needs_background": "light"
          },
          "output_type": "display_data"
        }
      ],
      "source": [
        "sns.countplot(data=purchase, x = \"Gender\", hue=\"Agegroup\")"
      ]
    },
    {
      "cell_type": "code",
      "execution_count": null,
      "id": "e807b92b",
      "metadata": {
        "scrolled": true,
        "id": "e807b92b",
        "outputId": "f779d986-6af8-4a95-e996-9dd90e631df0"
      },
      "outputs": [
        {
          "data": {
            "text/plain": [
              "<AxesSubplot:xlabel='Gender', ylabel='count'>"
            ]
          },
          "execution_count": 120,
          "metadata": {},
          "output_type": "execute_result"
        },
        {
          "data": {
            "image/png": "[encoded data removed]",
            "text/plain": [
              "<Figure size 432x288 with 1 Axes>"
            ]
          },
          "metadata": {
            "needs_background": "light"
          },
          "output_type": "display_data"
        }
      ],
      "source": [
        "sns.countplot(data=purchase, x = \"Gender\", hue=\"Retailer\")"
      ]
    },
    {
      "cell_type": "markdown",
      "id": "4cc22583",
      "metadata": {
        "id": "4cc22583"
      },
      "source": [
        "### Q8-2) 이 시각화로 발견할 수 있는 사실은 어떤 게 있을까요? 그리고 앞서 우리의 예상과 어떤 차이가 있나요?\n",
        "\n",
        "1.\n",
        "\n",
        "2.\n",
        "\n",
        "3."
      ]
    },
    {
      "cell_type": "markdown",
      "id": "fae74822",
      "metadata": {
        "id": "fae74822"
      },
      "source": [
        "자, 이제 더 중요한 사실에 대해서 고민해 보도록 하겠습니다.\n",
        "\n",
        "우리에게 중요한건 데이터에 어떤 특징이 있는지 발견하는 것도 있지만, **이 특징을 활용해 앞으로 사용할 머신러닝 알고리즘을 개선시킬 수 있는가?**가 더 중요합니다. 또한 개선을 한다면 구체적으로 어떤 방식으로 개선하는지도 중요하겠죠."
      ]
    },
    {
      "cell_type": "markdown",
      "id": "95179880",
      "metadata": {
        "id": "95179880"
      },
      "source": [
        "## MasterProdcutNo, MasterProdcutName\n",
        "\n",
        "분석할 컬럼은 **MasterProdcutNo, MasterProdcutName** 컬럼입니다."
      ]
    },
    {
      "cell_type": "markdown",
      "id": "21720e0c",
      "metadata": {
        "id": "21720e0c"
      },
      "source": [
        "### Q9-1) 시각화를 하기 전에 어떤 그림이 나올 것으로 예상하시나요? 최소 3가지 아이디어를 생각해보세요.\n",
        "\n",
        "**주내용은 반드시** 시각화를 하기 전에 작성하셔야 합니다.** 그래야 시각화 결과와 본인의 아이디어를 비교해서 차이를 발견할 수 있습니다.\n",
        "\n",
        "1.\n",
        "\n",
        "\n",
        "2.\n",
        "\n",
        "3."
      ]
    },
    {
      "cell_type": "markdown",
      "id": "24e0a073",
      "metadata": {
        "id": "24e0a073"
      },
      "source": [
        "자, 그럼 위 예상과 실제 데이터가 일치하는지 데이터 시각화를 통해 살펴보도록 하겠습니다."
      ]
    },
    {
      "cell_type": "code",
      "execution_count": null,
      "id": "2f8dc5d9",
      "metadata": {
        "id": "2f8dc5d9"
      },
      "outputs": [],
      "source": [
        "#write your code!"
      ]
    },
    {
      "cell_type": "markdown",
      "id": "ed0de3b6",
      "metadata": {
        "id": "ed0de3b6"
      },
      "source": [
        "### Q9-2) 이 시각화로 발견할 수 있는 사실은 어떤 게 있을까요? 그리고 앞서 우리의 예상과 어떤 차이가 있나요?\n",
        "\n",
        "1.\n",
        "\n",
        "2.\n",
        "\n",
        "3."
      ]
    },
    {
      "cell_type": "markdown",
      "id": "90290cfb",
      "metadata": {
        "id": "90290cfb"
      },
      "source": [
        "자, 이제 더 중요한 사실에 대해서 고민해 보도록 하겠습니다.\n",
        "\n",
        "우리에게 중요한건 데이터에 어떤 특징이 있는지 발견하는 것도 있지만, **이 특징을 활용해 앞으로 사용할 머신러닝 알고리즘을 개선시킬 수 있는가?**가 더 중요합니다. 또한 개선을 한다면 구체적으로 어떤 방식으로 개선하는지도 중요하겠죠."
      ]
    },
    {
      "cell_type": "markdown",
      "id": "fb99c969",
      "metadata": {
        "id": "fb99c969"
      },
      "source": [
        "## MasterCategoryFullNo, MasterCategoryFullName\n",
        "\n",
        "분석할 컬럼은 **MasterCategoryFullNo, MasterCategoryFullName** 컬럼입니다."
      ]
    },
    {
      "cell_type": "markdown",
      "id": "29e020cc",
      "metadata": {
        "id": "29e020cc"
      },
      "source": [
        "### Q10-1) 시각화를 하기 전에 어떤 그림이 나올 것으로 예상하시나요? 최소 3가지 아이디어를 생각해보세요.\n",
        "\n",
        "**주내용은 반드시** 시각화를 하기 전에 작성하셔야 합니다.** 그래야 시각화 결과와 본인의 아이디어를 비교해서 차이를 발견할 수 있습니다.\n",
        "\n",
        "1.\n",
        "\n",
        "2.\n",
        "\n",
        "3."
      ]
    },
    {
      "cell_type": "markdown",
      "id": "2ae37375",
      "metadata": {
        "id": "2ae37375"
      },
      "source": [
        "자, 그럼 위 예상과 실제 데이터가 일치하는지 데이터 시각화를 통해 살펴보도록 하겠습니다."
      ]
    },
    {
      "cell_type": "code",
      "execution_count": null,
      "id": "1ec3a701",
      "metadata": {
        "id": "1ec3a701"
      },
      "outputs": [],
      "source": [
        "#write your code!"
      ]
    },
    {
      "cell_type": "markdown",
      "id": "5f839b86",
      "metadata": {
        "id": "5f839b86"
      },
      "source": [
        "### Q10-2) 이 시각화로 발견할 수 있는 사실은 어떤 게 있을까요? 그리고 앞서 우리의 예상과 어떤 차이가 있나요?\n",
        "\n",
        "1.\n",
        "\n",
        "2.\n",
        "\n",
        "3."
      ]
    },
    {
      "cell_type": "markdown",
      "id": "e1d4c209",
      "metadata": {
        "id": "e1d4c209"
      },
      "source": [
        "자, 이제 더 중요한 사실에 대해서 고민해 보도록 하겠습니다.\n",
        "\n",
        "우리에게 중요한건 데이터에 어떤 특징이 있는지 발견하는 것도 있지만, **이 특징을 활용해 앞으로 사용할 머신러닝 알고리즘을 개선시킬 수 있는가?**가 더 중요합니다. 또한 개선을 한다면 구체적으로 어떤 방식으로 개선하는지도 중요하겠죠."
      ]
    },
    {
      "cell_type": "code",
      "execution_count": null,
      "id": "d61d2d0a",
      "metadata": {
        "id": "d61d2d0a"
      },
      "outputs": [],
      "source": []
    },
    {
      "cell_type": "code",
      "execution_count": null,
      "id": "2b14ee7e",
      "metadata": {
        "id": "2b14ee7e"
      },
      "outputs": [],
      "source": [
        "import pandas as pd\n",
        "import numpy as np"
      ]
    }
  ],
  "metadata": {
    "hide_input": false,
    "kernelspec": {
      "display_name": "Python 3 (ipykernel)",
      "language": "python",
      "name": "python3"
    },
    "language_info": {
      "codemirror_mode": {
        "name": "ipython",
        "version": 3
      },
      "file_extension": ".py",
      "mimetype": "text/x-python",
      "name": "python",
      "nbconvert_exporter": "python",
      "pygments_lexer": "ipython3",
      "version": "3.9.7"
    },
    "toc": {
      "base_numbering": 1,
      "nav_menu": {},
      "number_sections": true,
      "sideBar": true,
      "skip_h1_title": false,
      "title_cell": "Table of Contents",
      "title_sidebar": "Contents",
      "toc_cell": false,
      "toc_position": {},
      "toc_section_display": true,
      "toc_window_display": false
    },
    "varInspector": {
      "cols": {
        "lenName": 16,
        "lenType": 16,
        "lenVar": 40
      },
      "kernels_config": {
        "python": {
          "delete_cmd_postfix": "",
          "delete_cmd_prefix": "del ",
          "library": "var_list.py",
          "varRefreshCmd": "print(var_dic_list())"
        },
        "r": {
          "delete_cmd_postfix": ") ",
          "delete_cmd_prefix": "rm(",
          "library": "var_list.r",
          "varRefreshCmd": "cat(var_dic_list()) "
        }
      },
      "types_to_exclude": [
        "module",
        "function",
        "builtin_function_or_method",
        "instance",
        "_Feature"
      ],
      "window_display": false
    },
    "colab": {
      "provenance": []
    }
  },
  "nbformat": 4,
  "nbformat_minor": 5
}