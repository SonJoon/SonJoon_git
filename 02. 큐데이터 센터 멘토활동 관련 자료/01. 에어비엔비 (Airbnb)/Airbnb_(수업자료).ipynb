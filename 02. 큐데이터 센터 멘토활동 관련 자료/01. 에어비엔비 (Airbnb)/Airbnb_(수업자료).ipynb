{
  "cells": [
    {
      "cell_type": "markdown",
      "id": "7ad59e4c",
      "metadata": {
        "id": "7ad59e4c"
      },
      "source": [
        "## 파이썬과 판다스를 활용한 실전 데이터 분석\n",
        "\n",
        "이번 과제는 캐글의 에이비엔비(https://www.kaggle.com/datasets/dgomonov/new-york-city-airbnb-open-data?select=AB_NYC_2019.csv)데이터를 더 깊게 분석합니다.\n",
        "\n",
        "데이터 사이언티스트로서 데이터를 분석할 때 가장 필수적인 스킬은 프로그래밍 언어 파이썬([Python](https://www.python.org/)), 데이터 분석 패키지 판다스([Pandas](https://pandas.pydata.org/)), 그리고 데이터 시각화 패키지 씨본([Seaborn](https://seaborn.pydata.org))과 [matplotlib](https://matplotlib.org)입니다. 데이터 분석가는 언제나 주변 동료들의 요청(ex: 운영팀, 재무팀, 마케팅팀)에 맞게 데이터를 뽑아내 그 통계치를 제공하고 시각화 결과를 전달해줘야 하는데, 파이썬과 판다스, 시각화 스킬이 부족하면 주어진 시간 내에 이를 전달해 줄 수 없습니다.\n",
        "\n",
        "2008년부터 게스트와 호스트는 에어비앤비를 사용하여 여행 가능성을 확장하고 더 독특하고 개인화된 세상 경험 방법을 제시해 왔습니다. 이 데이터 세트는 2019년 뉴욕 NYC의 상장 활동 및 지표를 설명합니다.\n",
        "이 데이터 파일에는 호스트, 지리적 가용성, 예측을 하고 결론을 도출하는 데 필요한 메트릭에 대해 자세히 알아보는 데 필요한 모든 정보가 포함되어 있습니다. 결국 뉴욕 에어비앤비 숙소에 대해 가격을 예측하는 회귀분석 프로젝트 입니다.\n",
        "\n",
        "* **다른 호스트와 지역에 대해 무엇을 배울 수 있습니까?**\n",
        "* **예측에서 무엇을 배울 수 있습니까? (예: 위치, 가격, 리뷰 등)**\n",
        "* **어떤 호스트가 가장 바쁘고 그 이유는 무엇입니까?**\n",
        "* **지역에 따라 눈에 띄는 트래픽 차이가 있으며 그 이유는 무엇입니까?**\n",
        "\n",
        "이번 노트북에는 에이비엔비 데이터를 활용하여, 현업에서 충분히 발생할 만한 사례를 모아 총 N개의 문제를 만들어 보았습니다. 주어진 시간 내에 모든 문제를 해결해보세요. DS School의 내부 테스트 결과, 현업에서 데이터 사이언티스트로 일 하고 있는 분들은 아무리 늦어도 반나절(3~4시간) 내에는 모든 문제를 풀 수 있었습니다. 즉, 3시간 안에 모든 문제를 풀 수 있다면 합격입니다.\n",
        "\n",
        "문제를 풀 때 구글에 검색하는 것 모두 허용합니다. (문제 중에는 구글에 검색하지 않으면 풀 수 없는 문제도 몇 개 준비해놓았습니다) 관련 자료는 [10 minutes to pandas](https://pandas.pydata.org/pandas-docs/stable/10min.html) 를 강력 추천합니다.\n",
        "\n",
        "또한 아래 문제를 풀면서 어려움을 느끼거나, 주어진 시간 내에 풀 수 없다는 생각이 들면 DS School의 [실전 데이터분석 과정](https://dsschool.co.kr/suggestions)을 수강하는 것을 권장 드립니다."
      ]
    },
    {
      "cell_type": "markdown",
      "id": "434360d7",
      "metadata": {
        "id": "434360d7"
      },
      "source": [
        "## 칼럼 설명"
      ]
    },
    {
      "cell_type": "markdown",
      "id": "e4cebf1b",
      "metadata": {
        "id": "e4cebf1b"
      },
      "source": [
        "* **id** : 생존여부\n",
        "* **name** : 에어비엔비 이름\n",
        "* **host_id** : 호스트 id\n",
        "* **host_name** : 호스트 성명\n",
        "* **neighbourhood_group** : 지구 명\n",
        "* **neighbourhood** : 지역명\n",
        "* **latitude** : 위도\n",
        "* **longitude** : 경도\n",
        "* **room_type** : 방 타입\n",
        "* **price** : 가격\n",
        "* **minimum_nights** : 최소 숙박일수\n",
        "* **number_of_reviews** : 리뷰 개수\n",
        "* **last_reviews** : 최근 리뷰 일자\n",
        "* **reviews_per_month** : 월 평균 리뷰 수\n",
        "* **calculated_host_listings_count** : 호스트에게 대여 가능한 에어비엔비의 총 개수\n",
        "* **availability_365** : 1년 중 가능한 대여일수"
      ]
    },
    {
      "cell_type": "markdown",
      "id": "242c3d14",
      "metadata": {
        "id": "242c3d14"
      },
      "source": [
        "## 라이브러리 불러오기"
      ]
    },
    {
      "cell_type": "code",
      "execution_count": null,
      "id": "393ff6d5",
      "metadata": {
        "ExecuteTime": {
          "end_time": "2022-10-31T10:07:38.225071Z",
          "start_time": "2022-10-31T10:07:33.303010Z"
        },
        "id": "393ff6d5"
      },
      "outputs": [],
      "source": [
        "# 데이터 시각화 패키지 matplotlib에게 inline출력,\n",
        "# 즉 시각화 결과를 파일로 저장하거나 하지 않고 화면에 바로 출력하도록 명령합니다.\n",
        "# (Seaborn이 matplotlib를 기반으로 동작하기 때문에, Seaborn에도 동일한 명령이 전달됩니다.)\n",
        "%matplotlib inline\n",
        "\n",
        "# 파이썬의 데이터 분석 패키지 판다스(Pandas)를 가져오고, 이를 pd라는 이름의 축약어로 사용합니다.\n",
        "import pandas as pd\n",
        "\n",
        "# 파이썬의 데이터 시각화 패키지 시본(Seaborn)을 가져오고, 이를 sns라는 이름의 축약어로 사용합니다.\n",
        "import seaborn as sns\n",
        "import matplotlib as plt"
      ]
    },
    {
      "cell_type": "markdown",
      "id": "97f7bfeb",
      "metadata": {
        "id": "97f7bfeb"
      },
      "source": [
        "### 데이터 불려오기"
      ]
    },
    {
      "cell_type": "code",
      "execution_count": null,
      "id": "5c3d6a8a",
      "metadata": {
        "id": "5c3d6a8a",
        "outputId": "8219dd5a-2e7d-4a9d-e00a-bfc17a4b6cb3"
      },
      "outputs": [
        {
          "name": "stdout",
          "output_type": "stream",
          "text": [
            "(48895, 15)\n"
          ]
        },
        {
          "data": {
            "text/html": [
              "<div>\n",
              "<style scoped>\n",
              "    .dataframe tbody tr th:only-of-type {\n",
              "        vertical-align: middle;\n",
              "    }\n",
              "\n",
              "    .dataframe tbody tr th {\n",
              "        vertical-align: top;\n",
              "    }\n",
              "\n",
              "    .dataframe thead th {\n",
              "        text-align: right;\n",
              "    }\n",
              "</style>\n",
              "<table border=\"1\" class=\"dataframe\">\n",
              "  <thead>\n",
              "    <tr style=\"text-align: right;\">\n",
              "      <th></th>\n",
              "      <th>name</th>\n",
              "      <th>host_id</th>\n",
              "      <th>host_name</th>\n",
              "      <th>neighbourhood_group</th>\n",
              "      <th>neighbourhood</th>\n",
              "      <th>latitude</th>\n",
              "      <th>longitude</th>\n",
              "      <th>room_type</th>\n",
              "      <th>price</th>\n",
              "      <th>minimum_nights</th>\n",
              "      <th>number_of_reviews</th>\n",
              "      <th>last_review</th>\n",
              "      <th>reviews_per_month</th>\n",
              "      <th>calculated_host_listings_count</th>\n",
              "      <th>availability_365</th>\n",
              "    </tr>\n",
              "    <tr>\n",
              "      <th>id</th>\n",
              "      <th></th>\n",
              "      <th></th>\n",
              "      <th></th>\n",
              "      <th></th>\n",
              "      <th></th>\n",
              "      <th></th>\n",
              "      <th></th>\n",
              "      <th></th>\n",
              "      <th></th>\n",
              "      <th></th>\n",
              "      <th></th>\n",
              "      <th></th>\n",
              "      <th></th>\n",
              "      <th></th>\n",
              "      <th></th>\n",
              "    </tr>\n",
              "  </thead>\n",
              "  <tbody>\n",
              "    <tr>\n",
              "      <th>2539</th>\n",
              "      <td>Clean &amp; quiet apt home by the park</td>\n",
              "      <td>2787</td>\n",
              "      <td>John</td>\n",
              "      <td>Brooklyn</td>\n",
              "      <td>Kensington</td>\n",
              "      <td>40.64749</td>\n",
              "      <td>-73.97237</td>\n",
              "      <td>Private room</td>\n",
              "      <td>149</td>\n",
              "      <td>1</td>\n",
              "      <td>9</td>\n",
              "      <td>2018-10-19</td>\n",
              "      <td>0.21</td>\n",
              "      <td>6</td>\n",
              "      <td>365</td>\n",
              "    </tr>\n",
              "    <tr>\n",
              "      <th>2595</th>\n",
              "      <td>Skylit Midtown Castle</td>\n",
              "      <td>2845</td>\n",
              "      <td>Jennifer</td>\n",
              "      <td>Manhattan</td>\n",
              "      <td>Midtown</td>\n",
              "      <td>40.75362</td>\n",
              "      <td>-73.98377</td>\n",
              "      <td>Entire home/apt</td>\n",
              "      <td>225</td>\n",
              "      <td>1</td>\n",
              "      <td>45</td>\n",
              "      <td>2019-05-21</td>\n",
              "      <td>0.38</td>\n",
              "      <td>2</td>\n",
              "      <td>355</td>\n",
              "    </tr>\n",
              "    <tr>\n",
              "      <th>3647</th>\n",
              "      <td>THE VILLAGE OF HARLEM....NEW YORK !</td>\n",
              "      <td>4632</td>\n",
              "      <td>Elisabeth</td>\n",
              "      <td>Manhattan</td>\n",
              "      <td>Harlem</td>\n",
              "      <td>40.80902</td>\n",
              "      <td>-73.94190</td>\n",
              "      <td>Private room</td>\n",
              "      <td>150</td>\n",
              "      <td>3</td>\n",
              "      <td>0</td>\n",
              "      <td>NaN</td>\n",
              "      <td>NaN</td>\n",
              "      <td>1</td>\n",
              "      <td>365</td>\n",
              "    </tr>\n",
              "    <tr>\n",
              "      <th>3831</th>\n",
              "      <td>Cozy Entire Floor of Brownstone</td>\n",
              "      <td>4869</td>\n",
              "      <td>LisaRoxanne</td>\n",
              "      <td>Brooklyn</td>\n",
              "      <td>Clinton Hill</td>\n",
              "      <td>40.68514</td>\n",
              "      <td>-73.95976</td>\n",
              "      <td>Entire home/apt</td>\n",
              "      <td>89</td>\n",
              "      <td>1</td>\n",
              "      <td>270</td>\n",
              "      <td>2019-07-05</td>\n",
              "      <td>4.64</td>\n",
              "      <td>1</td>\n",
              "      <td>194</td>\n",
              "    </tr>\n",
              "    <tr>\n",
              "      <th>5022</th>\n",
              "      <td>Entire Apt: Spacious Studio/Loft by central park</td>\n",
              "      <td>7192</td>\n",
              "      <td>Laura</td>\n",
              "      <td>Manhattan</td>\n",
              "      <td>East Harlem</td>\n",
              "      <td>40.79851</td>\n",
              "      <td>-73.94399</td>\n",
              "      <td>Entire home/apt</td>\n",
              "      <td>80</td>\n",
              "      <td>10</td>\n",
              "      <td>9</td>\n",
              "      <td>2018-11-19</td>\n",
              "      <td>0.10</td>\n",
              "      <td>1</td>\n",
              "      <td>0</td>\n",
              "    </tr>\n",
              "  </tbody>\n",
              "</table>\n",
              "</div>"
            ],
            "text/plain": [
              "                                                  name  host_id    host_name  \\\n",
              "id                                                                             \n",
              "2539                Clean & quiet apt home by the park     2787         John   \n",
              "2595                             Skylit Midtown Castle     2845     Jennifer   \n",
              "3647               THE VILLAGE OF HARLEM....NEW YORK !     4632    Elisabeth   \n",
              "3831                   Cozy Entire Floor of Brownstone     4869  LisaRoxanne   \n",
              "5022  Entire Apt: Spacious Studio/Loft by central park     7192        Laura   \n",
              "\n",
              "     neighbourhood_group neighbourhood  latitude  longitude        room_type  \\\n",
              "id                                                                             \n",
              "2539            Brooklyn    Kensington  40.64749  -73.97237     Private room   \n",
              "2595           Manhattan       Midtown  40.75362  -73.98377  Entire home/apt   \n",
              "3647           Manhattan        Harlem  40.80902  -73.94190     Private room   \n",
              "3831            Brooklyn  Clinton Hill  40.68514  -73.95976  Entire home/apt   \n",
              "5022           Manhattan   East Harlem  40.79851  -73.94399  Entire home/apt   \n",
              "\n",
              "      price  minimum_nights  number_of_reviews last_review  reviews_per_month  \\\n",
              "id                                                                              \n",
              "2539    149               1                  9  2018-10-19               0.21   \n",
              "2595    225               1                 45  2019-05-21               0.38   \n",
              "3647    150               3                  0         NaN                NaN   \n",
              "3831     89               1                270  2019-07-05               4.64   \n",
              "5022     80              10                  9  2018-11-19               0.10   \n",
              "\n",
              "      calculated_host_listings_count  availability_365  \n",
              "id                                                      \n",
              "2539                               6               365  \n",
              "2595                               2               355  \n",
              "3647                               1               365  \n",
              "3831                               1               194  \n",
              "5022                               1                 0  "
            ]
          },
          "execution_count": 3,
          "metadata": {},
          "output_type": "execute_result"
        }
      ],
      "source": [
        "# airbnb.csv 파일을 읽어옵니다. 여기서 id라는 컬럼을 인덱스(index)로 지정한 뒤, airbnb 변수에 할당합니다.\n",
        "# 변수에 할당한 결과값을 판다스 전문 용어로 데이터프레임(DataFrame)이라고 부릅니다.\n",
        "airbnb = pd.read_csv(\"data/AB_NYC_2019.csv\", index_col=\"id\")\n",
        "\n",
        "# airbnb 변수에 할당된 데이터의 행렬 사이즈를 출력합니다.\n",
        "# 출력은 (row, column) 으로 표시됩니다.\n",
        "print(airbnb.shape)\n",
        "\n",
        "# head()로 train 데이터의 상위 5개를 출력합니다.\n",
        "airbnb.head()"
      ]
    },
    {
      "cell_type": "markdown",
      "id": "13107bb7",
      "metadata": {
        "id": "13107bb7"
      },
      "source": [
        "### 데이터 정리 + 기본 분석 - 문제만들기(토마스랑)"
      ]
    },
    {
      "cell_type": "markdown",
      "id": "850b74fe",
      "metadata": {
        "id": "850b74fe"
      },
      "source": [
        "**1.** 칼럼별 누락값 확인. 특히, 투숙객 이름과 호스트에 누락값이 있다. 중요한 정보이므로 이를 대체하든 삭제하든 선택하자."
      ]
    },
    {
      "cell_type": "code",
      "execution_count": null,
      "id": "d3df1be3",
      "metadata": {
        "id": "d3df1be3"
      },
      "outputs": [],
      "source": [
        "##Write your code!!"
      ]
    },
    {
      "cell_type": "markdown",
      "id": "1a3af1a9",
      "metadata": {
        "id": "1a3af1a9"
      },
      "source": [
        "2. (목표 설정)\n",
        "*"
      ]
    },
    {
      "cell_type": "markdown",
      "id": "e08d4a19",
      "metadata": {
        "id": "e08d4a19"
      },
      "source": [
        "**2.** 분석하지 않아도 되는 칼럼 삭제 (ex. host_id, last_review)"
      ]
    },
    {
      "cell_type": "code",
      "execution_count": null,
      "id": "864548c7",
      "metadata": {
        "id": "864548c7"
      },
      "outputs": [],
      "source": [
        "##Write your code!!"
      ]
    },
    {
      "cell_type": "markdown",
      "id": "132beb11",
      "metadata": {
        "id": "132beb11"
      },
      "source": [
        "**3.** 각 칼럼 분석**(호스트 정보, 뉴욕의 구역별, 방 타입, 가격, 리뷰, 숙박 가능일)**"
      ]
    },
    {
      "cell_type": "code",
      "execution_count": null,
      "id": "61517a97",
      "metadata": {
        "id": "61517a97"
      },
      "outputs": [],
      "source": [
        "##Write your code!!"
      ]
    },
    {
      "cell_type": "markdown",
      "id": "cac7d487",
      "metadata": {
        "id": "cac7d487"
      },
      "source": [
        "**4.** 가장 많이 에어비앤비에 리스트 된 호스트는? 호스트의 특징이나 경영 방침을 분석하면 **고객들이 원하는 니즈 파악 가능**"
      ]
    },
    {
      "cell_type": "code",
      "execution_count": null,
      "id": "b5aad302",
      "metadata": {
        "id": "b5aad302"
      },
      "outputs": [],
      "source": [
        "##Write your code!!"
      ]
    },
    {
      "cell_type": "markdown",
      "id": "40cb86df",
      "metadata": {
        "id": "40cb86df"
      },
      "source": [
        "**5.** 지역별로 가장 비싼 방의 분포 지역과 저렴한 방의 분포 지역은? **(availability칼럼이용)** 형성된 가격이 고객들의 숙소 선택에 영향을 끼치는지 확인 필요"
      ]
    },
    {
      "cell_type": "code",
      "execution_count": null,
      "id": "c4f7f03d",
      "metadata": {
        "id": "c4f7f03d"
      },
      "outputs": [],
      "source": [
        "##Write your code!!"
      ]
    },
    {
      "cell_type": "markdown",
      "id": "c62fa49d",
      "metadata": {
        "id": "c62fa49d"
      },
      "source": [
        "**6.** 룸 타입의 숙소에 따라 에이비엔비의 형성된 가격대나 룸의 형태를 보고 **부자동네**를 찾아보고 혹은 더욱 **에어비앤비가 필요한 지역**을 찾아보자"
      ]
    },
    {
      "cell_type": "code",
      "execution_count": null,
      "id": "38d95d2b",
      "metadata": {
        "id": "38d95d2b"
      },
      "outputs": [],
      "source": [
        "##Write your code!!"
      ]
    },
    {
      "cell_type": "markdown",
      "id": "c0dc10e4",
      "metadata": {
        "id": "c0dc10e4"
      },
      "source": [
        "**7.** 숙박 가능한**(minimum_nights, calculated_host_listings_count, availability_365)** 등의 칼럼을 이용하여 고객들이 작성한 **리뷰**와도 연관지어보자."
      ]
    },
    {
      "cell_type": "code",
      "execution_count": null,
      "id": "c7a2710f",
      "metadata": {
        "id": "c7a2710f"
      },
      "outputs": [],
      "source": [
        "##Write your code!!"
      ]
    },
    {
      "cell_type": "markdown",
      "id": "bb9d279b",
      "metadata": {
        "id": "bb9d279b"
      },
      "source": [
        "**8.** **(심화)** 뉴욕 에어비앤비 지역별 분포는? (산점도 이용하면 분포가 나온다)\n",
        "참고로 위도와 경도 자료가 나오므로 제공받았던 이미지 파일(New_York_City_.png)을 활용하여 덮어 씌워보자"
      ]
    },
    {
      "cell_type": "code",
      "execution_count": null,
      "id": "89549728",
      "metadata": {
        "id": "89549728"
      },
      "outputs": [],
      "source": [
        "##Write your code!!"
      ]
    },
    {
      "cell_type": "markdown",
      "id": "e12a4d84",
      "metadata": {
        "id": "e12a4d84"
      },
      "source": [
        "airbnb.plot.scatter(x=\"longitude' , y=\"latitude\", c=\"price\", figsize=(10,8), sharex=False)\n",
        "위 코드로 입력하면 c옵션이나 colorbar=True를 이용해서 컬러바까지 나오게 되면 x축 눈금이 보이지 않을 때가 있다.\n",
        "이럴땐 sharex=False 옵션을 주면 x축 눈금이 정상적으로 보이게 된다.\n",
        "c=\"price\"를 입력해서 가격별로 색까을 달리하려 했는데 뭔가 원하는 결과가 나오지 않았다 그 이유를 기술통계에서 찾아보자\n",
        "airbnb.price.describe() > 결과값을 보면 3사분위까지의 가격은 175달러지만 최대값이 10000달러 이므로 격차가 너무 커서 색깔의 격차가 커짐"
      ]
    },
    {
      "cell_type": "markdown",
      "id": "0e06a420",
      "metadata": {
        "id": "0e06a420"
      },
      "source": [
        "그래서, 백분위 95%까지의 값을 이용\n",
        "airbnb.price.quantile([0.05, 0.25, 0.5, 0.75, 0.95]) visual_data.price.describe(percentiles = [0.05, 0.25, 0.5, 0.75, 0.95])\n",
        "백분위 95%까지의 가격값도 355달러 이다.\n",
        "355달러 미만인 행만 남겨서 다시 지도를 그려보자\n",
        "임의변수visual_airbnb = airbnb[airbnb.price < airbnb.price.quantile(0.95)]\n",
        "visual_airbnb.shape(46408, 16)\n",
        "visual_airbnb.plot.scatter(x=\"longitude' , y=\"latitude\", c=\"price\", figsize=(10,8), sharex=False) 너무 흑백이 나오니 컬러수정\n",
        "colorbar, cmap, alpha 설정\n",
        "visual_airbnb.plot.scatter(x=\"longitude' , y=\"latitude\", c=\"price\", sharex=False, cmap=plt.get_cmap('jet), colorbar=True, alpha=0.4, figsize(10,8))\n",
        "plt.show()"
      ]
    },
    {
      "cell_type": "markdown",
      "id": "af1744b6",
      "metadata": {
        "id": "af1744b6"
      },
      "source": [
        "기존 제공받은 이미지에 합하기\n",
        "임의변수 newyorkcity = plt.imread(\"data/New_York_City_.png\")\n",
        "plt.imshow(newyorkcity, zorder=0, extent=[-74.258, -73.7, 40.49, 40.92])\n",
        "ax=plt.gca()\n",
        "plt.scatter(x=\"longitude' , y=\"latitude\", c=\"price, data = visual_Data, cmap=plt.get_cmap('jet'), alpha=0.4)\n",
        "plt.colorbar()\n",
        "plt.show()"
      ]
    }
  ],
  "metadata": {
    "hide_input": false,
    "kernelspec": {
      "display_name": "Python 3 (ipykernel)",
      "language": "python",
      "name": "python3"
    },
    "language_info": {
      "codemirror_mode": {
        "name": "ipython",
        "version": 3
      },
      "file_extension": ".py",
      "mimetype": "text/x-python",
      "name": "python",
      "nbconvert_exporter": "python",
      "pygments_lexer": "ipython3",
      "version": "3.9.13"
    },
    "toc": {
      "base_numbering": 1,
      "nav_menu": {},
      "number_sections": true,
      "sideBar": true,
      "skip_h1_title": false,
      "title_cell": "Table of Contents",
      "title_sidebar": "Contents",
      "toc_cell": false,
      "toc_position": {},
      "toc_section_display": true,
      "toc_window_display": false
    },
    "varInspector": {
      "cols": {
        "lenName": 16,
        "lenType": 16,
        "lenVar": 40
      },
      "kernels_config": {
        "python": {
          "delete_cmd_postfix": "",
          "delete_cmd_prefix": "del ",
          "library": "var_list.py",
          "varRefreshCmd": "print(var_dic_list())"
        },
        "r": {
          "delete_cmd_postfix": ") ",
          "delete_cmd_prefix": "rm(",
          "library": "var_list.r",
          "varRefreshCmd": "cat(var_dic_list()) "
        }
      },
      "types_to_exclude": [
        "module",
        "function",
        "builtin_function_or_method",
        "instance",
        "_Feature"
      ],
      "window_display": false
    },
    "colab": {
      "provenance": []
    }
  },
  "nbformat": 4,
  "nbformat_minor": 5
}