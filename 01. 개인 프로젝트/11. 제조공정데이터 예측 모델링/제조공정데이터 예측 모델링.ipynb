{
  "cells": [
    {
      "cell_type": "markdown",
      "metadata": {
        "id": "296aI0tt8m2o"
      },
      "source": [
        "# 데이터 소개\n",
        "\n",
        "데이터는 연속적인 흐름 공정에서 나옵니다.\n",
        "샘플 속도는 1 Hz입니다.\n",
        "첫 번째 단계에서는 기계 1, 2 및 3이 병렬로 작동하고 출력을 결합하는 단계에 공급합니다.\n",
        "결합기의 출력은 15곳에서 측정됩니다. 이러한 측정값들이 예측하는 주요 측정값입니다.\n",
        "다음으로, 출력은 두 번째 단계로 이동하여 기계 4와 5가 직렬로 작동하여 연속적으로 처리합니다.\n",
        "동일한 15곳에서 다시 측정됩니다. 이들은 예측해야 할 보조 측정값입니다.\n",
        "\n",
        "\n",
        "측정값은 잡음이 있습니다.\n",
        "각 측정값에는 목표 또는 Setpoint가 있습니다(셋 포인트는 데이터의 첫 번째 행에 포함됩니다).\n",
        "15개의 측정값 중 가능한 많은 수의 측정값을 예측하는 것이 목표입니다.\n",
        "일부 측정값은 다른 것보다 더 예측하기 쉬울 것입니다!\n",
        "첫 번째 단계 이후의 측정값 예측이 주요 관심사입니다.\n",
        "두 번째 단계 이후의 측정값 예측은 유용하지만 데이터가 훨씬 더 많이 잡음이 있습니다.\n",
        "\n",
        "**컬럼소개**\n",
        "\n",
        "시작 열 끝 열 설명 : 컬럼은 총 116개가 있습니다. \\\n",
        "\n",
        "\n",
        "|컬럼 범위|설명|\n",
        "|------|---|\n",
        "|0|타임 스탬프|\n",
        "|1~21|공장 주변 조건|\n",
        "|3~61|첫 번째 단계, 기계 1, 원자재 특성 (기계 1에 들어가는 재료)|\n",
        "|7~14|첫 번째 단계, 기계 1 공정 변수|\n",
        "|15~18|첫 번째 단계, 기계 2, 원자재 특성 (기계 2에 들어가는 재료)|\n",
        "|19~26|첫 번째 단계, 기계 2 공정 변수|\n",
        "|27~30|첫 번째 단계, 기계 3, 원자재 특성 (기계 3에 들어가는 재료)|\n",
        "|31~38|첫 번째 단계, 기계 3 공정 변수|\n",
        "|39~41|결합기 단계 공정 매개 변수. 여기서는 기계 1, 2 및 3의 출력을 결합합니다.|\n",
        "|42~71|제어를 위한 주요 출력: 15개 특징의 측정값 (mm)과 각각의 설정점 또는 목표|\n",
        "|72~78|두 번째 단계, 기계 4 공정 변수|\n",
        "|79~85|두 번째 단계, 기계 5 공정 변수|\n",
        "|86~115|제어를 위한 보조 출력: 15개 특징의 측정값 (mm)과 각각의 설정점 또는 목표|\n"
      ]
    },
    {
      "cell_type": "markdown",
      "metadata": {
        "id": "6ktJTyZbwN6y"
      },
      "source": [
        "**예측 2단계 연속 흐름 제조 프로세스** \\\n",
        "**문제 설명** \\\n",
        "이 데이터는 미시간 주 디트로이트 근처의 실제 생산 라인에서 가져온 것입니다. 목표는 다양한 입력 데이터로부터 라인 출력의 특정 속성을 예측하는 것입니다. 이 라인은 병렬 및 직렬 단계를 갖춘 고속 연속 제조 공정입니다.\n",
        "\n",
        "데이터는 2019년 3월 6일 데이터로 오전 10시 52분부터 오후 14시 47분에 걸쳐 한 번의 생산 실행에서 나온 것입니다. Liveline Technologies는 다양한 위치의 여러 생산 라인에서 이러한 유형의 데이터를 대량으로 보유하고 있습니다.\n",
        "\n",
        "\n",
        "* **1단계**: 3개의 기계가 있으며, 모든 기계가 병렬로 실행됩니다. 제품(제품인지는 확실하지 않음)이 기계로 처리된 후. 그런 다음 컨베이어에서 다른 기계의 제품과 결합되도록 보내집니다. 컨베이어 15에서 출력 위치가 측정되었습니다.\n",
        "* **2단계**: 1단계의 출력이 컨베이어를 통해 2단계로 공급됩니다. 2단계에는 2대의 기계가 있으며, 시리즈로 운영되었습니다. 제품이 5번 기계에서 공정을 마친 후 15번 위치에서 출력을 측정했습니다."
      ]
    },
    {
      "cell_type": "markdown",
      "metadata": {
        "id": "Pupc9W7dqZNz"
      },
      "source": [
        "\n",
        "**주요 목표** \\\n",
        "첫 번째 단계의 출력 측정을 예측합니다.\n",
        "다음으로 출력은 기계 4와 5가 연속적으로 처리되는 두 번째 단계로 흘러갑니다.\n",
        "\n",
        "**2차 목표** \\\n",
        "2단계 출력 측정을 예측합니다. 기계 5 이후에는 기계 5에서 나오는 재료의 외부 표면을 둘러싼 동일한 15개 위치에서 다시 측정하는 단계를 말합니다.\n"
      ]
    },
    {
      "cell_type": "markdown",
      "metadata": {
        "id": "l3D5XZrow28B"
      },
      "source": [
        "**메인 이슈 4가지**\n",
        "1. 공정과정을 거쳐서 나온 출력물의 15가지 측정물을 모두 최대한 정확히 예측하\n",
        "   는 것이 가장 바람직하지만 각 측정치마다 예측치의 편차가 큼.\n",
        "2. 고객의 주요 관심사는 첫번째 단계 처리 후 측정 예측 결과\n",
        "3. 고객은 두번째 단계 처리 후 측정값을 정확히 예측하는 것도 요구했지만 노이즈\n",
        "   가 훨씬 많아 예측 정확도가 첫단계에 비해 확연히 떨어질 것이라 보고 있음\n",
        "4. 고객이 1단계 출력값과 2단계 출력값이 상관관계가 있는지 확인을 요구하셨음.\n",
        "\n",
        "\n"
      ]
    },
    {
      "cell_type": "markdown",
      "metadata": {
        "id": "SlOqRcHe1yAj",
        "papermill": {
          "duration": 0.016276,
          "end_time": "2021-02-20T14:11:20.852030",
          "exception": false,
          "start_time": "2021-02-20T14:11:20.835754",
          "status": "completed"
        },
        "tags": []
      },
      "source": [
        "**예측 모델** \\\n",
        "나는 이 문제를 예측하기 위해 3가지 모델을 만들기로 결정했습니다.\n",
        "\n",
        "1. 모델 A: 이 모델은 1단계 출력만을 예측하는 데 사용되었습니다. 공장 상태(온도,습도) 데이터, 기계 1,2,3 (병렬)공정과정에서 수집된 데이터, 공정과정 후 조합과정에서 수집된 데이터를 학습 데이터로 사용했습니다.\n",
        "\n",
        "2. 모델 B: 이 모델은 2단계 출력 예측에만 사용되었습니다.공장 상태(온도,습도) 데이터, 기계 4,5 (직렬)공정과정에서 수집된 데이터, 공정 종료과정에서 수집된 데이터를 학습 데이터로 사용했습니다.\n",
        "\n",
        "3. 모델 C: 이 모델은 모델 B와 동일한 개념(동일 출력)이지만 입력 매개변수가 다릅니다. 공장 상태(온도,습도) 데이터, 1단계 공정과정 후 출력된 데이터, 기계 4,5 (직렬)공정과정에서 수집된 데이터, 공정 종료과정에서 수집된 데이터를 학습 데이터로 사용했습니다. 모델 B의 학습데이터에서 1단계 공정과정 후 출력된 데이터가 더해진 것과 같다고 보면 됩니다."
      ]
    },
    {
      "cell_type": "markdown",
      "metadata": {
        "id": "2s0y_e811yAj",
        "papermill": {
          "duration": 0.016814,
          "end_time": "2021-02-20T14:11:20.885358",
          "exception": false,
          "start_time": "2021-02-20T14:11:20.868544",
          "status": "completed"
        },
        "tags": []
      },
      "source": [
        "# 데이터 탐색 (EDA)"
      ]
    },
    {
      "cell_type": "markdown",
      "metadata": {
        "id": "KnvdJtV21yAj",
        "papermill": {
          "duration": 0.016869,
          "end_time": "2021-02-20T14:11:20.919470",
          "exception": false,
          "start_time": "2021-02-20T14:11:20.902601",
          "status": "completed"
        },
        "tags": []
      },
      "source": [
        "**라이브러리 가져오기**"
      ]
    },
    {
      "cell_type": "code",
      "execution_count": null,
      "metadata": {
        "execution": {
          "iopub.execute_input": "2021-02-20T14:11:20.962124Z",
          "iopub.status.busy": "2021-02-20T14:11:20.961219Z",
          "iopub.status.idle": "2021-02-20T14:11:23.160762Z",
          "shell.execute_reply": "2021-02-20T14:11:23.161383Z"
        },
        "id": "3ho8kGUI1yAk",
        "papermill": {
          "duration": 2.225335,
          "end_time": "2021-02-20T14:11:23.161735",
          "exception": false,
          "start_time": "2021-02-20T14:11:20.936400",
          "status": "completed"
        },
        "tags": []
      },
      "outputs": [],
      "source": [
        "import pandas as pd\n",
        "import statsmodels.api as sm\n",
        "import numpy as np\n",
        "from sklearn.model_selection import train_test_split\n",
        "from sklearn import tree\n",
        "from sklearn.preprocessing import StandardScaler\n",
        "from sklearn.preprocessing import MinMaxScaler\n",
        "from sklearn.svm import SVR\n",
        "from sklearn.ensemble import RandomForestRegressor\n",
        "from sklearn.neighbors import KNeighborsRegressor\n",
        "from sklearn.pipeline import make_pipeline\n",
        "import time\n",
        "import warnings\n",
        "warnings.filterwarnings('ignore')"
      ]
    },
    {
      "cell_type": "markdown",
      "metadata": {
        "id": "wXrJk3XO1yAk",
        "papermill": {
          "duration": 0.016144,
          "end_time": "2021-02-20T14:11:23.195057",
          "exception": false,
          "start_time": "2021-02-20T14:11:23.178913",
          "status": "completed"
        },
        "tags": []
      },
      "source": [
        "로우 데이터 파일 불러오기 바로 전에 처리시작시간을 기록하고 마지막 단계 예측 모델링이 끝난 시점에 종료시간을 기록하여 전체 처리시간을 측정할 수 있다.\n"
      ]
    },
    {
      "cell_type": "code",
      "execution_count": null,
      "metadata": {
        "execution": {
          "iopub.execute_input": "2021-02-20T14:11:23.232805Z",
          "iopub.status.busy": "2021-02-20T14:11:23.231825Z",
          "iopub.status.idle": "2021-02-20T14:11:23.235972Z",
          "shell.execute_reply": "2021-02-20T14:11:23.236567Z"
        },
        "id": "mT0u9XhT1yAl",
        "papermill": {
          "duration": 0.025345,
          "end_time": "2021-02-20T14:11:23.236745",
          "exception": false,
          "start_time": "2021-02-20T14:11:23.211400",
          "status": "completed"
        },
        "tags": []
      },
      "outputs": [],
      "source": [
        "#Start time record for process\n",
        "start_time = time.time()"
      ]
    },
    {
      "cell_type": "markdown",
      "metadata": {
        "id": "I1AKx_W-1yAm",
        "papermill": {
          "duration": 0.017033,
          "end_time": "2021-02-20T14:11:23.316565",
          "exception": false,
          "start_time": "2021-02-20T14:11:23.299532",
          "status": "completed"
        },
        "tags": []
      },
      "source": [
        "데이터 불러오기"
      ]
    },
    {
      "cell_type": "code",
      "execution_count": null,
      "metadata": {
        "colab": {
          "base_uri": "https://localhost:8080/"
        },
        "execution": {
          "iopub.execute_input": "2021-02-20T14:11:23.357522Z",
          "iopub.status.busy": "2021-02-20T14:11:23.356806Z",
          "iopub.status.idle": "2021-02-20T14:11:23.790128Z",
          "shell.execute_reply": "2021-02-20T14:11:23.789364Z"
        },
        "id": "Od6j1fb11yAm",
        "outputId": "204a7f07-467d-4ea9-9dd9-e879efa751b8",
        "papermill": {
          "duration": 0.456572,
          "end_time": "2021-02-20T14:11:23.790297",
          "exception": false,
          "start_time": "2021-02-20T14:11:23.333725",
          "status": "completed"
        },
        "tags": []
      },
      "outputs": [
        {
          "name": "stdout",
          "output_type": "stream",
          "text": [
            "<class 'pandas.core.frame.DataFrame'>\n",
            "Index: 14088 entries, 2019-03-06 10:52:33 to 2019-03-06 14:47:20\n",
            "Columns: 115 entries, AmbientConditions.AmbientHumidity.U.Actual to Stage2.Output.Measurement14.U.Setpoint\n",
            "dtypes: float64(108), int64(7)\n",
            "memory usage: 12.5+ MB\n",
            "None\n",
            "                     AmbientConditions.AmbientHumidity.U.Actual  \\\n",
            "time_stamp                                                        \n",
            "2019-03-06 10:52:33                                       17.24   \n",
            "2019-03-06 10:52:34                                       17.24   \n",
            "2019-03-06 10:52:35                                       17.24   \n",
            "2019-03-06 10:52:36                                       17.24   \n",
            "2019-03-06 10:52:37                                       17.24   \n",
            "\n",
            "                     AmbientConditions.AmbientTemperature.U.Actual  \\\n",
            "time_stamp                                                           \n",
            "2019-03-06 10:52:33                                          23.53   \n",
            "2019-03-06 10:52:34                                          23.53   \n",
            "2019-03-06 10:52:35                                          23.53   \n",
            "2019-03-06 10:52:36                                          23.53   \n",
            "2019-03-06 10:52:37                                          23.53   \n",
            "\n",
            "                     Machine1.RawMaterial.Property1  \\\n",
            "time_stamp                                            \n",
            "2019-03-06 10:52:33                           11.54   \n",
            "2019-03-06 10:52:34                           11.54   \n",
            "2019-03-06 10:52:35                           11.54   \n",
            "2019-03-06 10:52:36                           11.54   \n",
            "2019-03-06 10:52:37                           11.54   \n",
            "\n",
            "                     Machine1.RawMaterial.Property2  \\\n",
            "time_stamp                                            \n",
            "2019-03-06 10:52:33                             200   \n",
            "2019-03-06 10:52:34                             200   \n",
            "2019-03-06 10:52:35                             200   \n",
            "2019-03-06 10:52:36                             200   \n",
            "2019-03-06 10:52:37                             200   \n",
            "\n",
            "                     Machine1.RawMaterial.Property3  \\\n",
            "time_stamp                                            \n",
            "2019-03-06 10:52:33                           963.0   \n",
            "2019-03-06 10:52:34                           963.0   \n",
            "2019-03-06 10:52:35                           963.0   \n",
            "2019-03-06 10:52:36                           963.0   \n",
            "2019-03-06 10:52:37                           963.0   \n",
            "\n",
            "                     Machine1.RawMaterial.Property4  \\\n",
            "time_stamp                                            \n",
            "2019-03-06 10:52:33                             247   \n",
            "2019-03-06 10:52:34                             247   \n",
            "2019-03-06 10:52:35                             247   \n",
            "2019-03-06 10:52:36                             247   \n",
            "2019-03-06 10:52:37                             247   \n",
            "\n",
            "                     Machine1.RawMaterialFeederParameter.U.Actual  \\\n",
            "time_stamp                                                          \n",
            "2019-03-06 10:52:33                                       1241.26   \n",
            "2019-03-06 10:52:34                                       1246.09   \n",
            "2019-03-06 10:52:35                                       1246.29   \n",
            "2019-03-06 10:52:36                                       1247.59   \n",
            "2019-03-06 10:52:37                                       1252.83   \n",
            "\n",
            "                     Machine1.Zone1Temperature.C.Actual  \\\n",
            "time_stamp                                                \n",
            "2019-03-06 10:52:33                                72.0   \n",
            "2019-03-06 10:52:34                                72.0   \n",
            "2019-03-06 10:52:35                                72.0   \n",
            "2019-03-06 10:52:36                                72.0   \n",
            "2019-03-06 10:52:37                                72.1   \n",
            "\n",
            "                     Machine1.Zone2Temperature.C.Actual  \\\n",
            "time_stamp                                                \n",
            "2019-03-06 10:52:33                                72.3   \n",
            "2019-03-06 10:52:34                                72.3   \n",
            "2019-03-06 10:52:35                                72.3   \n",
            "2019-03-06 10:52:36                                72.3   \n",
            "2019-03-06 10:52:37                                72.4   \n",
            "\n",
            "                     Machine1.MotorAmperage.U.Actual  ...  \\\n",
            "time_stamp                                            ...   \n",
            "2019-03-06 10:52:33                            48.03  ...   \n",
            "2019-03-06 10:52:34                            48.03  ...   \n",
            "2019-03-06 10:52:35                            48.16  ...   \n",
            "2019-03-06 10:52:36                            48.57  ...   \n",
            "2019-03-06 10:52:37                            48.57  ...   \n",
            "\n",
            "                     Stage2.Output.Measurement10.U.Actual  \\\n",
            "time_stamp                                                  \n",
            "2019-03-06 10:52:33                                   0.0   \n",
            "2019-03-06 10:52:34                                   0.0   \n",
            "2019-03-06 10:52:35                                   0.0   \n",
            "2019-03-06 10:52:36                                   0.0   \n",
            "2019-03-06 10:52:37                                   0.0   \n",
            "\n",
            "                     Stage2.Output.Measurement10.U.Setpoint  \\\n",
            "time_stamp                                                    \n",
            "2019-03-06 10:52:33                                    7.93   \n",
            "2019-03-06 10:52:34                                    7.93   \n",
            "2019-03-06 10:52:35                                    7.93   \n",
            "2019-03-06 10:52:36                                    7.93   \n",
            "2019-03-06 10:52:37                                    7.93   \n",
            "\n",
            "                     Stage2.Output.Measurement11.U.Actual  \\\n",
            "time_stamp                                                  \n",
            "2019-03-06 10:52:33                                   0.0   \n",
            "2019-03-06 10:52:34                                   0.0   \n",
            "2019-03-06 10:52:35                                   0.0   \n",
            "2019-03-06 10:52:36                                   0.0   \n",
            "2019-03-06 10:52:37                                   0.0   \n",
            "\n",
            "                     Stage2.Output.Measurement11.U.Setpoint  \\\n",
            "time_stamp                                                    \n",
            "2019-03-06 10:52:33                                    5.65   \n",
            "2019-03-06 10:52:34                                    5.65   \n",
            "2019-03-06 10:52:35                                    5.65   \n",
            "2019-03-06 10:52:36                                    5.65   \n",
            "2019-03-06 10:52:37                                    5.65   \n",
            "\n",
            "                     Stage2.Output.Measurement12.U.Actual  \\\n",
            "time_stamp                                                  \n",
            "2019-03-06 10:52:33                                   0.0   \n",
            "2019-03-06 10:52:34                                   0.0   \n",
            "2019-03-06 10:52:35                                   0.0   \n",
            "2019-03-06 10:52:36                                   0.0   \n",
            "2019-03-06 10:52:37                                   0.0   \n",
            "\n",
            "                     Stage2.Output.Measurement12.U.Setpoint  \\\n",
            "time_stamp                                                    \n",
            "2019-03-06 10:52:33                                    1.85   \n",
            "2019-03-06 10:52:34                                    1.85   \n",
            "2019-03-06 10:52:35                                    1.85   \n",
            "2019-03-06 10:52:36                                    1.85   \n",
            "2019-03-06 10:52:37                                    1.85   \n",
            "\n",
            "                     Stage2.Output.Measurement13.U.Actual  \\\n",
            "time_stamp                                                  \n",
            "2019-03-06 10:52:33                                   0.0   \n",
            "2019-03-06 10:52:34                                   0.0   \n",
            "2019-03-06 10:52:35                                   0.0   \n",
            "2019-03-06 10:52:36                                   0.0   \n",
            "2019-03-06 10:52:37                                   0.0   \n",
            "\n",
            "                     Stage2.Output.Measurement13.U.Setpoint  \\\n",
            "time_stamp                                                    \n",
            "2019-03-06 10:52:33                                    2.89   \n",
            "2019-03-06 10:52:34                                    2.89   \n",
            "2019-03-06 10:52:35                                    2.89   \n",
            "2019-03-06 10:52:36                                    2.89   \n",
            "2019-03-06 10:52:37                                    2.89   \n",
            "\n",
            "                     Stage2.Output.Measurement14.U.Actual  \\\n",
            "time_stamp                                                  \n",
            "2019-03-06 10:52:33                                   0.0   \n",
            "2019-03-06 10:52:34                                   0.0   \n",
            "2019-03-06 10:52:35                                   0.0   \n",
            "2019-03-06 10:52:36                                   0.0   \n",
            "2019-03-06 10:52:37                                   0.0   \n",
            "\n",
            "                     Stage2.Output.Measurement14.U.Setpoint  \n",
            "time_stamp                                                   \n",
            "2019-03-06 10:52:33                                   11.71  \n",
            "2019-03-06 10:52:34                                   11.71  \n",
            "2019-03-06 10:52:35                                   11.71  \n",
            "2019-03-06 10:52:36                                   11.71  \n",
            "2019-03-06 10:52:37                                   11.71  \n",
            "\n",
            "[5 rows x 115 columns]\n"
          ]
        }
      ],
      "source": [
        "raw_data = pd.read_csv(\"/content/continuous_factory_process.csv\", index_col=\"time_stamp\")\n",
        "print(raw_data.info())\n",
        "print(raw_data.head())"
      ]
    },
    {
      "cell_type": "markdown",
      "metadata": {
        "id": "KXMDlQovEYGD"
      },
      "source": [
        "# 데이터 전처리"
      ]
    },
    {
      "cell_type": "markdown",
      "metadata": {
        "id": "LKNccoN635XE"
      },
      "source": [
        "로우데이터에서 'setpoint'가 들어간 컬럼은 목표치를 나타내므로, 실제치가 아니기에 예측에 활용할 수 없습니다. 따라서 set_point_name 변수에 따로 분류해 놓도록 합니다. 목표치를 나타내는 컬럼은 총 30개로 확인됩니다. \\\n",
        "또한 결측치는 없는 것으로 확인됩니다."
      ]
    },
    {
      "cell_type": "code",
      "execution_count": null,
      "metadata": {
        "colab": {
          "base_uri": "https://localhost:8080/"
        },
        "execution": {
          "iopub.execute_input": "2021-02-20T14:11:23.875584Z",
          "iopub.status.busy": "2021-02-20T14:11:23.874434Z",
          "iopub.status.idle": "2021-02-20T14:11:23.899238Z",
          "shell.execute_reply": "2021-02-20T14:11:23.898396Z"
        },
        "id": "5MTKAu8E1yAn",
        "outputId": "17f64495-107e-4224-a8a5-0747624bc2c2",
        "papermill": {
          "duration": 0.055049,
          "end_time": "2021-02-20T14:11:23.899464",
          "exception": false,
          "start_time": "2021-02-20T14:11:23.844415",
          "status": "completed"
        },
        "tags": []
      },
      "outputs": [
        {
          "name": "stdout",
          "output_type": "stream",
          "text": [
            "*************************Remove set point from raw data*****************************\n",
            "<class 'pandas.core.frame.DataFrame'>\n",
            "Index: 14088 entries, 2019-03-06 10:52:33 to 2019-03-06 14:47:20\n",
            "Data columns (total 85 columns):\n",
            " #   Column                                              Non-Null Count  Dtype  \n",
            "---  ------                                              --------------  -----  \n",
            " 0   AmbientConditions.AmbientHumidity.U.Actual          14088 non-null  float64\n",
            " 1   AmbientConditions.AmbientTemperature.U.Actual       14088 non-null  float64\n",
            " 2   Machine1.RawMaterial.Property1                      14088 non-null  float64\n",
            " 3   Machine1.RawMaterial.Property2                      14088 non-null  int64  \n",
            " 4   Machine1.RawMaterial.Property3                      14088 non-null  float64\n",
            " 5   Machine1.RawMaterial.Property4                      14088 non-null  int64  \n",
            " 6   Machine1.RawMaterialFeederParameter.U.Actual        14088 non-null  float64\n",
            " 7   Machine1.Zone1Temperature.C.Actual                  14088 non-null  float64\n",
            " 8   Machine1.Zone2Temperature.C.Actual                  14088 non-null  float64\n",
            " 9   Machine1.MotorAmperage.U.Actual                     14088 non-null  float64\n",
            " 10  Machine1.MotorRPM.C.Actual                          14088 non-null  float64\n",
            " 11  Machine1.MaterialPressure.U.Actual                  14088 non-null  float64\n",
            " 12  Machine1.MaterialTemperature.U.Actual               14088 non-null  float64\n",
            " 13  Machine1.ExitZoneTemperature.C.Actual               14088 non-null  float64\n",
            " 14  Machine2.RawMaterial.Property1                      14088 non-null  float64\n",
            " 15  Machine2.RawMaterial.Property2                      14088 non-null  int64  \n",
            " 16  Machine2.RawMaterial.Property3                      14088 non-null  float64\n",
            " 17  Machine2.RawMaterial.Property4                      14088 non-null  int64  \n",
            " 18  Machine2.RawMaterialFeederParameter.U.Actual        14088 non-null  float64\n",
            " 19  Machine2.Zone1Temperature.C.Actual                  14088 non-null  float64\n",
            " 20  Machine2.Zone2Temperature.C.Actual                  14088 non-null  float64\n",
            " 21  Machine2.MotorAmperage.U.Actual                     14088 non-null  float64\n",
            " 22  Machine2.MotorRPM.C.Actual                          14088 non-null  float64\n",
            " 23  Machine2.MaterialPressure.U.Actual                  14088 non-null  float64\n",
            " 24  Machine2.MaterialTemperature.U.Actual               14088 non-null  float64\n",
            " 25  Machine2.ExitZoneTemperature.C.Actual               14088 non-null  float64\n",
            " 26  Machine3.RawMaterial.Property1                      14088 non-null  float64\n",
            " 27  Machine3.RawMaterial.Property2                      14088 non-null  int64  \n",
            " 28  Machine3.RawMaterial.Property3                      14088 non-null  float64\n",
            " 29  Machine3.RawMaterial.Property4                      14088 non-null  int64  \n",
            " 30  Machine3.RawMaterialFeederParameter.U.Actual        14088 non-null  float64\n",
            " 31  Machine3.Zone1Temperature.C.Actual                  14088 non-null  float64\n",
            " 32  Machine3.Zone2Temperature.C.Actual                  14088 non-null  float64\n",
            " 33  Machine3.MotorAmperage.U.Actual                     14088 non-null  float64\n",
            " 34  Machine3.MotorRPM.C.Actual                          14088 non-null  float64\n",
            " 35  Machine3.MaterialPressure.U.Actual                  14088 non-null  float64\n",
            " 36  Machine3.MaterialTemperature.U.Actual               14088 non-null  float64\n",
            " 37  Machine3.ExitZoneTemperature.C.Actual               14088 non-null  float64\n",
            " 38  FirstStage.CombinerOperation.Temperature1.U.Actual  14088 non-null  float64\n",
            " 39  FirstStage.CombinerOperation.Temperature2.U.Actual  14088 non-null  float64\n",
            " 40  FirstStage.CombinerOperation.Temperature3.C.Actual  14088 non-null  float64\n",
            " 41  Stage1.Output.Measurement0.U.Actual                 14088 non-null  float64\n",
            " 42  Stage1.Output.Measurement1.U.Actual                 14088 non-null  float64\n",
            " 43  Stage1.Output.Measurement2.U.Actual                 14088 non-null  float64\n",
            " 44  Stage1.Output.Measurement3.U.Actual                 14088 non-null  float64\n",
            " 45  Stage1.Output.Measurement4.U.Actual                 14088 non-null  float64\n",
            " 46  Stage1.Output.Measurement5.U.Actual                 14088 non-null  float64\n",
            " 47  Stage1.Output.Measurement6.U.Actual                 14088 non-null  float64\n",
            " 48  Stage1.Output.Measurement7.U.Actual                 14088 non-null  float64\n",
            " 49  Stage1.Output.Measurement8.U.Actual                 14088 non-null  float64\n",
            " 50  Stage1.Output.Measurement9.U.Actual                 14088 non-null  float64\n",
            " 51  Stage1.Output.Measurement10.U.Actual                14088 non-null  float64\n",
            " 52  Stage1.Output.Measurement11.U.Actual                14088 non-null  float64\n",
            " 53  Stage1.Output.Measurement12.U.Actual                14088 non-null  float64\n",
            " 54  Stage1.Output.Measurement13.U.Actual                14088 non-null  float64\n",
            " 55  Stage1.Output.Measurement14.U.Actual                14088 non-null  float64\n",
            " 56  Machine4.Temperature1.C.Actual                      14088 non-null  float64\n",
            " 57  Machine4.Temperature2.C.Actual                      14088 non-null  float64\n",
            " 58  Machine4.Pressure.C.Actual                          14088 non-null  float64\n",
            " 59  Machine4.Temperature3.C.Actual                      14088 non-null  float64\n",
            " 60  Machine4.Temperature4.C.Actual                      14088 non-null  float64\n",
            " 61  Machine4.Temperature5.C.Actual                      14088 non-null  float64\n",
            " 62  Machine4.ExitTemperature.U.Actual                   14088 non-null  float64\n",
            " 63  Machine5.Temperature1.C.Actual                      14088 non-null  float64\n",
            " 64  Machine5.Temperature2.C.Actual                      14088 non-null  float64\n",
            " 65  Machine5.Temperature3.C.Actual                      14088 non-null  float64\n",
            " 66  Machine5.Temperature4.C.Actual                      14088 non-null  float64\n",
            " 67  Machine5.Temperature5.C.Actual                      14088 non-null  float64\n",
            " 68  Machine5.Temperature6.C.Actual                      14088 non-null  float64\n",
            " 69  Machine5.ExitTemperature.U.Actual                   14088 non-null  float64\n",
            " 70  Stage2.Output.Measurement0.U.Actual                 14088 non-null  float64\n",
            " 71  Stage2.Output.Measurement1.U.Actual                 14088 non-null  float64\n",
            " 72  Stage2.Output.Measurement2.U.Actual                 14088 non-null  float64\n",
            " 73  Stage2.Output.Measurement3.U.Actual                 14088 non-null  float64\n",
            " 74  Stage2.Output.Measurement4.U.Actual                 14088 non-null  float64\n",
            " 75  Stage2.Output.Measurement5.U.Actual                 14088 non-null  float64\n",
            " 76  Stage2.Output.Measurement6.U.Actual                 14088 non-null  float64\n",
            " 77  Stage2.Output.Measurement7.U.Actual                 14088 non-null  float64\n",
            " 78  Stage2.Output.Measurement8.U.Actual                 14088 non-null  float64\n",
            " 79  Stage2.Output.Measurement9.U.Actual                 14088 non-null  float64\n",
            " 80  Stage2.Output.Measurement10.U.Actual                14088 non-null  float64\n",
            " 81  Stage2.Output.Measurement11.U.Actual                14088 non-null  float64\n",
            " 82  Stage2.Output.Measurement12.U.Actual                14088 non-null  float64\n",
            " 83  Stage2.Output.Measurement13.U.Actual                14088 non-null  float64\n",
            " 84  Stage2.Output.Measurement14.U.Actual                14088 non-null  float64\n",
            "dtypes: float64(79), int64(6)\n",
            "memory usage: 9.2+ MB\n",
            "None\n"
          ]
        }
      ],
      "source": [
        "#setpoint 컬럼 제거\n",
        "print(\"*************************Remove set point from raw data*****************************\")\n",
        "set_point_name = list([col for col in raw_data if col.endswith('Setpoint')])\n",
        "set_data = raw_data.drop(columns = set_point_name, axis=1)\n",
        "# 분류작업 후 데이터 정보\n",
        "print(set_data.info())"
      ]
    },
    {
      "cell_type": "markdown",
      "metadata": {
        "id": "zUz1WqYvFXLq"
      },
      "source": [
        "로우데이터에서 일부 열에 0값이 많이 있는 것을 발견하였습니다. 데이터에 0이 많으면 예측 정확도가 현저히 떨어지기 마련입니다. 따라서 이 부분을 전처리해줘야 하는 데, 컬럼 내 데이터에서 0값이 30%가 넘는 컬럼은 제거해주는 기준을 세웠습니다."
      ]
    },
    {
      "cell_type": "code",
      "execution_count": null,
      "metadata": {
        "colab": {
          "base_uri": "https://localhost:8080/"
        },
        "execution": {
          "iopub.execute_input": "2021-02-20T14:11:23.993285Z",
          "iopub.status.busy": "2021-02-20T14:11:23.991782Z",
          "iopub.status.idle": "2021-02-20T14:11:24.195088Z",
          "shell.execute_reply": "2021-02-20T14:11:24.194508Z"
        },
        "id": "9EpbPkUJ1yAn",
        "outputId": "6e4af7ee-e26d-4aee-aec0-e72d71eb4543",
        "papermill": {
          "duration": 0.238529,
          "end_time": "2021-02-20T14:11:24.195240",
          "exception": false,
          "start_time": "2021-02-20T14:11:23.956711",
          "status": "completed"
        },
        "tags": []
      },
      "outputs": [
        {
          "name": "stdout",
          "output_type": "stream",
          "text": [
            "***************************Check 0 more than 30% in columns**************************\n",
            "    Column Number  42  Name  Stage1.Output.Measurement1.U.Actual  Value = 41.88\n",
            "    Column Number  46  Name  Stage1.Output.Measurement5.U.Actual  Value = 95.12\n",
            "    Column Number  47  Name  Stage1.Output.Measurement6.U.Actual  Value = 33.38\n",
            "    Column Number  48  Name  Stage1.Output.Measurement7.U.Actual  Value = 62.19\n",
            "    Column Number  52  Name  Stage1.Output.Measurement11.U.Actual  Value = 74.26\n",
            "    Column Number  55  Name  Stage1.Output.Measurement14.U.Actual  Value = 35.53\n",
            "    Column Number  74  Name  Stage2.Output.Measurement4.U.Actual  Value = 90.53\n"
          ]
        }
      ],
      "source": [
        "#Count 0 value in data\n",
        "print(\"***************************Check 0 more than 30% in columns**************************\")\n",
        "zero_lst = []\n",
        "for i in range(len(set_data.columns[:])):\n",
        "    CC = set_data.values[:,i]\n",
        "    CCN = (((np.count_nonzero(CC == 0))/14088)*100)\n",
        "    if (CCN>30):\n",
        "        DROP = (set_data.columns[i])\n",
        "        print (\"    Column Number \",i,\" Name \",DROP, \" Value =\",\"{:.2f}\".format(CCN))\n",
        "        zero_lst.append(i)"
      ]
    },
    {
      "cell_type": "markdown",
      "metadata": {
        "id": "MG_6rm78GYtO"
      },
      "source": [
        "총 7개 컬럼이 0데이터가 30% 넘는 것으로 확인되었습니다. 다른 컬럼 수가 많고 이를 통해 예측할 테스트 데이터 양은 충분하다고 생각되기 때문에 위 7개의 컬럼은 제거해줍니다."
      ]
    },
    {
      "cell_type": "code",
      "execution_count": null,
      "metadata": {
        "colab": {
          "base_uri": "https://localhost:8080/"
        },
        "execution": {
          "iopub.execute_input": "2021-02-20T14:11:24.284477Z",
          "iopub.status.busy": "2021-02-20T14:11:24.283433Z",
          "iopub.status.idle": "2021-02-20T14:11:24.307097Z",
          "shell.execute_reply": "2021-02-20T14:11:24.305737Z"
        },
        "id": "TAN2ADlN1yAn",
        "outputId": "1e50508d-ccb0-4936-a51e-438a9e4a66c4",
        "papermill": {
          "duration": 0.054154,
          "end_time": "2021-02-20T14:11:24.307267",
          "exception": false,
          "start_time": "2021-02-20T14:11:24.253113",
          "status": "completed"
        },
        "tags": []
      },
      "outputs": [
        {
          "name": "stdout",
          "output_type": "stream",
          "text": [
            "********************************Columns after drop*******************************\n",
            "<class 'pandas.core.frame.DataFrame'>\n",
            "Index: 14088 entries, 2019-03-06 10:52:33 to 2019-03-06 14:47:20\n",
            "Data columns (total 78 columns):\n",
            " #   Column                                              Non-Null Count  Dtype  \n",
            "---  ------                                              --------------  -----  \n",
            " 0   AmbientConditions.AmbientHumidity.U.Actual          14088 non-null  float64\n",
            " 1   AmbientConditions.AmbientTemperature.U.Actual       14088 non-null  float64\n",
            " 2   Machine1.RawMaterial.Property1                      14088 non-null  float64\n",
            " 3   Machine1.RawMaterial.Property2                      14088 non-null  int64  \n",
            " 4   Machine1.RawMaterial.Property3                      14088 non-null  float64\n",
            " 5   Machine1.RawMaterial.Property4                      14088 non-null  int64  \n",
            " 6   Machine1.RawMaterialFeederParameter.U.Actual        14088 non-null  float64\n",
            " 7   Machine1.Zone1Temperature.C.Actual                  14088 non-null  float64\n",
            " 8   Machine1.Zone2Temperature.C.Actual                  14088 non-null  float64\n",
            " 9   Machine1.MotorAmperage.U.Actual                     14088 non-null  float64\n",
            " 10  Machine1.MotorRPM.C.Actual                          14088 non-null  float64\n",
            " 11  Machine1.MaterialPressure.U.Actual                  14088 non-null  float64\n",
            " 12  Machine1.MaterialTemperature.U.Actual               14088 non-null  float64\n",
            " 13  Machine1.ExitZoneTemperature.C.Actual               14088 non-null  float64\n",
            " 14  Machine2.RawMaterial.Property1                      14088 non-null  float64\n",
            " 15  Machine2.RawMaterial.Property2                      14088 non-null  int64  \n",
            " 16  Machine2.RawMaterial.Property3                      14088 non-null  float64\n",
            " 17  Machine2.RawMaterial.Property4                      14088 non-null  int64  \n",
            " 18  Machine2.RawMaterialFeederParameter.U.Actual        14088 non-null  float64\n",
            " 19  Machine2.Zone1Temperature.C.Actual                  14088 non-null  float64\n",
            " 20  Machine2.Zone2Temperature.C.Actual                  14088 non-null  float64\n",
            " 21  Machine2.MotorAmperage.U.Actual                     14088 non-null  float64\n",
            " 22  Machine2.MotorRPM.C.Actual                          14088 non-null  float64\n",
            " 23  Machine2.MaterialPressure.U.Actual                  14088 non-null  float64\n",
            " 24  Machine2.MaterialTemperature.U.Actual               14088 non-null  float64\n",
            " 25  Machine2.ExitZoneTemperature.C.Actual               14088 non-null  float64\n",
            " 26  Machine3.RawMaterial.Property1                      14088 non-null  float64\n",
            " 27  Machine3.RawMaterial.Property2                      14088 non-null  int64  \n",
            " 28  Machine3.RawMaterial.Property3                      14088 non-null  float64\n",
            " 29  Machine3.RawMaterial.Property4                      14088 non-null  int64  \n",
            " 30  Machine3.RawMaterialFeederParameter.U.Actual        14088 non-null  float64\n",
            " 31  Machine3.Zone1Temperature.C.Actual                  14088 non-null  float64\n",
            " 32  Machine3.Zone2Temperature.C.Actual                  14088 non-null  float64\n",
            " 33  Machine3.MotorAmperage.U.Actual                     14088 non-null  float64\n",
            " 34  Machine3.MotorRPM.C.Actual                          14088 non-null  float64\n",
            " 35  Machine3.MaterialPressure.U.Actual                  14088 non-null  float64\n",
            " 36  Machine3.MaterialTemperature.U.Actual               14088 non-null  float64\n",
            " 37  Machine3.ExitZoneTemperature.C.Actual               14088 non-null  float64\n",
            " 38  FirstStage.CombinerOperation.Temperature1.U.Actual  14088 non-null  float64\n",
            " 39  FirstStage.CombinerOperation.Temperature2.U.Actual  14088 non-null  float64\n",
            " 40  FirstStage.CombinerOperation.Temperature3.C.Actual  14088 non-null  float64\n",
            " 41  Stage1.Output.Measurement0.U.Actual                 14088 non-null  float64\n",
            " 42  Stage1.Output.Measurement2.U.Actual                 14088 non-null  float64\n",
            " 43  Stage1.Output.Measurement3.U.Actual                 14088 non-null  float64\n",
            " 44  Stage1.Output.Measurement4.U.Actual                 14088 non-null  float64\n",
            " 45  Stage1.Output.Measurement8.U.Actual                 14088 non-null  float64\n",
            " 46  Stage1.Output.Measurement9.U.Actual                 14088 non-null  float64\n",
            " 47  Stage1.Output.Measurement10.U.Actual                14088 non-null  float64\n",
            " 48  Stage1.Output.Measurement12.U.Actual                14088 non-null  float64\n",
            " 49  Stage1.Output.Measurement13.U.Actual                14088 non-null  float64\n",
            " 50  Machine4.Temperature1.C.Actual                      14088 non-null  float64\n",
            " 51  Machine4.Temperature2.C.Actual                      14088 non-null  float64\n",
            " 52  Machine4.Pressure.C.Actual                          14088 non-null  float64\n",
            " 53  Machine4.Temperature3.C.Actual                      14088 non-null  float64\n",
            " 54  Machine4.Temperature4.C.Actual                      14088 non-null  float64\n",
            " 55  Machine4.Temperature5.C.Actual                      14088 non-null  float64\n",
            " 56  Machine4.ExitTemperature.U.Actual                   14088 non-null  float64\n",
            " 57  Machine5.Temperature1.C.Actual                      14088 non-null  float64\n",
            " 58  Machine5.Temperature2.C.Actual                      14088 non-null  float64\n",
            " 59  Machine5.Temperature3.C.Actual                      14088 non-null  float64\n",
            " 60  Machine5.Temperature4.C.Actual                      14088 non-null  float64\n",
            " 61  Machine5.Temperature5.C.Actual                      14088 non-null  float64\n",
            " 62  Machine5.Temperature6.C.Actual                      14088 non-null  float64\n",
            " 63  Machine5.ExitTemperature.U.Actual                   14088 non-null  float64\n",
            " 64  Stage2.Output.Measurement0.U.Actual                 14088 non-null  float64\n",
            " 65  Stage2.Output.Measurement1.U.Actual                 14088 non-null  float64\n",
            " 66  Stage2.Output.Measurement2.U.Actual                 14088 non-null  float64\n",
            " 67  Stage2.Output.Measurement3.U.Actual                 14088 non-null  float64\n",
            " 68  Stage2.Output.Measurement5.U.Actual                 14088 non-null  float64\n",
            " 69  Stage2.Output.Measurement6.U.Actual                 14088 non-null  float64\n",
            " 70  Stage2.Output.Measurement7.U.Actual                 14088 non-null  float64\n",
            " 71  Stage2.Output.Measurement8.U.Actual                 14088 non-null  float64\n",
            " 72  Stage2.Output.Measurement9.U.Actual                 14088 non-null  float64\n",
            " 73  Stage2.Output.Measurement10.U.Actual                14088 non-null  float64\n",
            " 74  Stage2.Output.Measurement11.U.Actual                14088 non-null  float64\n",
            " 75  Stage2.Output.Measurement12.U.Actual                14088 non-null  float64\n",
            " 76  Stage2.Output.Measurement13.U.Actual                14088 non-null  float64\n",
            " 77  Stage2.Output.Measurement14.U.Actual                14088 non-null  float64\n",
            "dtypes: float64(72), int64(6)\n",
            "memory usage: 8.5+ MB\n",
            "     None\n"
          ]
        }
      ],
      "source": [
        "#Drop columns 0 more than 30% of output\n",
        "Drop_list = zero_lst\n",
        "Drop_list_name = list(set_data.columns[Drop_list])\n",
        "Araw_data = set_data.drop(columns= Drop_list_name, axis=1 )\n",
        "#Araw_list = list(Araw_data.columns)\n",
        "print(\"********************************Columns after drop*******************************\")\n",
        "print(\"    \",Araw_data.info())"
      ]
    },
    {
      "cell_type": "markdown",
      "metadata": {
        "id": "5-0C3q2hHjUC"
      },
      "source": [
        "이제 예측 목적에 맞추어 모델 A,B,C의 데이터 모형에 맞게 각각 분할합니다."
      ]
    },
    {
      "cell_type": "markdown",
      "metadata": {
        "id": "9U1OqKPnA0kn"
      },
      "source": [
        "* 모델 A는 공장 상태(온도,습도) 데이터, 기계 1,2,3 (병렬)공정과정에서 수집된 데이터, 공정과정 후 조합과정에서 수집된 데이터를 학습 데이터로 사용했습니다."
      ]
    },
    {
      "cell_type": "code",
      "execution_count": null,
      "metadata": {
        "colab": {
          "base_uri": "https://localhost:8080/"
        },
        "execution": {
          "iopub.execute_input": "2021-02-20T14:11:24.400059Z",
          "iopub.status.busy": "2021-02-20T14:11:24.399356Z",
          "iopub.status.idle": "2021-02-20T14:11:24.436902Z",
          "shell.execute_reply": "2021-02-20T14:11:24.436369Z"
        },
        "id": "oTbPOgrC1yAo",
        "outputId": "f1b774c1-f19b-44cd-a35c-57c5eff61de4",
        "papermill": {
          "duration": 0.065278,
          "end_time": "2021-02-20T14:11:24.437071",
          "exception": false,
          "start_time": "2021-02-20T14:11:24.371793",
          "status": "completed"
        },
        "tags": []
      },
      "outputs": [
        {
          "name": "stdout",
          "output_type": "stream",
          "text": [
            "Input for model A\n",
            "<class 'pandas.core.frame.DataFrame'>\n",
            "RangeIndex: 14088 entries, 0 to 14087\n",
            "Data columns (total 41 columns):\n",
            " #   Column                                              Non-Null Count  Dtype  \n",
            "---  ------                                              --------------  -----  \n",
            " 0   AmbientConditions.AmbientHumidity.U.Actual          14088 non-null  float64\n",
            " 1   AmbientConditions.AmbientTemperature.U.Actual       14088 non-null  float64\n",
            " 2   Machine1.RawMaterial.Property1                      14088 non-null  float64\n",
            " 3   Machine1.RawMaterial.Property2                      14088 non-null  float64\n",
            " 4   Machine1.RawMaterial.Property3                      14088 non-null  float64\n",
            " 5   Machine1.RawMaterial.Property4                      14088 non-null  float64\n",
            " 6   Machine1.RawMaterialFeederParameter.U.Actual        14088 non-null  float64\n",
            " 7   Machine1.Zone1Temperature.C.Actual                  14088 non-null  float64\n",
            " 8   Machine1.Zone2Temperature.C.Actual                  14088 non-null  float64\n",
            " 9   Machine1.MotorAmperage.U.Actual                     14088 non-null  float64\n",
            " 10  Machine1.MotorRPM.C.Actual                          14088 non-null  float64\n",
            " 11  Machine1.MaterialPressure.U.Actual                  14088 non-null  float64\n",
            " 12  Machine1.MaterialTemperature.U.Actual               14088 non-null  float64\n",
            " 13  Machine1.ExitZoneTemperature.C.Actual               14088 non-null  float64\n",
            " 14  Machine2.RawMaterial.Property1                      14088 non-null  float64\n",
            " 15  Machine2.RawMaterial.Property2                      14088 non-null  float64\n",
            " 16  Machine2.RawMaterial.Property3                      14088 non-null  float64\n",
            " 17  Machine2.RawMaterial.Property4                      14088 non-null  float64\n",
            " 18  Machine2.RawMaterialFeederParameter.U.Actual        14088 non-null  float64\n",
            " 19  Machine2.Zone1Temperature.C.Actual                  14088 non-null  float64\n",
            " 20  Machine2.Zone2Temperature.C.Actual                  14088 non-null  float64\n",
            " 21  Machine2.MotorAmperage.U.Actual                     14088 non-null  float64\n",
            " 22  Machine2.MotorRPM.C.Actual                          14088 non-null  float64\n",
            " 23  Machine2.MaterialPressure.U.Actual                  14088 non-null  float64\n",
            " 24  Machine2.MaterialTemperature.U.Actual               14088 non-null  float64\n",
            " 25  Machine2.ExitZoneTemperature.C.Actual               14088 non-null  float64\n",
            " 26  Machine3.RawMaterial.Property1                      14088 non-null  float64\n",
            " 27  Machine3.RawMaterial.Property2                      14088 non-null  float64\n",
            " 28  Machine3.RawMaterial.Property3                      14088 non-null  float64\n",
            " 29  Machine3.RawMaterial.Property4                      14088 non-null  float64\n",
            " 30  Machine3.RawMaterialFeederParameter.U.Actual        14088 non-null  float64\n",
            " 31  Machine3.Zone1Temperature.C.Actual                  14088 non-null  float64\n",
            " 32  Machine3.Zone2Temperature.C.Actual                  14088 non-null  float64\n",
            " 33  Machine3.MotorAmperage.U.Actual                     14088 non-null  float64\n",
            " 34  Machine3.MotorRPM.C.Actual                          14088 non-null  float64\n",
            " 35  Machine3.MaterialPressure.U.Actual                  14088 non-null  float64\n",
            " 36  Machine3.MaterialTemperature.U.Actual               14088 non-null  float64\n",
            " 37  Machine3.ExitZoneTemperature.C.Actual               14088 non-null  float64\n",
            " 38  FirstStage.CombinerOperation.Temperature1.U.Actual  14088 non-null  float64\n",
            " 39  FirstStage.CombinerOperation.Temperature2.U.Actual  14088 non-null  float64\n",
            " 40  FirstStage.CombinerOperation.Temperature3.C.Actual  14088 non-null  float64\n",
            "dtypes: float64(41)\n",
            "memory usage: 4.4 MB\n",
            "None\n",
            "Output for model A\n",
            "<class 'pandas.core.frame.DataFrame'>\n",
            "RangeIndex: 14088 entries, 0 to 14087\n",
            "Data columns (total 9 columns):\n",
            " #   Column                                Non-Null Count  Dtype  \n",
            "---  ------                                --------------  -----  \n",
            " 0   Stage1.Output.Measurement0.U.Actual   14088 non-null  float64\n",
            " 1   Stage1.Output.Measurement2.U.Actual   14088 non-null  float64\n",
            " 2   Stage1.Output.Measurement3.U.Actual   14088 non-null  float64\n",
            " 3   Stage1.Output.Measurement4.U.Actual   14088 non-null  float64\n",
            " 4   Stage1.Output.Measurement8.U.Actual   14088 non-null  float64\n",
            " 5   Stage1.Output.Measurement9.U.Actual   14088 non-null  float64\n",
            " 6   Stage1.Output.Measurement10.U.Actual  14088 non-null  float64\n",
            " 7   Stage1.Output.Measurement12.U.Actual  14088 non-null  float64\n",
            " 8   Stage1.Output.Measurement13.U.Actual  14088 non-null  float64\n",
            "dtypes: float64(9)\n",
            "memory usage: 990.7 KB\n",
            "None\n"
          ]
        }
      ],
      "source": [
        "#Data for model A\n",
        "Input_A = Araw_data.values[:,0:41]\n",
        "Input_AN = Araw_data.columns[0:41]\n",
        "Input_AA = pd.DataFrame(data=Input_A, columns=Input_AN)\n",
        "Input_AAN = pd.DataFrame(data=Input_A) #Non name\n",
        "Output_A = Araw_data.values[:,41:50]\n",
        "Output_AN = Araw_data.columns[41:50]\n",
        "Output_AA = pd.DataFrame(data=Output_A, columns=Output_AN)\n",
        "print(\"Input for model A\")\n",
        "print(Input_AA.info())\n",
        "print(\"Output for model A\")\n",
        "print(Output_AA.info())"
      ]
    },
    {
      "cell_type": "markdown",
      "metadata": {
        "id": "Sw0YKQJq1yAo",
        "papermill": {
          "duration": 0.020276,
          "end_time": "2021-02-20T14:11:24.478194",
          "exception": false,
          "start_time": "2021-02-20T14:11:24.457918",
          "status": "completed"
        },
        "tags": []
      },
      "source": [
        "* 모델 B는 공장 상태(온도,습도) 데이터, 기계 4,5 (직렬)공정과정에서 수집된 데이터, 공정 종료과정에서 수집된 데이터를 학습 데이터로 사용했습니다."
      ]
    },
    {
      "cell_type": "code",
      "execution_count": null,
      "metadata": {
        "colab": {
          "base_uri": "https://localhost:8080/"
        },
        "execution": {
          "iopub.execute_input": "2021-02-20T14:11:24.528712Z",
          "iopub.status.busy": "2021-02-20T14:11:24.527974Z",
          "iopub.status.idle": "2021-02-20T14:11:24.559355Z",
          "shell.execute_reply": "2021-02-20T14:11:24.560115Z"
        },
        "id": "VnTOlTen1yAo",
        "outputId": "0e274a71-4d81-4c3f-9700-4b227bb5377f",
        "papermill": {
          "duration": 0.060827,
          "end_time": "2021-02-20T14:11:24.560366",
          "exception": false,
          "start_time": "2021-02-20T14:11:24.499539",
          "status": "completed"
        },
        "tags": []
      },
      "outputs": [
        {
          "name": "stdout",
          "output_type": "stream",
          "text": [
            "Input for model B\n",
            "<class 'pandas.core.frame.DataFrame'>\n",
            "RangeIndex: 14088 entries, 0 to 14087\n",
            "Data columns (total 16 columns):\n",
            " #   Column                                         Non-Null Count  Dtype  \n",
            "---  ------                                         --------------  -----  \n",
            " 0   AmbientConditions.AmbientHumidity.U.Actual     14088 non-null  float64\n",
            " 1   AmbientConditions.AmbientTemperature.U.Actual  14088 non-null  float64\n",
            " 2   Machine4.Temperature1.C.Actual                 14088 non-null  float64\n",
            " 3   Machine4.Temperature2.C.Actual                 14088 non-null  float64\n",
            " 4   Machine4.Pressure.C.Actual                     14088 non-null  float64\n",
            " 5   Machine4.Temperature3.C.Actual                 14088 non-null  float64\n",
            " 6   Machine4.Temperature4.C.Actual                 14088 non-null  float64\n",
            " 7   Machine4.Temperature5.C.Actual                 14088 non-null  float64\n",
            " 8   Machine4.ExitTemperature.U.Actual              14088 non-null  float64\n",
            " 9   Machine5.Temperature1.C.Actual                 14088 non-null  float64\n",
            " 10  Machine5.Temperature2.C.Actual                 14088 non-null  float64\n",
            " 11  Machine5.Temperature3.C.Actual                 14088 non-null  float64\n",
            " 12  Machine5.Temperature4.C.Actual                 14088 non-null  float64\n",
            " 13  Machine5.Temperature5.C.Actual                 14088 non-null  float64\n",
            " 14  Machine5.Temperature6.C.Actual                 14088 non-null  float64\n",
            " 15  Machine5.ExitTemperature.U.Actual              14088 non-null  float64\n",
            "dtypes: float64(16)\n",
            "memory usage: 1.7 MB\n",
            "None\n",
            "Output for model B\n",
            "<class 'pandas.core.frame.DataFrame'>\n",
            "RangeIndex: 14088 entries, 0 to 14087\n",
            "Data columns (total 14 columns):\n",
            " #   Column                                Non-Null Count  Dtype  \n",
            "---  ------                                --------------  -----  \n",
            " 0   Stage2.Output.Measurement0.U.Actual   14088 non-null  float64\n",
            " 1   Stage2.Output.Measurement1.U.Actual   14088 non-null  float64\n",
            " 2   Stage2.Output.Measurement2.U.Actual   14088 non-null  float64\n",
            " 3   Stage2.Output.Measurement3.U.Actual   14088 non-null  float64\n",
            " 4   Stage2.Output.Measurement5.U.Actual   14088 non-null  float64\n",
            " 5   Stage2.Output.Measurement6.U.Actual   14088 non-null  float64\n",
            " 6   Stage2.Output.Measurement7.U.Actual   14088 non-null  float64\n",
            " 7   Stage2.Output.Measurement8.U.Actual   14088 non-null  float64\n",
            " 8   Stage2.Output.Measurement9.U.Actual   14088 non-null  float64\n",
            " 9   Stage2.Output.Measurement10.U.Actual  14088 non-null  float64\n",
            " 10  Stage2.Output.Measurement11.U.Actual  14088 non-null  float64\n",
            " 11  Stage2.Output.Measurement12.U.Actual  14088 non-null  float64\n",
            " 12  Stage2.Output.Measurement13.U.Actual  14088 non-null  float64\n",
            " 13  Stage2.Output.Measurement14.U.Actual  14088 non-null  float64\n",
            "dtypes: float64(14)\n",
            "memory usage: 1.5 MB\n",
            "None\n"
          ]
        }
      ],
      "source": [
        "#Data for model B\n",
        "IN  = [0,1,50,51,52,53,54,55,56,57,58,59,60,61,62,63]\n",
        "Input_B = Araw_data.values[:,IN]\n",
        "Input_BN = Araw_data.columns[IN]\n",
        "Input_BAN = pd.DataFrame(data=Input_B) #Non name\n",
        "Input_BA = pd.DataFrame(data=Input_B, columns=Input_BN)\n",
        "Output_B = Araw_data.values[:,64:78]\n",
        "Output_BN = Araw_data.columns[64:78]\n",
        "Output_BA = pd.DataFrame(data=Output_B, columns=Output_BN)\n",
        "print(\"Input for model B\")\n",
        "print(Input_BA.info())\n",
        "print(\"Output for model B\")\n",
        "print(Output_BA.info())"
      ]
    },
    {
      "cell_type": "markdown",
      "metadata": {
        "id": "bn-p65la1yAo",
        "papermill": {
          "duration": 0.021441,
          "end_time": "2021-02-20T14:11:24.604122",
          "exception": false,
          "start_time": "2021-02-20T14:11:24.582681",
          "status": "completed"
        },
        "tags": []
      },
      "source": [
        "* 모델 C는 공장 상태(온도,습도) 데이터, 1단계 공정과정 후 출력된 데이터, 기계 4,5 (직렬)공정과정에서 수집된 데이터, 공정 종료과정에서 수집된 데이터를 학습 데이터로 사용했습니다. 모델 B의 학습데이터에서 1단계 공정과정 후 출력된 데이터가 더해진 것과 같다고 보면 됩니다."
      ]
    },
    {
      "cell_type": "code",
      "execution_count": null,
      "metadata": {
        "colab": {
          "base_uri": "https://localhost:8080/"
        },
        "execution": {
          "iopub.execute_input": "2021-02-20T14:11:24.656104Z",
          "iopub.status.busy": "2021-02-20T14:11:24.655233Z",
          "iopub.status.idle": "2021-02-20T14:11:24.687220Z",
          "shell.execute_reply": "2021-02-20T14:11:24.686554Z"
        },
        "id": "Fc1Ng5m31yAo",
        "outputId": "6eca4f53-b611-47df-92ef-0aec8f0cb469",
        "papermill": {
          "duration": 0.061641,
          "end_time": "2021-02-20T14:11:24.687400",
          "exception": false,
          "start_time": "2021-02-20T14:11:24.625759",
          "status": "completed"
        },
        "tags": []
      },
      "outputs": [
        {
          "name": "stdout",
          "output_type": "stream",
          "text": [
            "Input for model C\n",
            "<class 'pandas.core.frame.DataFrame'>\n",
            "RangeIndex: 14088 entries, 0 to 14087\n",
            "Data columns (total 25 columns):\n",
            " #   Column                                         Non-Null Count  Dtype  \n",
            "---  ------                                         --------------  -----  \n",
            " 0   AmbientConditions.AmbientHumidity.U.Actual     14088 non-null  float64\n",
            " 1   AmbientConditions.AmbientTemperature.U.Actual  14088 non-null  float64\n",
            " 2   Stage1.Output.Measurement0.U.Actual            14088 non-null  float64\n",
            " 3   Stage1.Output.Measurement2.U.Actual            14088 non-null  float64\n",
            " 4   Stage1.Output.Measurement3.U.Actual            14088 non-null  float64\n",
            " 5   Stage1.Output.Measurement4.U.Actual            14088 non-null  float64\n",
            " 6   Stage1.Output.Measurement8.U.Actual            14088 non-null  float64\n",
            " 7   Stage1.Output.Measurement9.U.Actual            14088 non-null  float64\n",
            " 8   Stage1.Output.Measurement10.U.Actual           14088 non-null  float64\n",
            " 9   Stage1.Output.Measurement12.U.Actual           14088 non-null  float64\n",
            " 10  Stage1.Output.Measurement13.U.Actual           14088 non-null  float64\n",
            " 11  Machine4.Temperature1.C.Actual                 14088 non-null  float64\n",
            " 12  Machine4.Temperature2.C.Actual                 14088 non-null  float64\n",
            " 13  Machine4.Pressure.C.Actual                     14088 non-null  float64\n",
            " 14  Machine4.Temperature3.C.Actual                 14088 non-null  float64\n",
            " 15  Machine4.Temperature4.C.Actual                 14088 non-null  float64\n",
            " 16  Machine4.Temperature5.C.Actual                 14088 non-null  float64\n",
            " 17  Machine4.ExitTemperature.U.Actual              14088 non-null  float64\n",
            " 18  Machine5.Temperature1.C.Actual                 14088 non-null  float64\n",
            " 19  Machine5.Temperature2.C.Actual                 14088 non-null  float64\n",
            " 20  Machine5.Temperature3.C.Actual                 14088 non-null  float64\n",
            " 21  Machine5.Temperature4.C.Actual                 14088 non-null  float64\n",
            " 22  Machine5.Temperature5.C.Actual                 14088 non-null  float64\n",
            " 23  Machine5.Temperature6.C.Actual                 14088 non-null  float64\n",
            " 24  Machine5.ExitTemperature.U.Actual              14088 non-null  float64\n",
            "dtypes: float64(25)\n",
            "memory usage: 2.7 MB\n",
            "None\n",
            "Output for model C\n",
            "<class 'pandas.core.frame.DataFrame'>\n",
            "RangeIndex: 14088 entries, 0 to 14087\n",
            "Data columns (total 14 columns):\n",
            " #   Column                                Non-Null Count  Dtype  \n",
            "---  ------                                --------------  -----  \n",
            " 0   Stage2.Output.Measurement0.U.Actual   14088 non-null  float64\n",
            " 1   Stage2.Output.Measurement1.U.Actual   14088 non-null  float64\n",
            " 2   Stage2.Output.Measurement2.U.Actual   14088 non-null  float64\n",
            " 3   Stage2.Output.Measurement3.U.Actual   14088 non-null  float64\n",
            " 4   Stage2.Output.Measurement5.U.Actual   14088 non-null  float64\n",
            " 5   Stage2.Output.Measurement6.U.Actual   14088 non-null  float64\n",
            " 6   Stage2.Output.Measurement7.U.Actual   14088 non-null  float64\n",
            " 7   Stage2.Output.Measurement8.U.Actual   14088 non-null  float64\n",
            " 8   Stage2.Output.Measurement9.U.Actual   14088 non-null  float64\n",
            " 9   Stage2.Output.Measurement10.U.Actual  14088 non-null  float64\n",
            " 10  Stage2.Output.Measurement11.U.Actual  14088 non-null  float64\n",
            " 11  Stage2.Output.Measurement12.U.Actual  14088 non-null  float64\n",
            " 12  Stage2.Output.Measurement13.U.Actual  14088 non-null  float64\n",
            " 13  Stage2.Output.Measurement14.U.Actual  14088 non-null  float64\n",
            "dtypes: float64(14)\n",
            "memory usage: 1.5 MB\n",
            "None\n"
          ]
        }
      ],
      "source": [
        "#Data for model C\n",
        "INC  = [0,1,41,42,43,44,45,46,47,48,49,50,51,52,53,54,55,56,57,58,59,60,61,62,63]\n",
        "Input_C = Araw_data.values[:,INC]\n",
        "Input_CN = Araw_data.columns[INC]\n",
        "Input_CA = pd.DataFrame(data=Input_C, columns=Input_CN)\n",
        "Input_CAN = pd.DataFrame(data=Input_C) #Non name\n",
        "Output_CA = Output_BA\n",
        "print(\"Input for model C\")\n",
        "print(Input_CA.info())\n",
        "print(\"Output for model C\")\n",
        "print(Output_CA.info())"
      ]
    },
    {
      "cell_type": "markdown",
      "metadata": {
        "id": "ZJgURdas1yAo",
        "papermill": {
          "duration": 0.021443,
          "end_time": "2021-02-20T14:11:24.730881",
          "exception": false,
          "start_time": "2021-02-20T14:11:24.709438",
          "status": "completed"
        },
        "tags": []
      },
      "source": [
        "# 예측"
      ]
    },
    {
      "cell_type": "markdown",
      "metadata": {
        "id": "ghGKd-gjhDB0"
      },
      "source": [
        "**모델 A**\n",
        "> 기능 선택\n",
        "1. 기능 선택: \"for 루프\"에서 입력 열과 각 출력 열의 상관 관계를 찾기 위해 p-value 방법을 사용했습니다.\n",
        "2. sm.OLS 피팅 모델을 사용하여 상관관계를 계산했습니다.\n",
        "3. p-값은 출력 열과 낮은 상관 관계를 갖는 입력 열을 제거하는 데 사용되었습니다. p-값은 통계 지표 값 중 하나입니다. P-값 0.05는 95% 신뢰구간에서 유의수준에서 나왔습니다(일반적으로 0.05를 사용함). 열의 p-값이 0.05보다 크면 제거되었습니다.\n",
        "4. 각 출력에 대한 입력 효과 목록은 \"Selected_features\" 변수에 저장되었습니다. 해당 목록은 콘솔에서 보기 어렵기 때문에 표시되지 않습니다. 총 개수와 선택한 기능이 인쇄되었습니다.\n",
        "5. 출력에 대한 효과 입력을 얻은 후 해당 입력은 \"x_selected\" 변수의 생성 모델에 선택되었습니다.\n",
        "\n",
        "> 데이터 분할 및 예측 알고리즘\n",
        "1. 데이터(입력은 x_selected, 출력은 Yi )는 scikit-learn 라이브러리의 분할 기능을 통해 70:30 비율로 학습 및 테스트 세트로 분할되었습니다.\n",
        "2. 모델의 예측 출력에는 \"의사결정 트리\", \"Poly-Support 벡터 머신\" 및 \"K-최근접 이웃\"이 사용되었습니다. 모든 알고리즘은 회귀 모델입니다.\n",
        "\n",
        ">의사결정 트리\n",
        "* 본 예측 모델에서는 계산 속도가 빠르고 정확도가 높기 때문에 의사결정 트리 알고리즘을 선택했습니다.\n",
        "\n",
        ">랜덤포레스트\n",
        "* 의사결정트리의 단점을 보완한 앙상블 기법의 랜덤포레스트는 의사결정트리보다 계산 속도는 느리지만 정확도면에서 보다 더 우수한 성능을 보입니다.\n",
        "\n",
        ">지원 벡터 머신\n",
        "* SVM(Support Vector Machine)은 널리 사용되는 기계 학습 알고리즘 중 하나입니다. SVM은 분류 문제에 널리 사용되지만 선형/비선형 문제에도 사용할 수 있습니다. 이 예측 모델에서는 SVM이 유연하고 특히 정보가 복잡할 때 잘 작동하기 때문에 선택되었습니다. Poly-SVM 알고리즘은 SVM 중 하나입니다. Poly-SVM은 모델에 다항식 3차를 추가합니다(시험 실행의 경우 3차와 4차는 정확도에 차이가 없습니다). Poly-SVM의 입력 데이터는 훈련 전 표준화되었습니다. (다항식 사용을 위한 기능 제거를 위해)\n",
        "\n",
        "\n",
        "> K-최근접 이웃\n",
        "* 이 예측 모델에서는 기능이 간단하고 강력하며 훈련이 필요하지 않기 때문에 K-최근접 이웃 알고리즘을 선택했습니다.\n",
        "* K-최근접 이웃은 \"거리\"를 사용하여 scikit-learn 라이브러리에서만 가중치 매개변수를 수정합니다.\n",
        "\n",
        "> 정확도\n",
        "* % 예측 정확도는 점수 함수로 표시되었습니다.\n",
        "1. \"랜덤포레스트\"에 표시된 정확도는 가장 높은 평균 정확도입니다. Stage1.Output.Measurement4.U.Actual Stage1.Output.Measurement10.U.Actual을 제외하고 정확도는 약 70% 이상 편차는 18%대입니다.\n",
        "2. \"의사결정 트리\"에 표시된 정확도는 두번째 높은 평균 정확도입니다. 마찬가지로 Stage1.Output.Measurement4.U.Actual Stage1.Output.Measurement10.U.Actual을 제외하고 정확도는 약 40% 이상 편차는 28%대입니다.\n",
        "3. \"Poly-SVM\"은 다른 알고리즘과의 평균 정확도 비교가 가장 낮습니다. Poly-SVM 알고리즘이 1단계 공정과정 예측에 적합하지 않을 수도 있습니다.\n",
        "4. \"K-최근접 이웃\" 역시 정확도가 낮습니다. Stage1.Output.Measurement9.U.Actual에서 최고 정확도는 약 50%입니다."
      ]
    },
    {
      "cell_type": "code",
      "execution_count": null,
      "metadata": {
        "colab": {
          "base_uri": "https://localhost:8080/"
        },
        "execution": {
          "iopub.execute_input": "2021-02-20T14:11:24.837614Z",
          "iopub.status.busy": "2021-02-20T14:11:24.836556Z",
          "iopub.status.idle": "2021-02-20T14:12:07.363392Z",
          "shell.execute_reply": "2021-02-20T14:12:07.363960Z"
        },
        "id": "T3c_R8wj1yAp",
        "outputId": "a60a2c5a-d72d-4c00-f366-7b45699975ab",
        "papermill": {
          "duration": 42.567353,
          "end_time": "2021-02-20T14:12:07.364173",
          "exception": false,
          "start_time": "2021-02-20T14:11:24.796820",
          "status": "completed"
        },
        "tags": []
      },
      "outputs": [
        {
          "name": "stdout",
          "output_type": "stream",
          "text": [
            "********************************Prediction model A (Stage 1)*******************************\n",
            "Stage1.Output.Measurement0.U.Actual      Total feature ( 41 ) Selected feature 21\n",
            "             %Prediction accuracy, Tree  74.97  Random Forest  85.93  SVM-Poly  4.66 KNN  0.86\n",
            "Stage1.Output.Measurement2.U.Actual      Total feature ( 41 ) Selected feature 24\n",
            "             %Prediction accuracy, Tree  42.75  Random Forest  71.78  SVM-Poly  24.25 KNN  20.24\n",
            "Stage1.Output.Measurement3.U.Actual      Total feature ( 41 ) Selected feature 25\n",
            "             %Prediction accuracy, Tree  44.44  Random Forest  65.39  SVM-Poly  4.15 KNN  27.48\n",
            "Stage1.Output.Measurement4.U.Actual      Total feature ( 41 ) Selected feature 29\n",
            "             %Prediction accuracy, Tree  3.71  Random Forest  45.15  SVM-Poly  10.20 KNN  5.74\n",
            "Stage1.Output.Measurement8.U.Actual      Total feature ( 41 ) Selected feature 33\n",
            "             %Prediction accuracy, Tree  84.06  Random Forest  92.87  SVM-Poly  19.00 KNN  33.40\n",
            "Stage1.Output.Measurement9.U.Actual      Total feature ( 41 ) Selected feature 34\n",
            "             %Prediction accuracy, Tree  86.71  Random Forest  90.82  SVM-Poly  42.59 KNN  47.13\n",
            "Stage1.Output.Measurement10.U.Actual      Total feature ( 41 ) Selected feature 23\n",
            "             %Prediction accuracy, Tree  6.05  Random Forest  45.16  SVM-Poly  3.43 KNN  18.87\n",
            "Stage1.Output.Measurement12.U.Actual      Total feature ( 41 ) Selected feature 29\n",
            "             %Prediction accuracy, Tree  51.80  Random Forest  73.99  SVM-Poly  56.59 KNN  47.38\n",
            "Stage1.Output.Measurement13.U.Actual      Total feature ( 41 ) Selected feature 32\n",
            "             %Prediction accuracy, Tree  83.83  Random Forest  90.58  SVM-Poly  66.34 KNN  49.86\n",
            "==============================================================================\n",
            "평균과 편차 계산\n",
            "             %Prediction average, Tree  53.15  Random Forest  73.52  SVM-Poly  25.69 KNN  27.88\n",
            "             %Prediction deviation, Tree  30.46  Random Forest  17.63  SVM-Poly  22.56 KNN  17.08\n"
          ]
        }
      ],
      "source": [
        "#make list about output for calculate mean and std\n",
        "CRF_lst = []\n",
        "RF_lst =[]\n",
        "Svr_poly_lst = []\n",
        "KNN_lst = []\n",
        "\n",
        "#Feature selection and prediction for model A\n",
        "print(\"********************************Prediction model A (Stage 1)*******************************\")\n",
        "for n in range (len(Output_AN)):\n",
        "    Yi = Output_AA.values [:,n];\n",
        "    # Backward Elimination #for feature selection\n",
        "    cols = list(Input_AAN.columns)\n",
        "    pmax = 1\n",
        "    while (len(cols) > 0):\n",
        "       p = []\n",
        "       X_1 = Input_AAN[cols]\n",
        "       X_1 = sm.add_constant(X_1)\n",
        "       model = sm.OLS(Yi, X_1).fit()\n",
        "       p = pd.Series(model.pvalues.values[1:], index=cols)\n",
        "       pmax = max(p)\n",
        "       feature_with_p_max = p.idxmax()\n",
        "       if (pmax > 0.05):\n",
        "          cols.remove(feature_with_p_max)\n",
        "       else:\n",
        "          break\n",
        "    selected_features = cols\n",
        "    #print(Output_AN[n], \"(Selected feature) =\", list(Input_AA.columns[cols])) #list of selected feature model A\n",
        "    print(Output_AN[n],\"     Total feature\",\"(\",len(Input_AN),\")\",\"Selected feature\",len(selected_features))\n",
        "    x_selected = Input_AA.values[:, selected_features]\n",
        "    x_train, x_test, y_train, y_test = train_test_split(x_selected, Yi, test_size=0.3)\n",
        "\n",
        "    # SVM-poly\n",
        "    svr_poly = make_pipeline(StandardScaler(), SVR(C=1.0, epsilon=0.2, kernel='poly', degree=3))\n",
        "    svr_poly = svr_poly.fit(x_train, y_train)\n",
        "    Svr_poly = abs(svr_poly.score(x_test, y_test))\n",
        "    Svr_poly = \"{:.2f}\".format(Svr_poly * 100)\n",
        "    Svr_poly_lst.append(float(Svr_poly))\n",
        "\n",
        "\n",
        "    # Decision tree\n",
        "    clf = tree.DecisionTreeRegressor(max_features='auto')\n",
        "    clf = clf.fit(x_train, y_train)\n",
        "    CRF = abs(clf.score(x_test, y_test))\n",
        "    CRF = \"{:.2f}\".format(CRF * 100)\n",
        "    CRF_lst.append(float(CRF))\n",
        "\n",
        "\n",
        "    # Random Forest\n",
        "    rf = RandomForestRegressor(n_estimators=100, random_state=42)\n",
        "    rf = rf.fit(x_train, y_train)\n",
        "    RF = abs(rf.score(x_test, y_test))\n",
        "    RF = \"{:.2f}\".format(RF * 100)\n",
        "    RF_lst.append(float(RF))\n",
        "\n",
        "    # KNN\n",
        "    neigh = KNeighborsRegressor(n_neighbors=5, weights='distance', algorithm='auto', leaf_size=30, p=2,\n",
        "                                metric='minkowski', metric_params=None, n_jobs=None)\n",
        "    neigh = neigh.fit(x_train, y_train)\n",
        "    KNN = abs(neigh.score(x_test, y_test))\n",
        "    KNN = \"{:.2f}\".format(KNN * 100)\n",
        "    KNN_lst.append(float(KNN))\n",
        "\n",
        "    # Accuracy\n",
        "    print(\"             %Prediction accuracy, Tree \", CRF,  \" Random Forest \", RF,\" SVM-Poly \", Svr_poly, \"KNN \", KNN)\n",
        "\n",
        "\n",
        "CRF_mean, RF_mean, Svr_poly_mean, KNN_lst_mean = np.mean(CRF_lst),  np.mean(RF_lst), np.mean(Svr_poly_lst), np.mean(KNN_lst)\n",
        "CRF_mean, RF_mean, Svr_poly_mean, KNN_lst_mean = round(CRF_mean,2), round(RF_mean,2), round(Svr_poly_mean,2), round(KNN_lst_mean,2)\n",
        "CRF_std, RF_std, Svr_poly_std, KNN_std =  np.std(CRF_lst), np.std(RF_lst), np.std(Svr_poly_lst), np.std(KNN_lst)\n",
        "CRF_std, RF_std, Svr_poly_std, KNN_std = round(CRF_std,2), round(RF_std,2), round(Svr_poly_std,2), round(KNN_std,2)\n",
        "\n",
        "print(\"==============================================================================\")\n",
        "print(\"평균과 편차 계산\")\n",
        "\n",
        "#average\n",
        "print(\"             %Prediction average, Tree \", CRF_mean,  \" Random Forest \", RF_mean,\" SVM-Poly \", Svr_poly_mean, \"KNN \", KNN_lst_mean)\n",
        "\n",
        "#deviation\n",
        "print(\"             %Prediction deviation, Tree \", CRF_std,  \" Random Forest \", RF_std,\" SVM-Poly \", Svr_poly_std, \"KNN \", KNN_std)"
      ]
    },
    {
      "cell_type": "markdown",
      "metadata": {
        "id": "tWnd3WQ6Nic-"
      },
      "source": [
        "**모델 B**\n",
        "\n",
        "> 기능 선택 및 데이터 분할\n",
        "1. 모델 B의 특징 선택 및 데이터 분할은 모델 A와 동일합니다. 유일한 차이점은 변수 이름입니다.\n",
        "\n",
        ">모델 B 정확도\n",
        "1. 모델 A와의 차이점. 정확도는 \"랜덤포레스트\" 가 가장 높고 \"Poly-SVM\"이 두번째로 높은 평균 정확도이이며, K-최근접 이웃과는 약간의 차이가 있음을 보여줍니다.\n",
        "2. \"의사결정나무\"는 가장 높은 순위에서 가장 낮은 순위까지 변화가 가장 많은 순위입니다. 동일한 출력 열의 각 지점 값이 발생한 이유는 큰 차이 때문일 수 있습니다."
      ]
    },
    {
      "cell_type": "code",
      "execution_count": null,
      "metadata": {
        "colab": {
          "base_uri": "https://localhost:8080/"
        },
        "execution": {
          "iopub.execute_input": "2021-02-20T14:12:07.482316Z",
          "iopub.status.busy": "2021-02-20T14:12:07.481553Z",
          "iopub.status.idle": "2021-02-20T14:12:47.761283Z",
          "shell.execute_reply": "2021-02-20T14:12:47.761805Z"
        },
        "id": "DaQg0nAt1yAp",
        "outputId": "3588787d-6d6d-4a54-835f-1c702c7326bb",
        "papermill": {
          "duration": 40.31208,
          "end_time": "2021-02-20T14:12:47.762012",
          "exception": false,
          "start_time": "2021-02-20T14:12:07.449932",
          "status": "completed"
        },
        "tags": []
      },
      "outputs": [
        {
          "name": "stdout",
          "output_type": "stream",
          "text": [
            "********************************Prediction model B (Stage 2)*******************************\n",
            "Stage2.Output.Measurement0.U.Actual      Total feature ( 16 ) Selected feature 15\n",
            "             %Prediction accuracy, Tree  4.52 Random Forest 51.01  SVM-Poly  47.31 KNN  32.08\n",
            "Stage2.Output.Measurement1.U.Actual      Total feature ( 16 ) Selected feature 14\n",
            "             %Prediction accuracy, Tree  15.16 Random Forest 56.86  SVM-Poly  40.63 KNN  38.08\n",
            "Stage2.Output.Measurement2.U.Actual      Total feature ( 16 ) Selected feature 13\n",
            "             %Prediction accuracy, Tree  62.12 Random Forest 80.08  SVM-Poly  68.83 KNN  62.61\n",
            "Stage2.Output.Measurement3.U.Actual      Total feature ( 16 ) Selected feature 14\n",
            "             %Prediction accuracy, Tree  71.59 Random Forest 80.71  SVM-Poly  29.08 KNN  33.88\n",
            "Stage2.Output.Measurement5.U.Actual      Total feature ( 16 ) Selected feature 14\n",
            "             %Prediction accuracy, Tree  46.16 Random Forest 67.54  SVM-Poly  65.98 KNN  50.44\n",
            "Stage2.Output.Measurement6.U.Actual      Total feature ( 16 ) Selected feature 15\n",
            "             %Prediction accuracy, Tree  18.31 Random Forest 42.64  SVM-Poly  39.77 KNN  13.75\n",
            "Stage2.Output.Measurement7.U.Actual      Total feature ( 16 ) Selected feature 14\n",
            "             %Prediction accuracy, Tree  33.24 Random Forest 61.26  SVM-Poly  54.17 KNN  48.30\n",
            "Stage2.Output.Measurement8.U.Actual      Total feature ( 16 ) Selected feature 14\n",
            "             %Prediction accuracy, Tree  38.41 Random Forest 69.83  SVM-Poly  65.32 KNN  47.49\n",
            "Stage2.Output.Measurement9.U.Actual      Total feature ( 16 ) Selected feature 15\n",
            "             %Prediction accuracy, Tree  74.75 Random Forest 87.04  SVM-Poly  79.95 KNN  76.00\n",
            "Stage2.Output.Measurement10.U.Actual      Total feature ( 16 ) Selected feature 15\n",
            "             %Prediction accuracy, Tree  80.99 Random Forest 88.08  SVM-Poly  82.29 KNN  63.74\n",
            "Stage2.Output.Measurement11.U.Actual      Total feature ( 16 ) Selected feature 15\n",
            "             %Prediction accuracy, Tree  82.04 Random Forest 90.09  SVM-Poly  85.67 KNN  66.84\n",
            "Stage2.Output.Measurement12.U.Actual      Total feature ( 16 ) Selected feature 14\n",
            "             %Prediction accuracy, Tree  81.16 Random Forest 88.97  SVM-Poly  82.58 KNN  66.26\n",
            "Stage2.Output.Measurement13.U.Actual      Total feature ( 16 ) Selected feature 14\n",
            "             %Prediction accuracy, Tree  67.03 Random Forest 83.88  SVM-Poly  80.43 KNN  65.94\n",
            "Stage2.Output.Measurement14.U.Actual      Total feature ( 16 ) Selected feature 14\n",
            "             %Prediction accuracy, Tree  36.75 Random Forest 60.99  SVM-Poly  48.54 KNN  44.64\n",
            "==============================================================================\n",
            "평균과 편차 계산\n",
            "             %Prediction average, Tree  50.87  Random Forest  72.07  SVM-Poly  62.18 KNN  50.72\n",
            "             %Prediction deviation, Tree  25.85  Random Forest  15.06  SVM-Poly  18.17 KNN  16.68\n"
          ]
        }
      ],
      "source": [
        "#make list about output for calculate mean and std\n",
        "CRFB_lst = []\n",
        "RFB_lst =[]\n",
        "Svr_polyB_lst = []\n",
        "KNNB_lst = []\n",
        "\n",
        "#Feature selection and prediction for model B\n",
        "print(\"********************************Prediction model B (Stage 2)*******************************\")\n",
        "for m in range (len(Output_BN)):\n",
        "    YBi = Output_BA.values [:,m];\n",
        "    # Backward Elimination #for feature selection\n",
        "    colsB = list(Input_BAN.columns)\n",
        "    pBmax = 1\n",
        "    while (len(colsB) > 0):\n",
        "       pB = []\n",
        "       X_2 = Input_AAN[colsB]\n",
        "       X_2 = sm.add_constant(X_2)\n",
        "       model = sm.OLS(YBi, X_2).fit()\n",
        "       pB = pd.Series(model.pvalues.values[1:], index=colsB)\n",
        "       pBmax = max(pB)\n",
        "       feature_with_p_maxB = pB.idxmax()\n",
        "       if (pBmax > 0.05):\n",
        "          colsB.remove(feature_with_p_maxB)\n",
        "       else:\n",
        "          break\n",
        "    selected_featuresB = colsB\n",
        "    #print(Output_BN[m], \"(Selected feature) =\", list(Input_BA.columns[colsB])) #list of selected feature model B\n",
        "    print(Output_BN[m],\"     Total feature\",\"(\",len(Input_BN),\")\",\"Selected feature\",len(selected_featuresB))\n",
        "    x_selectedB = Input_AA.values[:, selected_featuresB]\n",
        "    x_trainB, x_testB, y_trainB, y_testB = train_test_split(x_selectedB, YBi, test_size=0.3)\n",
        "\n",
        "    # SVM-poly\n",
        "    svr_polyB = make_pipeline(StandardScaler(), SVR(C=1.0, epsilon=0.2, kernel='poly', degree=3))\n",
        "    svr_polyB = svr_polyB.fit(x_trainB, y_trainB)\n",
        "    Svr_polyB = abs(svr_polyB.score(x_testB, y_testB))\n",
        "    Svr_polyB = \"{:.2f}\".format(Svr_polyB * 100)\n",
        "    Svr_polyB_lst.append(float(Svr_polyB))\n",
        "\n",
        "    # Decision tree\n",
        "    clfB = tree.DecisionTreeRegressor(max_features='auto')\n",
        "    clfB = clfB.fit(x_trainB, y_trainB)\n",
        "    CRFB = abs(clfB.score(x_testB, y_testB))\n",
        "    CRFB = \"{:.2f}\".format(CRFB * 100)\n",
        "    CRFB_lst.append(float(CRFB))\n",
        "\n",
        "    # Random Forest\n",
        "    rfB = RandomForestRegressor(n_estimators=100, random_state=42)\n",
        "    rfB = rfB.fit(x_trainB, y_trainB)\n",
        "    RFB = abs(rfB.score(x_testB, y_testB))\n",
        "    RFB = \"{:.2f}\".format(RFB * 100)\n",
        "    RFB_lst.append(float(RFB))\n",
        "\n",
        "    # KNN\n",
        "    neighB = KNeighborsRegressor(n_neighbors=5, weights='distance', algorithm='auto', leaf_size=30, p=2,\n",
        "                                metric='minkowski', metric_params=None, n_jobs=None)\n",
        "    neighB = neighB.fit(x_trainB, y_trainB)\n",
        "    KNNB = abs(neighB.score(x_testB, y_testB))\n",
        "    KNNB = \"{:.2f}\".format(KNNB * 100)\n",
        "    KNNB_lst.append(float(KNNB))\n",
        "\n",
        "    # Accuracy\n",
        "    print(\"             %Prediction accuracy,\", \"Tree \", CRFB, \"Random Forest\", RFB,\" SVM-Poly \", Svr_polyB, \"KNN \", KNNB)\n",
        "\n",
        "\n",
        "CRFB_mean, RFB_mean, Svr_polyB_mean, KNNB_lst_mean = np.mean(CRFB_lst),  np.mean(RFB_lst), np.mean(Svr_polyB_lst), np.mean(KNNB_lst)\n",
        "CRFB_mean, RFB_mean, Svr_polyB_mean, KNNB_lst_mean = round(CRFB_mean,2), round(RFB_mean,2), round(Svr_polyB_mean,2), round(KNNB_lst_mean,2)\n",
        "CRFB_std, RFB_std, Svr_polyB_std, KNNB_std =  np.std(CRFB_lst), np.std(RFB_lst), np.std(Svr_polyB_lst), np.std(KNNB_lst)\n",
        "CRFB_std, RFB_std, Svr_polyB_std, KNNB_std = round(CRFB_std,2), round(RFB_std,2), round(Svr_polyB_std,2), round(KNNB_std,2)\n",
        "\n",
        "print(\"==============================================================================\")\n",
        "print(\"평균과 편차 계산\")\n",
        "\n",
        "#average\n",
        "print(\"             %Prediction average, Tree \", CRFB_mean,  \" Random Forest \", RFB_mean,\" SVM-Poly \", Svr_polyB_mean, \"KNN \", KNNB_lst_mean)\n",
        "\n",
        "#deviation\n",
        "print(\"             %Prediction deviation, Tree \", CRFB_std,  \" Random Forest \", RFB_std,\" SVM-Poly \", Svr_polyB_std, \"KNN \", KNNB_std)"
      ]
    },
    {
      "cell_type": "markdown",
      "metadata": {
        "id": "EKHWQCEXNt04"
      },
      "source": [
        "**모델 C**\n",
        "\n",
        "> 기능 선택 및 데이터 분할\n",
        "1. 모델 C 기능 선택 및 데이터 분할은 모델 A와 동일합니다. 유일한 차이점은 변수 이름입니다.\n",
        "\n",
        ">모델 C 정확도\n",
        "1. 모든 알고리즘의 평균 정확도가 모델 B보다 높은 것으로 나타났습니다. 이는 1단계 출력이 2단계 출력에 큰 영향을 미친다는 것을 의미합니다.\n",
        "2. 모델 C에서 가장 높은 평균 정확도는 \"랜덤포레스트\"이고, \"K-최근접 이웃\"입니다. 랜덤포레스트를 제외한 3개의 예측 알고리즘은 순위가 계속 바뀌고 있습니다. 어떤 경우에 어떤 알고리즘이 가장 좋은 성능을 보일지 알 수 없기에 이렇게 여러가지고 예측결과를 보고 가장 좋은 성능을 나오는 걸 고르는 것이 좋습니다."
      ]
    },
    {
      "cell_type": "code",
      "execution_count": null,
      "metadata": {
        "colab": {
          "base_uri": "https://localhost:8080/"
        },
        "execution": {
          "iopub.execute_input": "2021-02-20T14:12:47.914671Z",
          "iopub.status.busy": "2021-02-20T14:12:47.913500Z",
          "iopub.status.idle": "2021-02-20T14:15:12.388159Z",
          "shell.execute_reply": "2021-02-20T14:15:12.388922Z"
        },
        "id": "JFyyJLDk1yAp",
        "outputId": "188dedda-26bc-4f2b-f0c2-2d225bb22354",
        "papermill": {
          "duration": 144.526392,
          "end_time": "2021-02-20T14:15:12.389202",
          "exception": false,
          "start_time": "2021-02-20T14:12:47.862810",
          "status": "completed"
        },
        "tags": []
      },
      "outputs": [
        {
          "name": "stdout",
          "output_type": "stream",
          "text": [
            "*********************Prediction model C (Output Stage 1 sent to input stage 2 )*************\n",
            "Stage2.Output.Measurement0.U.Actual      Total feature ( 25 ) Selected feature 17\n",
            "             %Prediction accuracy, Tree  35.10 Random Forest 54.67  SVM-Poly  38.87 KNN  45.01\n",
            "Stage2.Output.Measurement1.U.Actual      Total feature ( 25 ) Selected feature 17\n",
            "             %Prediction accuracy, Tree  30.00 Random Forest 58.87  SVM-Poly  408.55 KNN  52.88\n",
            "Stage2.Output.Measurement2.U.Actual      Total feature ( 25 ) Selected feature 18\n",
            "             %Prediction accuracy, Tree  70.82 Random Forest 81.99  SVM-Poly  72.68 KNN  78.16\n",
            "Stage2.Output.Measurement3.U.Actual      Total feature ( 25 ) Selected feature 20\n",
            "             %Prediction accuracy, Tree  75.50 Random Forest 84.49  SVM-Poly  27.19 KNN  81.33\n",
            "Stage2.Output.Measurement5.U.Actual      Total feature ( 25 ) Selected feature 20\n",
            "             %Prediction accuracy, Tree  67.42 Random Forest 71.59  SVM-Poly  11.09 KNN  68.15\n",
            "Stage2.Output.Measurement6.U.Actual      Total feature ( 25 ) Selected feature 16\n",
            "             %Prediction accuracy, Tree  11.82 Random Forest 46.14  SVM-Poly  28.22 KNN  32.25\n",
            "Stage2.Output.Measurement7.U.Actual      Total feature ( 25 ) Selected feature 18\n",
            "             %Prediction accuracy, Tree  34.85 Random Forest 65.05  SVM-Poly  30.26 KNN  61.20\n",
            "Stage2.Output.Measurement8.U.Actual      Total feature ( 25 ) Selected feature 18\n",
            "             %Prediction accuracy, Tree  45.30 Random Forest 70.23  SVM-Poly  31.96 KNN  66.87\n",
            "Stage2.Output.Measurement9.U.Actual      Total feature ( 25 ) Selected feature 23\n",
            "             %Prediction accuracy, Tree  80.27 Random Forest 87.87  SVM-Poly  43.69 KNN  82.02\n",
            "Stage2.Output.Measurement10.U.Actual      Total feature ( 25 ) Selected feature 25\n",
            "             %Prediction accuracy, Tree  84.25 Random Forest 89.88  SVM-Poly  75.66 KNN  87.22\n",
            "Stage2.Output.Measurement11.U.Actual      Total feature ( 25 ) Selected feature 24\n",
            "             %Prediction accuracy, Tree  84.49 Random Forest 90.68  SVM-Poly  58.40 KNN  86.83\n",
            "Stage2.Output.Measurement12.U.Actual      Total feature ( 25 ) Selected feature 23\n",
            "             %Prediction accuracy, Tree  81.62 Random Forest 87.27  SVM-Poly  27.93 KNN  85.00\n",
            "Stage2.Output.Measurement13.U.Actual      Total feature ( 25 ) Selected feature 18\n",
            "             %Prediction accuracy, Tree  83.02 Random Forest 87.50  SVM-Poly  45.66 KNN  85.27\n",
            "Stage2.Output.Measurement14.U.Actual      Total feature ( 25 ) Selected feature 17\n",
            "             %Prediction accuracy, Tree  37.30 Random Forest 64.64  SVM-Poly  19.26 KNN  60.82\n",
            "==============================================================================\n",
            "평균과 편차 계산\n",
            "             %Prediction average, Tree  58.7  Random Forest  74.35  SVM-Poly  65.67 KNN  69.5\n",
            "             %Prediction deviation, Tree  24.19  Random Forest  14.19  SVM-Poly  96.81 KNN  16.67\n"
          ]
        }
      ],
      "source": [
        "#make list about output for calculate mean and std\n",
        "CRFC_lst = []\n",
        "RFC_lst =[]\n",
        "Svr_polyC_lst = []\n",
        "KNNC_lst = []\n",
        "\n",
        "print(\"*********************Prediction model C (Output Stage 1 sent to input stage 2 )*************\")\n",
        "for r in range (len(Output_BN)):\n",
        "    YCi = Output_CA.values [:,r];\n",
        "    # Backward Elimination #for feature selection\n",
        "    colsC = list(Input_CAN.columns)\n",
        "    pCmax = 1\n",
        "    while (len(colsC) > 0):\n",
        "       pC = []\n",
        "       X_3 = Input_CAN[colsC]\n",
        "       X_3 = sm.add_constant(X_3)\n",
        "       model = sm.OLS(YCi, X_3).fit()\n",
        "       pC = pd.Series(model.pvalues.values[1:], index=colsC)\n",
        "       pCmax = max(pC)\n",
        "       feature_with_p_maxC = pC.idxmax()\n",
        "       if (pCmax > 0.05):\n",
        "          colsC.remove(feature_with_p_maxC)\n",
        "       else:\n",
        "          break\n",
        "    selected_featuresC = colsC\n",
        "    #print(Output_BN[r], \"(Selected feature) =\", list(Input_CA.columns[colsC])) #list of selected feature model C\n",
        "    print(Output_BN[r],\"     Total feature\",\"(\",len(Input_CN),\")\",\"Selected feature\",len(selected_featuresC))\n",
        "    x_selectedC = Input_CA.values[:, selected_featuresC]\n",
        "    x_trainC, x_testC, y_trainC, y_testC = train_test_split(x_selectedC, YCi, test_size=0.3)\n",
        "\n",
        "    # SVM-poly\n",
        "    svr_polyC = make_pipeline(StandardScaler(), SVR(C=1.0, epsilon=0.2, kernel='poly', degree=3))\n",
        "    svr_polyC = svr_polyC.fit(x_trainC, y_trainC)\n",
        "    Svr_polyC = abs(svr_polyC.score(x_testC, y_testC))\n",
        "    Svr_polyC = \"{:.2f}\".format(Svr_polyC * 100)\n",
        "    Svr_polyC_lst.append(float(Svr_polyC))\n",
        "\n",
        "    # Decision tree\n",
        "    clfC = tree.DecisionTreeRegressor(max_features='auto')\n",
        "    clfC = clfC.fit(x_trainC, y_trainC)\n",
        "    CRFC = abs(clfC.score(x_testC, y_testC))\n",
        "    CRFC = \"{:.2f}\".format(CRFC * 100)\n",
        "    CRFC_lst.append(float(CRFC))\n",
        "\n",
        "    # Random Forest\n",
        "    rfC = RandomForestRegressor(n_estimators=100, random_state=42)\n",
        "    rfC = rf.fit(x_trainC, y_trainC)\n",
        "    RFC = abs(rf.score(x_testC, y_testC))\n",
        "    RFC = \"{:.2f}\".format(RFC * 100)\n",
        "    RFC_lst.append(float(RFC))\n",
        "\n",
        "    # KNN\n",
        "    neighC = KNeighborsRegressor(n_neighbors=5, weights='distance', algorithm='auto', leaf_size=30, p=2,\n",
        "                                metric='minkowski', metric_params=None, n_jobs=None)\n",
        "    neighC = neighC.fit(x_trainC, y_trainC)\n",
        "    KNNC = abs(neighC.score(x_testC, y_testC))\n",
        "    KNNC = \"{:.2f}\".format(KNNC * 100)\n",
        "    KNNC_lst.append(float(KNNC))\n",
        "\n",
        "    # Accuracy\n",
        "    print(\"             %Prediction accuracy,\", \"Tree \", CRFC, \"Random Forest\", RFC,\" SVM-Poly \", Svr_polyC, \"KNN \", KNNC)\n",
        "\n",
        "\n",
        "CRFC_mean, RFC_mean, Svr_polyC_mean, KNNC_lst_mean = np.mean(CRFC_lst),  np.mean(RFC_lst), np.mean(Svr_polyC_lst), np.mean(KNNC_lst)\n",
        "CRFC_mean, RFC_mean, Svr_polyC_mean, KNNC_lst_mean = round(CRFC_mean,2), round(RFC_mean,2), round(Svr_polyC_mean,2), round(KNNC_lst_mean,2)\n",
        "CRFC_std, RFC_std, Svr_polyC_std, KNNC_std =  np.std(CRFC_lst), np.std(RFC_lst), np.std(Svr_polyC_lst), np.std(KNNC_lst)\n",
        "CRFC_std, RFC_std, Svr_polyC_std, KNNC_std = round(CRFC_std,2), round(RFC_std,2), round(Svr_polyC_std,2), round(KNNC_std,2)\n",
        "\n",
        "print(\"==============================================================================\")\n",
        "print(\"평균과 편차 계산\")\n",
        "\n",
        "#average\n",
        "print(\"             %Prediction average, Tree \", CRFC_mean,  \" Random Forest \", RFC_mean,\" SVM-Poly \", Svr_polyC_mean, \"KNN \", KNNC_lst_mean)\n",
        "\n",
        "#deviation\n",
        "print(\"             %Prediction deviation, Tree \", CRFC_std,  \" Random Forest \", RFC_std,\" SVM-Poly \", Svr_polyC_std, \"KNN \", KNNC_std)"
      ]
    },
    {
      "cell_type": "markdown",
      "metadata": {
        "id": "kQG2Ne6r1yAq",
        "papermill": {
          "duration": 0.039065,
          "end_time": "2021-02-20T14:15:12.468772",
          "exception": false,
          "start_time": "2021-02-20T14:15:12.429707",
          "status": "completed"
        },
        "tags": []
      },
      "source": [
        "처리 시간은 예측 모델을 계산하는 데 걸리는 시간을 보여줍니다."
      ]
    },
    {
      "cell_type": "code",
      "execution_count": null,
      "metadata": {
        "colab": {
          "base_uri": "https://localhost:8080/"
        },
        "execution": {
          "iopub.execute_input": "2021-02-20T14:15:12.554466Z",
          "iopub.status.busy": "2021-02-20T14:15:12.553571Z",
          "iopub.status.idle": "2021-02-20T14:15:12.556785Z",
          "shell.execute_reply": "2021-02-20T14:15:12.557407Z"
        },
        "id": "vl8T3Vd_1yAq",
        "outputId": "955ef1a0-7562-413c-b696-03d1492d6ae3",
        "papermill": {
          "duration": 0.049421,
          "end_time": "2021-02-20T14:15:12.557584",
          "exception": false,
          "start_time": "2021-02-20T14:15:12.508163",
          "status": "completed"
        },
        "tags": []
      },
      "outputs": [
        {
          "name": "stdout",
          "output_type": "stream",
          "text": [
            "Process time 332.70  sec\n"
          ]
        }
      ],
      "source": [
        "#Finish process time\n",
        "finish_time = time.time()\n",
        "time = finish_time-start_time\n",
        "print('Process time', \"{:.2f}\".format(time),\" sec\")"
      ]
    }
  ],
  "metadata": {
    "colab": {
      "provenance": []
    },
    "kernelspec": {
      "display_name": "Python 3",
      "language": "python",
      "name": "python3"
    },
    "language_info": {
      "codemirror_mode": {
        "name": "ipython",
        "version": 3
      },
      "file_extension": ".py",
      "mimetype": "text/x-python",
      "name": "python",
      "nbconvert_exporter": "python",
      "pygments_lexer": "ipython3",
      "version": "3.7.9"
    },
    "papermill": {
      "default_parameters": {},
      "duration": 239.108231,
      "end_time": "2021-02-20T14:15:13.409509",
      "environment_variables": {},
      "exception": null,
      "input_path": "__notebook__.ipynb",
      "output_path": "__notebook__.ipynb",
      "parameters": {},
      "start_time": "2021-02-20T14:11:14.301278",
      "version": "2.2.2"
    }
  },
  "nbformat": 4,
  "nbformat_minor": 0
}
