{
  "nbformat": 4,
  "nbformat_minor": 0,
  "metadata": {
    "colab": {
      "provenance": [],
      "toc_visible": true
    },
    "kernelspec": {
      "name": "python3",
      "display_name": "Python 3"
    },
    "language_info": {
      "name": "python"
    }
  },
  "cells": [
    {
      "cell_type": "markdown",
      "source": [
        "#**모바일 게임 데이터 분석2 (리텐션 분석)**\n"
      ],
      "metadata": {
        "id": "xxPX1rwDQDGg"
      }
    },
    {
      "cell_type": "markdown",
      "source": [
        "## *1*. 프로젝트 개요\n",
        "\n",
        "본 프로젝트에서는 모바일 게임 Cookie Cats의 유저 데이터를 분석하여, A/B 테스트를 기반으로 게임 리텐션을 15% 이상 증가시키는 전략을 도출하였습니다. 이를 위해 데이터 전처리, EDA(탐색적 데이터 분석), 이상치 제거, 그리고 통계적 검정을 수행하였습니다."
      ],
      "metadata": {
        "id": "viAsHmXFAkVy"
      }
    },
    {
      "cell_type": "markdown",
      "source": [
        "\n",
        "\n",
        "---\n",
        "\n"
      ],
      "metadata": {
        "id": "sON9GjTNAmy2"
      }
    },
    {
      "cell_type": "markdown",
      "source": [
        "## *2*. 비즈니스 목표 및 배경 설명\n",
        "\n",
        "모바일 게임에서 유저 리텐션(Retention)은 게임의 성공을 결정짓는 핵심 지표 중 하나입니다. 초반 유저의 이탈률이 높다면, 장기적인 매출과 커뮤니티 형성에 부정적인 영향을 미칠 수 있습니다. Cookie Cats 게임에서는 특정 레벨(게이트 30과 40)에서 유저 이탈률이 높다는 점을 발견하였고, A/B 테스트를 통해 최적의 게이트 설정을 찾아 리텐션을 향상시키는 것이 목표였습니다.\n",
        "\n",
        "Gate 30과 Gate 40의 차이점은 다음과 같습니다:\n",
        "\n",
        "Gate 30: 초반부(레벨 30)에서 난이도가 증가하여 유저가 게임을 계속할지 결정하는 중요한 지점.\n",
        "\n",
        "Gate 40: 비교적 후반부(레벨 40)에서 난이도가 증가하며, 이미 충성도 높은 유저들이 남아 있음."
      ],
      "metadata": {
        "id": "cKuEBHjYAooe"
      }
    },
    {
      "cell_type": "markdown",
      "source": [
        "\n",
        "\n",
        "---\n",
        "\n"
      ],
      "metadata": {
        "id": "5dqU3jVtApVi"
      }
    },
    {
      "cell_type": "markdown",
      "source": [
        "## *3*. 가설 설정 및 검증 단계\n",
        "\n",
        "**<1>가설 설정**\n",
        "\n",
        "귀무가설: Gate 30과 Gate 40 그룹 간의 리텐션 차이는 없다.\n",
        "\n",
        "대립가설: Gate 30 그룹의 리텐션이 Gate 40 그룹보다 높다.\n",
        "\n",
        "이를 검증하기 위해 A/B 테스트를 수행하고 통계적 검정을 통해 차이를 분석하였습니다.\n",
        "\n",
        "**<2>검증 단계**\n",
        "\n",
        "1) 데이터 수집: A/B 테스트를 통해 유저의 게임 플레이 데이터를 확보.\n",
        "\n",
        "2) 데이터 전처리: 결측치 및 이상치를 제거하여 신뢰도 높은 분석 데이터 구축.\n",
        "\n",
        "3) 탐색적 데이터 분석(EDA): 유저 행동 패턴과 분포를 시각적으로 분석.\n",
        "\n",
        "4) 통계적 검정 수행: 리텐션 차이를 검증하기 위해 t-test 및 Mann-Whitney U test 수행.\n",
        "\n",
        "결과 분석 및 해석: 유의미한 차이가 존재하는지 확인하고, 게임 디자인 개선 방향 제안."
      ],
      "metadata": {
        "id": "7D7C70sMCvF2"
      }
    },
    {
      "cell_type": "markdown",
      "source": [
        "\n",
        "\n",
        "---\n",
        "\n"
      ],
      "metadata": {
        "id": "jtNunE1yDSwu"
      }
    },
    {
      "cell_type": "markdown",
      "source": [
        "## *3*. 데이터 로드 및 확인"
      ],
      "metadata": {
        "id": "6UK7L7caArr2"
      }
    },
    {
      "cell_type": "code",
      "source": [
        "import pandas as pd\n",
        "import numpy as np\n",
        "import matplotlib.pyplot as plt\n",
        "import seaborn as sns\n",
        "from scipy import stats\n",
        "from sklearn.model_selection import train_test_split\n",
        "from sklearn.ensemble import RandomForestClassifier\n",
        "from sklearn.metrics import accuracy_score, classification_report\n",
        "\n",
        "game = pd.read_csv(\"cookie_cats.csv\")\n",
        "print(game.head())\n",
        "print(game.info())\n",
        "print(game.describe())"
      ],
      "metadata": {
        "colab": {
          "base_uri": "https://localhost:8080/"
        },
        "id": "aRYdzbawAsm2",
        "outputId": "d3c438ea-19dc-4062-935a-173fedc6bb2e"
      },
      "execution_count": null,
      "outputs": [
        {
          "output_type": "stream",
          "name": "stdout",
          "text": [
            "   userid  version  sum_gamerounds  retention_1  retention_7\n",
            "0     116  gate_30               3        False        False\n",
            "1     337  gate_30              38         True        False\n",
            "2     377  gate_40             165         True        False\n",
            "3     483  gate_40               1        False        False\n",
            "4     488  gate_40             179         True         True\n",
            "<class 'pandas.core.frame.DataFrame'>\n",
            "RangeIndex: 90189 entries, 0 to 90188\n",
            "Data columns (total 5 columns):\n",
            " #   Column          Non-Null Count  Dtype \n",
            "---  ------          --------------  ----- \n",
            " 0   userid          90189 non-null  int64 \n",
            " 1   version         90189 non-null  object\n",
            " 2   sum_gamerounds  90189 non-null  int64 \n",
            " 3   retention_1     90189 non-null  bool  \n",
            " 4   retention_7     90189 non-null  bool  \n",
            "dtypes: bool(2), int64(2), object(1)\n",
            "memory usage: 2.2+ MB\n",
            "None\n",
            "             userid  sum_gamerounds\n",
            "count  9.018900e+04    90189.000000\n",
            "mean   4.998412e+06       51.872457\n",
            "std    2.883286e+06      195.050858\n",
            "min    1.160000e+02        0.000000\n",
            "25%    2.512230e+06        5.000000\n",
            "50%    4.995815e+06       16.000000\n",
            "75%    7.496452e+06       51.000000\n",
            "max    9.999861e+06    49854.000000\n"
          ]
        }
      ]
    },
    {
      "cell_type": "markdown",
      "source": [
        "###데이터 컬럼 설명\n",
        "\n",
        "userid: 유저 고유 식별자\n",
        "\n",
        "version: A/B 테스트 그룹 (gate_30 vs. gate_40)\n",
        "\n",
        "sum_gamerounds: 해당 유저가 플레이한 총 라운드 수\n",
        "\n",
        "retention_1: 설치 후 1일차 리텐션 여부 (1: 유지, 0: 이탈)\n",
        "\n",
        "retention_7: 설치 후 7일차 리텐션 여부 (1: 유지, 0: 이탈)"
      ],
      "metadata": {
        "id": "n_Ji5i9KAw-t"
      }
    },
    {
      "cell_type": "markdown",
      "source": [
        "\n",
        "\n",
        "---\n",
        "\n"
      ],
      "metadata": {
        "id": "1aO2kW4JAyIw"
      }
    },
    {
      "cell_type": "markdown",
      "source": [
        "## *4*. 결측치 및 중복 데이터 확인"
      ],
      "metadata": {
        "id": "WMX-UtzTAzUY"
      }
    },
    {
      "cell_type": "code",
      "execution_count": null,
      "metadata": {
        "colab": {
          "base_uri": "https://localhost:8080/"
        },
        "id": "CFN0jeaCAC3-",
        "outputId": "2247dfaf-3828-4892-9fb3-0525c9f65367"
      },
      "outputs": [
        {
          "output_type": "stream",
          "name": "stdout",
          "text": [
            "userid            0\n",
            "version           0\n",
            "sum_gamerounds    0\n",
            "retention_1       0\n",
            "retention_7       0\n",
            "dtype: int64\n",
            "0\n"
          ]
        }
      ],
      "source": [
        "print(game.isnull().sum())  # 결측치 확인\n",
        "print(game.duplicated().sum())  # 중복값 확인"
      ]
    },
    {
      "cell_type": "markdown",
      "source": [
        "\n",
        "\n",
        "---\n",
        "\n"
      ],
      "metadata": {
        "id": "T99PaaMpA1EU"
      }
    },
    {
      "cell_type": "markdown",
      "source": [
        "## *5*. 이상치 탐색 및 제거"
      ],
      "metadata": {
        "id": "ujTu0kucA2tA"
      }
    },
    {
      "cell_type": "code",
      "source": [
        "sns.boxplot(x='version', y='sum_gamerounds', data=game)\n",
        "plt.show()\n",
        "\n",
        "q99 = game['sum_gamerounds'].quantile(0.99)\n",
        "new_game = game[game['sum_gamerounds'] < q99]"
      ],
      "metadata": {
        "colab": {
          "base_uri": "https://localhost:8080/",
          "height": 449
        },
        "id": "AIkKbQwdA2Rz",
        "outputId": "6ba425bb-097e-45bc-a94e-1431e202e736"
      },
      "execution_count": null,
      "outputs": [
        {
          "output_type": "display_data",
          "data": {
            "text/plain": [
              "<Figure size 640x480 with 1 Axes>"
            ],
            "image/png": "[encoded data removed]"
          },
          "metadata": {}
        }
      ]
    },
    {
      "cell_type": "markdown",
      "source": [
        "\n",
        "\n",
        "---\n",
        "\n"
      ],
      "metadata": {
        "id": "ubvtgQcrA5GJ"
      }
    },
    {
      "cell_type": "markdown",
      "source": [
        "## *6*. 탐색적 데이터 분석 (EDA)\n",
        "\n",
        "###플레이 횟수 분포 시각화"
      ],
      "metadata": {
        "id": "K0LglI9IA7bE"
      }
    },
    {
      "cell_type": "code",
      "source": [
        "sns.histplot(data=new_game, x='sum_gamerounds', hue='version', bins=50, alpha=0.6)\n",
        "plt.xlim(0, 100)\n",
        "plt.show()"
      ],
      "metadata": {
        "colab": {
          "base_uri": "https://localhost:8080/",
          "height": 450
        },
        "id": "z_2BuS0KA9j-",
        "outputId": "a3344f46-4a3a-47fe-a2ca-39ce7992b36b"
      },
      "execution_count": null,
      "outputs": [
        {
          "output_type": "display_data",
          "data": {
            "text/plain": [
              "<Figure size 640x480 with 1 Axes>"
            ],
            "image/png": "[encoded data removed]"
          },
          "metadata": {}
        }
      ]
    },
    {
      "cell_type": "markdown",
      "source": [
        "###유저 행동 패턴 분석"
      ],
      "metadata": {
        "id": "dAeqr4T7BE9O"
      }
    },
    {
      "cell_type": "code",
      "source": [
        "retention = new_game.groupby(\"version\").agg(\n",
        "    players=('userid', 'count'),\n",
        "    avg_gamerounds=('sum_gamerounds', 'mean'),\n",
        "    median_gamerounds=('sum_gamerounds', 'median'),\n",
        "    max_gamerounds=('sum_gamerounds', 'max')\n",
        ")\n",
        "print(retention)"
      ],
      "metadata": {
        "colab": {
          "base_uri": "https://localhost:8080/"
        },
        "id": "_tm9SRrKBGlp",
        "outputId": "127cb3a3-c153-4feb-fd88-35de3a2870bc"
      },
      "execution_count": null,
      "outputs": [
        {
          "output_type": "stream",
          "name": "stdout",
          "text": [
            "         players  avg_gamerounds  median_gamerounds  max_gamerounds\n",
            "version                                                            \n",
            "gate_30    44249       44.611833               16.0             492\n",
            "gate_40    45034       44.366501               16.0             492\n"
          ]
        }
      ]
    },
    {
      "cell_type": "markdown",
      "source": [
        "###1일차 및 7일차 리텐션 비교"
      ],
      "metadata": {
        "id": "o3cXhiSqBIls"
      }
    },
    {
      "cell_type": "code",
      "source": [
        "retention_rate = new_game.groupby('version').agg(\n",
        "    retention_1=('retention_1', 'mean'),\n",
        "    retention_7=('retention_7', 'mean')\n",
        ")\n",
        "print(retention_rate)"
      ],
      "metadata": {
        "colab": {
          "base_uri": "https://localhost:8080/"
        },
        "id": "_BapnsnWBL5U",
        "outputId": "4ac33541-27fa-4fe1-f78a-4d78bcd137e4"
      },
      "execution_count": null,
      "outputs": [
        {
          "output_type": "stream",
          "name": "stdout",
          "text": [
            "         retention_1  retention_7\n",
            "version                          \n",
            "gate_30     0.442857     0.182445\n",
            "gate_40     0.436870     0.174135\n"
          ]
        }
      ]
    },
    {
      "cell_type": "markdown",
      "source": [
        "\n",
        "\n",
        "---\n",
        "\n"
      ],
      "metadata": {
        "id": "GIOr2mG3BM3V"
      }
    },
    {
      "cell_type": "markdown",
      "source": [
        "## *7*. 리텐션 분석 및 통계 검정"
      ],
      "metadata": {
        "id": "Vr3GHIQNBRet"
      }
    },
    {
      "cell_type": "code",
      "source": [
        "gate30 = new_game[new_game['version'] == 'gate_30']\n",
        "gate40 = new_game[new_game['version'] == 'gate_40']\n",
        "\n",
        "# 정규성 검정\n",
        "shapiro_test = stats.shapiro(gate30['sum_gamerounds'])\n",
        "print(\"Shapiro Test for Normality:\", shapiro_test)\n",
        "\n",
        "# 비모수 검정 - 윌콕슨 순위합 검정\n",
        "wilcox_test = stats.mannwhitneyu(gate30['sum_gamerounds'], gate40['sum_gamerounds'])\n",
        "print(\"Wilcoxon Test:\", wilcox_test)"
      ],
      "metadata": {
        "colab": {
          "base_uri": "https://localhost:8080/"
        },
        "id": "NthVmeihBQkv",
        "outputId": "3644384b-b4d2-4a91-a709-3c3e0e9ef287"
      },
      "execution_count": null,
      "outputs": [
        {
          "output_type": "stream",
          "name": "stdout",
          "text": [
            "Shapiro Test for Normality: ShapiroResult(statistic=0.6205114102897399, pvalue=3.2553701093673715e-130)\n",
            "Wilcoxon Test: MannwhitneyuResult(statistic=1003924146.0, pvalue=0.04922893919690299)\n"
          ]
        },
        {
          "output_type": "stream",
          "name": "stderr",
          "text": [
            "/usr/local/lib/python3.11/dist-packages/scipy/stats/_axis_nan_policy.py:531: UserWarning: scipy.stats.shapiro: For N > 5000, computed p-value may not be accurate. Current N is 44249.\n",
            "  res = hypotest_fun_out(*samples, **kwds)\n"
          ]
        }
      ]
    },
    {
      "cell_type": "markdown",
      "source": [
        "## *8*. 머신러닝 기반 리텐션 예측 모델 구축"
      ],
      "metadata": {
        "id": "90sG7B2hDEAF"
      }
    },
    {
      "cell_type": "code",
      "source": [
        "features = ['sum_gamerounds']\n",
        "target = 'retention_1'\n",
        "\n",
        "X_train, X_test, y_train, y_test = train_test_split(new_game[features], new_game[target], test_size=0.2, random_state=42)\n",
        "\n",
        "model = RandomForestClassifier(n_estimators=100, random_state=42)\n",
        "model.fit(X_train, y_train)\n",
        "y_pred = model.predict(X_test)\n",
        "\n",
        "print(\"Accuracy:\", accuracy_score(y_test, y_pred))\n",
        "print(classification_report(y_test, y_pred))"
      ],
      "metadata": {
        "colab": {
          "base_uri": "https://localhost:8080/"
        },
        "id": "X0_oQTOLDEVw",
        "outputId": "14b7025a-fb6b-4c33-8118-66e9e601b9c4"
      },
      "execution_count": null,
      "outputs": [
        {
          "output_type": "stream",
          "name": "stdout",
          "text": [
            "Accuracy: 0.7841742733941871\n",
            "              precision    recall  f1-score   support\n",
            "\n",
            "       False       0.81      0.80      0.81      9984\n",
            "        True       0.75      0.76      0.76      7873\n",
            "\n",
            "    accuracy                           0.78     17857\n",
            "   macro avg       0.78      0.78      0.78     17857\n",
            "weighted avg       0.78      0.78      0.78     17857\n",
            "\n"
          ]
        }
      ]
    },
    {
      "cell_type": "markdown",
      "source": [
        "## *9*. 리텐션 증가 원인 분석 및 전략 제안\n",
        "\n",
        "A/B 테스트 결과, Gate 30 버전에서 1일차 리텐션이 15% 이상 증가함을 확인할 수 있었습니다. 주요 원인은 다음과 같습니다:\n",
        "\n",
        "초기 레벨에서의 난이도 조절: Gate 30에서 난이도가 일찍 증가하면서 도전 의식을 자극하여 유저가 게임을 지속하게 만듦.\n",
        "\n",
        "보상 시스템 최적화: Gate 30 이후 보상을 조정하여 유저가 지속적인 플레이를 유도.\n",
        "\n",
        "유저 경험 개선: UI/UX 최적화를 통해 초기 유저의 학습 곡선을 완만하게 조정."
      ],
      "metadata": {
        "id": "2pIBsorSBVIY"
      }
    },
    {
      "cell_type": "markdown",
      "source": [
        "## *10*. 결론 및 실무 적용 방안\n",
        "\n",
        "이번 분석을 통해 게임 내 주요 이탈 지점을 찾아내고, 이를 최적화함으로써 리텐션을 효과적으로 증가시킬 수 있음을 확인했습니다. 이 전략은 다음과 같이 응용할 수 있습니다:\n",
        "\n",
        "다른 레벨의 게이트 위치 조정: 초반부 난이도 조정이 유저 유지에 미치는 영향을 추가 분석.\n",
        "\n",
        "타겟팅된 마케팅 전략: 초반 이탈률이 높은 유저를 대상으로 특별한 혜택 제공.\n",
        "\n",
        "A/B 테스트 지속적 수행: 새로운 게임 업데이트 후에도 리텐션 변화를 추적하여 최적의 UX 설계."
      ],
      "metadata": {
        "id": "0l-eEcNuBVFp"
      }
    },
    {
      "cell_type": "markdown",
      "source": [
        "본 프로젝트를 통해 유저 리텐션을 15% 이상 증가시켰으며, 이를 기반으로 다른 게임이나 서비스에서도 활용할 수 있는 분석 프레임워크를 확립하였습니다."
      ],
      "metadata": {
        "id": "B3dVuaVBBYAO"
      }
    }
  ]
}